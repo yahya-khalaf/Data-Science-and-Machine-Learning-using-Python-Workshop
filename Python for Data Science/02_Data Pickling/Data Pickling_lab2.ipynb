{
 "cells": [
  {
   "cell_type": "markdown",
   "id": "d4b0cc43",
   "metadata": {},
   "source": [
    "### What is Pickling?\n",
    "\n",
    "    A process of serializing Python objects, transforming them into a byte stream that can be stored on disk or transmitted over a network.\n",
    "\n",
    "Essential for saving and loading large datasets or complex objects."
   ]
  },
  {
   "cell_type": "markdown",
   "id": "cc8ddff9",
   "metadata": {},
   "source": [
    "### Why Use Pickling?\n",
    "\n",
    "    Efficiency: Faster than reading from CSV or JSON files, especially for large datasets.\n",
    "    Preservation of Object Structure: Maintains the original structure and data types.\n",
    "    Cross-Session Persistence: Allows data to be used in different Python sessions."
   ]
  },
  {
   "cell_type": "markdown",
   "id": "bf78140c",
   "metadata": {},
   "source": [
    "### Data Preparation\n",
    "\n",
    "    Reading CSV Data:\n",
    "        Using pandas.read_csv to load the oil well data from the CSV file."
   ]
  },
  {
   "cell_type": "code",
   "execution_count": 1,
   "id": "5657ef83-8440-4e4e-8139-4aa867143a8a",
   "metadata": {
    "scrolled": true
   },
   "outputs": [
    {
     "data": {
      "text/html": [
       "<div>\n",
       "<style scoped>\n",
       "    .dataframe tbody tr th:only-of-type {\n",
       "        vertical-align: middle;\n",
       "    }\n",
       "\n",
       "    .dataframe tbody tr th {\n",
       "        vertical-align: top;\n",
       "    }\n",
       "\n",
       "    .dataframe thead th {\n",
       "        text-align: right;\n",
       "    }\n",
       "</style>\n",
       "<table border=\"1\" class=\"dataframe\">\n",
       "  <thead>\n",
       "    <tr style=\"text-align: right;\">\n",
       "      <th></th>\n",
       "      <th>well_id</th>\n",
       "      <th>latitude</th>\n",
       "      <th>longitude</th>\n",
       "      <th>production_rate</th>\n",
       "      <th>depth</th>\n",
       "      <th>age</th>\n",
       "      <th>well_type</th>\n",
       "    </tr>\n",
       "  </thead>\n",
       "  <tbody>\n",
       "    <tr>\n",
       "      <th>0</th>\n",
       "      <td>WELL-001</td>\n",
       "      <td>35.234</td>\n",
       "      <td>45.678</td>\n",
       "      <td>1000</td>\n",
       "      <td>10000</td>\n",
       "      <td>10</td>\n",
       "      <td>oil</td>\n",
       "    </tr>\n",
       "    <tr>\n",
       "      <th>1</th>\n",
       "      <td>WELL-002</td>\n",
       "      <td>34.987</td>\n",
       "      <td>46.123</td>\n",
       "      <td>800</td>\n",
       "      <td>9500</td>\n",
       "      <td>15</td>\n",
       "      <td>gas</td>\n",
       "    </tr>\n",
       "    <tr>\n",
       "      <th>2</th>\n",
       "      <td>WELL-003</td>\n",
       "      <td>35.567</td>\n",
       "      <td>45.890</td>\n",
       "      <td>1200</td>\n",
       "      <td>11000</td>\n",
       "      <td>8</td>\n",
       "      <td>oil</td>\n",
       "    </tr>\n",
       "    <tr>\n",
       "      <th>3</th>\n",
       "      <td>WELL-004</td>\n",
       "      <td>34.789</td>\n",
       "      <td>46.345</td>\n",
       "      <td>950</td>\n",
       "      <td>10500</td>\n",
       "      <td>12</td>\n",
       "      <td>both</td>\n",
       "    </tr>\n",
       "    <tr>\n",
       "      <th>4</th>\n",
       "      <td>WELL-005</td>\n",
       "      <td>35.123</td>\n",
       "      <td>45.987</td>\n",
       "      <td>1100</td>\n",
       "      <td>10800</td>\n",
       "      <td>9</td>\n",
       "      <td>oil</td>\n",
       "    </tr>\n",
       "    <tr>\n",
       "      <th>5</th>\n",
       "      <td>WELL-006</td>\n",
       "      <td>34.876</td>\n",
       "      <td>46.234</td>\n",
       "      <td>750</td>\n",
       "      <td>9000</td>\n",
       "      <td>16</td>\n",
       "      <td>gas</td>\n",
       "    </tr>\n",
       "    <tr>\n",
       "      <th>6</th>\n",
       "      <td>WELL-007</td>\n",
       "      <td>35.456</td>\n",
       "      <td>45.789</td>\n",
       "      <td>1700</td>\n",
       "      <td>11500</td>\n",
       "      <td>7</td>\n",
       "      <td>oil</td>\n",
       "    </tr>\n",
       "    <tr>\n",
       "      <th>7</th>\n",
       "      <td>WELL-008</td>\n",
       "      <td>34.678</td>\n",
       "      <td>46.456</td>\n",
       "      <td>1050</td>\n",
       "      <td>10200</td>\n",
       "      <td>11</td>\n",
       "      <td>both</td>\n",
       "    </tr>\n",
       "    <tr>\n",
       "      <th>8</th>\n",
       "      <td>WELL-009</td>\n",
       "      <td>35.345</td>\n",
       "      <td>45.654</td>\n",
       "      <td>900</td>\n",
       "      <td>9800</td>\n",
       "      <td>13</td>\n",
       "      <td>gas</td>\n",
       "    </tr>\n",
       "    <tr>\n",
       "      <th>9</th>\n",
       "      <td>WELL-010</td>\n",
       "      <td>34.987</td>\n",
       "      <td>46.123</td>\n",
       "      <td>1250</td>\n",
       "      <td>11200</td>\n",
       "      <td>6</td>\n",
       "      <td>oil</td>\n",
       "    </tr>\n",
       "    <tr>\n",
       "      <th>10</th>\n",
       "      <td>WELL-011</td>\n",
       "      <td>35.789</td>\n",
       "      <td>45.123</td>\n",
       "      <td>1150</td>\n",
       "      <td>10700</td>\n",
       "      <td>8</td>\n",
       "      <td>oil</td>\n",
       "    </tr>\n",
       "    <tr>\n",
       "      <th>11</th>\n",
       "      <td>WELL-012</td>\n",
       "      <td>34.345</td>\n",
       "      <td>46.678</td>\n",
       "      <td>850</td>\n",
       "      <td>9200</td>\n",
       "      <td>14</td>\n",
       "      <td>gas</td>\n",
       "    </tr>\n",
       "    <tr>\n",
       "      <th>12</th>\n",
       "      <td>WELL-013</td>\n",
       "      <td>35.234</td>\n",
       "      <td>45.987</td>\n",
       "      <td>1200</td>\n",
       "      <td>11000</td>\n",
       "      <td>9</td>\n",
       "      <td>oil</td>\n",
       "    </tr>\n",
       "    <tr>\n",
       "      <th>13</th>\n",
       "      <td>WELL-014</td>\n",
       "      <td>34.876</td>\n",
       "      <td>46.345</td>\n",
       "      <td>900</td>\n",
       "      <td>10500</td>\n",
       "      <td>13</td>\n",
       "      <td>both</td>\n",
       "    </tr>\n",
       "    <tr>\n",
       "      <th>14</th>\n",
       "      <td>WELL-015</td>\n",
       "      <td>35.123</td>\n",
       "      <td>45.789</td>\n",
       "      <td>1150</td>\n",
       "      <td>10800</td>\n",
       "      <td>8</td>\n",
       "      <td>oil</td>\n",
       "    </tr>\n",
       "    <tr>\n",
       "      <th>15</th>\n",
       "      <td>WELL-016</td>\n",
       "      <td>34.789</td>\n",
       "      <td>46.234</td>\n",
       "      <td>800</td>\n",
       "      <td>9000</td>\n",
       "      <td>15</td>\n",
       "      <td>gas</td>\n",
       "    </tr>\n",
       "    <tr>\n",
       "      <th>16</th>\n",
       "      <td>WELL-017</td>\n",
       "      <td>35.456</td>\n",
       "      <td>45.678</td>\n",
       "      <td>1900</td>\n",
       "      <td>11500</td>\n",
       "      <td>7</td>\n",
       "      <td>oil</td>\n",
       "    </tr>\n",
       "    <tr>\n",
       "      <th>17</th>\n",
       "      <td>WELL-018</td>\n",
       "      <td>34.678</td>\n",
       "      <td>46.456</td>\n",
       "      <td>1000</td>\n",
       "      <td>10200</td>\n",
       "      <td>12</td>\n",
       "      <td>both</td>\n",
       "    </tr>\n",
       "    <tr>\n",
       "      <th>18</th>\n",
       "      <td>WELL-019</td>\n",
       "      <td>35.234</td>\n",
       "      <td>45.890</td>\n",
       "      <td>950</td>\n",
       "      <td>9800</td>\n",
       "      <td>14</td>\n",
       "      <td>gas</td>\n",
       "    </tr>\n",
       "    <tr>\n",
       "      <th>19</th>\n",
       "      <td>WELL-020</td>\n",
       "      <td>34.987</td>\n",
       "      <td>46.123</td>\n",
       "      <td>1250</td>\n",
       "      <td>11200</td>\n",
       "      <td>6</td>\n",
       "      <td>oil</td>\n",
       "    </tr>\n",
       "    <tr>\n",
       "      <th>20</th>\n",
       "      <td>WELL-021</td>\n",
       "      <td>35.789</td>\n",
       "      <td>45.123</td>\n",
       "      <td>1150</td>\n",
       "      <td>10700</td>\n",
       "      <td>8</td>\n",
       "      <td>oil</td>\n",
       "    </tr>\n",
       "    <tr>\n",
       "      <th>21</th>\n",
       "      <td>WELL-022</td>\n",
       "      <td>34.345</td>\n",
       "      <td>46.678</td>\n",
       "      <td>850</td>\n",
       "      <td>9200</td>\n",
       "      <td>14</td>\n",
       "      <td>gas</td>\n",
       "    </tr>\n",
       "    <tr>\n",
       "      <th>22</th>\n",
       "      <td>WELL-023</td>\n",
       "      <td>35.234</td>\n",
       "      <td>45.987</td>\n",
       "      <td>1200</td>\n",
       "      <td>11000</td>\n",
       "      <td>9</td>\n",
       "      <td>oil</td>\n",
       "    </tr>\n",
       "    <tr>\n",
       "      <th>23</th>\n",
       "      <td>WELL-024</td>\n",
       "      <td>34.876</td>\n",
       "      <td>46.345</td>\n",
       "      <td>900</td>\n",
       "      <td>10500</td>\n",
       "      <td>13</td>\n",
       "      <td>both</td>\n",
       "    </tr>\n",
       "    <tr>\n",
       "      <th>24</th>\n",
       "      <td>WELL-025</td>\n",
       "      <td>35.123</td>\n",
       "      <td>45.789</td>\n",
       "      <td>1150</td>\n",
       "      <td>10800</td>\n",
       "      <td>8</td>\n",
       "      <td>oil</td>\n",
       "    </tr>\n",
       "    <tr>\n",
       "      <th>25</th>\n",
       "      <td>WELL-026</td>\n",
       "      <td>34.789</td>\n",
       "      <td>46.234</td>\n",
       "      <td>800</td>\n",
       "      <td>9000</td>\n",
       "      <td>15</td>\n",
       "      <td>gas</td>\n",
       "    </tr>\n",
       "    <tr>\n",
       "      <th>26</th>\n",
       "      <td>WELL-027</td>\n",
       "      <td>35.456</td>\n",
       "      <td>45.678</td>\n",
       "      <td>1500</td>\n",
       "      <td>1150</td>\n",
       "      <td>15</td>\n",
       "      <td>gas</td>\n",
       "    </tr>\n",
       "  </tbody>\n",
       "</table>\n",
       "</div>"
      ],
      "text/plain": [
       "     well_id  latitude  longitude  production_rate  depth  age well_type\n",
       "0   WELL-001    35.234     45.678             1000  10000   10       oil\n",
       "1   WELL-002    34.987     46.123              800   9500   15       gas\n",
       "2   WELL-003    35.567     45.890             1200  11000    8       oil\n",
       "3   WELL-004    34.789     46.345              950  10500   12      both\n",
       "4   WELL-005    35.123     45.987             1100  10800    9       oil\n",
       "5   WELL-006    34.876     46.234              750   9000   16       gas\n",
       "6   WELL-007    35.456     45.789             1700  11500    7       oil\n",
       "7   WELL-008    34.678     46.456             1050  10200   11      both\n",
       "8   WELL-009    35.345     45.654              900   9800   13       gas\n",
       "9   WELL-010    34.987     46.123             1250  11200    6       oil\n",
       "10  WELL-011    35.789     45.123             1150  10700    8       oil\n",
       "11  WELL-012    34.345     46.678              850   9200   14       gas\n",
       "12  WELL-013    35.234     45.987             1200  11000    9       oil\n",
       "13  WELL-014    34.876     46.345              900  10500   13      both\n",
       "14  WELL-015    35.123     45.789             1150  10800    8       oil\n",
       "15  WELL-016    34.789     46.234              800   9000   15       gas\n",
       "16  WELL-017    35.456     45.678             1900  11500    7       oil\n",
       "17  WELL-018    34.678     46.456             1000  10200   12      both\n",
       "18  WELL-019    35.234     45.890              950   9800   14       gas\n",
       "19  WELL-020    34.987     46.123             1250  11200    6       oil\n",
       "20  WELL-021    35.789     45.123             1150  10700    8       oil\n",
       "21  WELL-022    34.345     46.678              850   9200   14       gas\n",
       "22  WELL-023    35.234     45.987             1200  11000    9       oil\n",
       "23  WELL-024    34.876     46.345              900  10500   13      both\n",
       "24  WELL-025    35.123     45.789             1150  10800    8       oil\n",
       "25  WELL-026    34.789     46.234              800   9000   15       gas\n",
       "26  WELL-027    35.456     45.678             1500   1150   15       gas"
      ]
     },
     "execution_count": 1,
     "metadata": {},
     "output_type": "execute_result"
    }
   ],
   "source": [
    "import pandas as pd\n",
    "from collections import namedtuple\n",
    "import pickle\n",
    "import locale\n",
    "# Read oil well data from csv file\n",
    "df = pd.read_csv('oil_wells.csv')\n",
    "df"
   ]
  },
  {
   "cell_type": "markdown",
   "id": "cf659c88",
   "metadata": {},
   "source": [
    "Creating Namedtuples:\n",
    "    Defining a namedtuple to represent oil well data, improving code readability and maintainability."
   ]
  },
  {
   "cell_type": "code",
   "execution_count": 2,
   "id": "e8b9302a-c849-4215-9003-10a55a0960df",
   "metadata": {},
   "outputs": [],
   "source": [
    "# Define a namedtuple for oil well data\n",
    "OilWell = namedtuple(\n",
    "    'OilWell',\n",
    "    ['well_id', 'location', 'production_rate', 'depth', 'age', 'well_type'],\n",
    ")\n",
    "\n",
    "def _str(well):\n",
    "    return f\"Well ID: {well.well_id}, Production Rate: {well.production_rate}\"\n",
    "\n",
    "OilWell.__str__ = _str"
   ]
  },
  {
   "cell_type": "markdown",
   "id": "d6000a91",
   "metadata": {},
   "source": [
    "Converting to Python Objects:\n",
    "    Iterating over the DataFrame to create a list of OilWell objects."
   ]
  },
  {
   "cell_type": "code",
   "execution_count": 3,
   "id": "491e5e98-ccde-4868-940b-52f9723371f6",
   "metadata": {},
   "outputs": [],
   "source": [
    "oil_wells = []\n",
    "for index, row in df.iterrows():\n",
    "    well = OilWell(\n",
    "        well_id=row['well_id'],\n",
    "        location=(row['latitude'], row['longitude']),\n",
    "        production_rate=row['production_rate'],\n",
    "        depth=row['depth'],\n",
    "        age=row['age'],\n",
    "        well_type=row['well_type']\n",
    "    )\n",
    "    oil_wells.append(well)"
   ]
  },
  {
   "cell_type": "markdown",
   "id": "24806589",
   "metadata": {},
   "source": [
    "### Pickling the Data\n",
    "\n",
    "    Opening a Binary File:\n",
    "        Using open with 'wb' mode to create a binary file for writing.\n",
    "    Dumping the Data:\n",
    "        Using pickle.dump to serialize the oil_wells list into the binary file."
   ]
  },
  {
   "cell_type": "code",
   "execution_count": 4,
   "id": "a81409f1-6730-421d-abda-efa8fbed36a1",
   "metadata": {},
   "outputs": [],
   "source": [
    "with open('oil_wells.pkl', 'wb') as f:\n",
    "    pickle.dump(oil_wells, f)"
   ]
  },
  {
   "cell_type": "markdown",
   "id": "680d3303",
   "metadata": {},
   "source": [
    "### Loading the Pickled Data\n",
    "\n",
    "    Opening a Binary File:\n",
    "        Using open with 'rb' mode to open the binary file for reading.\n",
    "    Loading the Data:\n",
    "        Using pickle.load to deserialize the data from the binary file back into a Python object."
   ]
  },
  {
   "cell_type": "code",
   "execution_count": 5,
   "id": "0456e1f6-6ed3-495c-b9f1-68514800d555",
   "metadata": {},
   "outputs": [],
   "source": [
    " locale.setlocale(locale.LC_ALL, 'en_US.UTF-8')\n",
    "# Load the pickled oil well data\n",
    "with open('oil_wells.pkl', 'rb') as file_handle:\n",
    "    oil_wells = pickle.load(file_handle)"
   ]
  },
  {
   "cell_type": "markdown",
   "id": "d88cd800",
   "metadata": {},
   "source": [
    "### Data Analysis and Visualization\n",
    "\n",
    "    Sorting and Filtering:\n",
    "        Sorting the wells by production rate to identify the top producers."
   ]
  },
  {
   "cell_type": "code",
   "execution_count": 6,
   "id": "66fb106a-f217-4126-90fb-591dd0171f39",
   "metadata": {},
   "outputs": [],
   "source": [
    "# Sort wells by production rate (highest to lowest)\n",
    "oil_wells.sort(key=lambda well: well.production_rate, reverse=True)"
   ]
  },
  {
   "cell_type": "markdown",
   "id": "8acc2fda",
   "metadata": {},
   "source": [
    "Sorting and Filtering:\n",
    "        Sorting the top 5 producing wells."
   ]
  },
  {
   "cell_type": "code",
   "execution_count": 7,
   "id": "4429651c-f374-4d2f-bab4-25b57e2f7164",
   "metadata": {},
   "outputs": [
    {
     "name": "stdout",
     "output_type": "stream",
     "text": [
      "Top 5 Producing Wells:\n",
      "Well ID: WELL-017, Production Rate: 1900\n",
      "Well ID: WELL-007, Production Rate: 1700\n",
      "Well ID: WELL-027, Production Rate: 1500\n",
      "Well ID: WELL-010, Production Rate: 1250\n",
      "Well ID: WELL-020, Production Rate: 1250\n"
     ]
    }
   ],
   "source": [
    "\n",
    "# Print the top 5 producing wells\n",
    "print(\"Top 5 Producing Wells:\")\n",
    "for well in oil_wells[:5]:\n",
    "    print(well)\n"
   ]
  },
  {
   "cell_type": "code",
   "execution_count": 8,
   "id": "2decab2e-da59-47d3-b0f3-0d044eae334e",
   "metadata": {},
   "outputs": [
    {
     "name": "stdout",
     "output_type": "stream",
     "text": [
      "Total Production Rate: 29400.00 barrels per day\n"
     ]
    }
   ],
   "source": [
    " # Calculate total production rate\n",
    "total_production = sum([well.production_rate for well in oil_wells])\n",
    "print(f\"Total Production Rate: {total_production:.2f} barrels per day\")\n"
   ]
  },
  {
   "cell_type": "code",
   "execution_count": 9,
   "id": "250daf98-34d8-40cf-815e-ab554cde2114",
   "metadata": {},
   "outputs": [],
   "source": [
    " # Analyze wells by type\n",
    "oil_wells_by_type = {}\n",
    "for well in oil_wells:\n",
    "    well_type = well.well_type\n",
    "    if well_type not in oil_wells_by_type:\n",
    "        oil_wells_by_type[well_type] = []\n",
    "    oil_wells_by_type[well_type].append(well)"
   ]
  },
  {
   "cell_type": "code",
   "execution_count": 10,
   "id": "271393a6-fc0f-4fba-b1fa-c39bfee97259",
   "metadata": {},
   "outputs": [
    {
     "name": "stdout",
     "output_type": "stream",
     "text": [
      "\n",
      "oil Wells:\n",
      "Well ID: WELL-017, Production Rate: 1900\n",
      "Well ID: WELL-007, Production Rate: 1700\n",
      "Well ID: WELL-010, Production Rate: 1250\n",
      "Well ID: WELL-020, Production Rate: 1250\n",
      "Well ID: WELL-003, Production Rate: 1200\n",
      "Well ID: WELL-013, Production Rate: 1200\n",
      "Well ID: WELL-023, Production Rate: 1200\n",
      "Well ID: WELL-011, Production Rate: 1150\n",
      "Well ID: WELL-015, Production Rate: 1150\n",
      "Well ID: WELL-021, Production Rate: 1150\n",
      "Well ID: WELL-025, Production Rate: 1150\n",
      "Well ID: WELL-005, Production Rate: 1100\n",
      "Well ID: WELL-001, Production Rate: 1000\n",
      "\n",
      "gas Wells:\n",
      "Well ID: WELL-027, Production Rate: 1500\n",
      "Well ID: WELL-019, Production Rate: 950\n",
      "Well ID: WELL-009, Production Rate: 900\n",
      "Well ID: WELL-012, Production Rate: 850\n",
      "Well ID: WELL-022, Production Rate: 850\n",
      "Well ID: WELL-002, Production Rate: 800\n",
      "Well ID: WELL-016, Production Rate: 800\n",
      "Well ID: WELL-026, Production Rate: 800\n",
      "Well ID: WELL-006, Production Rate: 750\n",
      "\n",
      "both Wells:\n",
      "Well ID: WELL-008, Production Rate: 1050\n",
      "Well ID: WELL-018, Production Rate: 1000\n",
      "Well ID: WELL-004, Production Rate: 950\n",
      "Well ID: WELL-014, Production Rate: 900\n",
      "Well ID: WELL-024, Production Rate: 900\n"
     ]
    }
   ],
   "source": [
    "for well_type, wells in oil_wells_by_type.items():\n",
    "        print(f\"\\n{well_type} Wells:\")\n",
    "        for well in wells:\n",
    "            print(well)"
   ]
  },
  {
   "cell_type": "code",
   "execution_count": 11,
   "id": "dd575583-ce13-42a0-a8a2-afae385b1e6e",
   "metadata": {},
   "outputs": [
    {
     "name": "stdout",
     "output_type": "stream",
     "text": [
      "Average Production Rate of Top 5 Wells: 1520.00 barrels per day\n"
     ]
    }
   ],
   "source": [
    "\n",
    "# Calculate average production rate of top 5 wells\n",
    "from statistics import mean\n",
    "top_5_production_rates = [well.production_rate for well in oil_wells[:5]]\n",
    "average_top_5_production = mean(top_5_production_rates)\n",
    "print(f\"Average Production Rate of Top 5 Wells: {average_top_5_production:.2f} barrels per day\")\n"
   ]
  },
  {
   "cell_type": "markdown",
   "id": "7cbc4837",
   "metadata": {},
   "source": [
    "### Pickling JSON Data\n",
    "\n",
    "    Loading JSON Data:\n",
    "        Using json.loads to parse the JSON string into a Python object."
   ]
  },
  {
   "cell_type": "code",
   "execution_count": 12,
   "id": "3dfbc451-d505-4d94-8d16-b2c27abb38b1",
   "metadata": {},
   "outputs": [],
   "source": [
    "# pickling  \"Zohr Gas Field\" data from json format:\n",
    "import json\n",
    "field_data= \"\"\"{\n",
    "    \"field_name\": \"North Sea Oil Field\",\n",
    "    \"production_history\": [\n",
    "        {\"year\": 2009, \"production\": 100000},\n",
    "        {\"year\": 2010, \"production\": 120000},\n",
    "        {\"year\": 2011, \"production\": 135000},\n",
    "        {\"year\": 2012, \"production\": 145000},\n",
    "        {\"year\": 2013, \"production\": 150000},\n",
    "        {\"year\": 2014, \"production\": 148000},\n",
    "        {\"year\": 2015, \"production\": 142000},\n",
    "        {\"year\": 2016, \"production\": 135000},\n",
    "        {\"year\": 2017, \"production\": 125000},\n",
    "        {\"year\": 2018, \"production\": 110000},\n",
    "        {\"year\": 2019, \"production\": 95000},\n",
    "        {\"year\": 2020, \"production\": 80000},\n",
    "        {\"year\": 2021, \"production\": 70000},\n",
    "        {\"year\": 2022, \"production\": 60000},\n",
    "        {\"year\": 2023, \"production\": 50000}\n",
    "    ]\n",
    "}\"\"\"\n",
    "\n",
    "North_Sea_Oil_Field = json.loads(field_data)\n",
    "df.to_json('North_Sea_Oil_Field.json')"
   ]
  },
  {
   "cell_type": "code",
   "execution_count": 13,
   "id": "d896ad00-df48-42ee-a340-097b6d147e65",
   "metadata": {},
   "outputs": [],
   "source": [
    "# Load the JSON data\n",
    "with open('North_Sea_Oil_Field.json', 'r') as f:\n",
    "    field_data = json.load(f)"
   ]
  },
  {
   "cell_type": "markdown",
   "id": "5adad4ab",
   "metadata": {},
   "source": [
    "#### Pickling the JSON Data:\n",
    "\n",
    "    Using pickle.dump to serialize the JSON object into a binary file."
   ]
  },
  {
   "cell_type": "code",
   "execution_count": 14,
   "id": "931e44d2-1ca3-496b-ac51-76e93ff6a208",
   "metadata": {},
   "outputs": [],
   "source": [
    "# Pickle the data\n",
    "with open('North_Sea_Oil_Field.pkl', 'wb') as f:\n",
    "    pickle.dump(field_data, f)"
   ]
  },
  {
   "cell_type": "markdown",
   "id": "8484c047",
   "metadata": {},
   "source": [
    "#### Loading the Pickled JSON Data:\n",
    "\n",
    "    Using pickle.load to deserialize the data from the binary file."
   ]
  },
  {
   "cell_type": "code",
   "execution_count": 15,
   "id": "4ef3ba9f-f057-4b25-bb02-ef8550220544",
   "metadata": {},
   "outputs": [],
   "source": [
    "# Open pickle data.\n",
    "with open('North_Sea_Oil_Field.pkl', 'rb') as f:\n",
    "    field_data = pickle.load(f)"
   ]
  },
  {
   "cell_type": "markdown",
   "id": "c995152e",
   "metadata": {},
   "source": [
    "#### Converting to Pandas DataFrame:\n",
    "\n",
    "    Using pd.DataFrame to convert the JSON data into a DataFrame for easier analysis."
   ]
  },
  {
   "cell_type": "code",
   "execution_count": 16,
   "id": "2865b830-3101-433b-9192-7abb3501f288",
   "metadata": {},
   "outputs": [
    {
     "name": "stdout",
     "output_type": "stream",
     "text": [
      "    well_id  latitude  longitude  production_rate  depth  age well_type\n",
      "0  WELL-001    35.234     45.678             1000  10000   10       oil\n",
      "1  WELL-002    34.987     46.123              800   9500   15       gas\n",
      "2  WELL-003    35.567     45.890             1200  11000    8       oil\n",
      "3  WELL-004    34.789     46.345              950  10500   12      both\n",
      "4  WELL-005    35.123     45.987             1100  10800    9       oil\n"
     ]
    }
   ],
   "source": [
    "\n",
    "# Convert the JSON data to a Pandas DataFrame for easier analysis\n",
    "df = pd.DataFrame(field_data)\n",
    "\n",
    "# Basic exploration\n",
    "# Print the first 5 rows of the DataFrame to get a quick overview\n",
    "print(df.head())"
   ]
  },
  {
   "cell_type": "markdown",
   "id": "6e9bec41",
   "metadata": {},
   "source": [
    "#### Basic Data Exploration:\n",
    "\n",
    "    Using df.head(), df.tail(), and df.describe() to get a quick overview of the data."
   ]
  },
  {
   "cell_type": "code",
   "execution_count": 17,
   "id": "d61cbcac-a8cf-4788-a4b6-2a9a0d48799e",
   "metadata": {},
   "outputs": [
    {
     "name": "stdout",
     "output_type": "stream",
     "text": [
      "     well_id  latitude  longitude  production_rate  depth  age well_type\n",
      "22  WELL-023    35.234     45.987             1200  11000    9       oil\n",
      "23  WELL-024    34.876     46.345              900  10500   13      both\n",
      "24  WELL-025    35.123     45.789             1150  10800    8       oil\n",
      "25  WELL-026    34.789     46.234              800   9000   15       gas\n",
      "26  WELL-027    35.456     45.678             1500   1150   15       gas\n"
     ]
    }
   ],
   "source": [
    "# Print the last 5 rows of the DataFrame\n",
    "print(df.tail())"
   ]
  },
  {
   "cell_type": "code",
   "execution_count": 18,
   "id": "8109f508-8e05-4b05-923a-ffcdb150af4a",
   "metadata": {},
   "outputs": [
    {
     "name": "stdout",
     "output_type": "stream",
     "text": [
      "        latitude  longitude  production_rate         depth        age\n",
      "count  27.000000  27.000000        27.000000     27.000000  27.000000\n",
      "mean   35.080185  46.015407      1088.888889   9990.740741  10.925926\n",
      "std     0.374463   0.393351       273.627109   1931.919981   3.221633\n",
      "min    34.345000  45.123000       750.000000   1150.000000   6.000000\n",
      "25%    34.832500  45.789000       900.000000   9650.000000   8.000000\n",
      "50%    35.123000  45.987000      1050.000000  10500.000000  11.000000\n",
      "75%    35.289500  46.289500      1200.000000  10900.000000  14.000000\n",
      "max    35.789000  46.678000      1900.000000  11500.000000  16.000000\n"
     ]
    }
   ],
   "source": [
    "# Generate descriptive statistics, including count, mean, standard deviation, min, 25%, 50%, 75%, and max\n",
    "print(df.describe())"
   ]
  },
  {
   "cell_type": "code",
   "execution_count": 19,
   "id": "3b77a259-2806-488b-bd21-e33c9f0cbebe",
   "metadata": {},
   "outputs": [],
   "source": [
    "# references:\n",
    "# https://github.com/MPR-UKD/cvi42py/blob/main/src/cvi42py.py"
   ]
  }
 ],
 "metadata": {
  "kernelspec": {
   "display_name": "Python 3 (ipykernel)",
   "language": "python",
   "name": "python3"
  },
  "language_info": {
   "codemirror_mode": {
    "name": "ipython",
    "version": 3
   },
   "file_extension": ".py",
   "mimetype": "text/x-python",
   "name": "python",
   "nbconvert_exporter": "python",
   "pygments_lexer": "ipython3",
   "version": "3.12.3"
  }
 },
 "nbformat": 4,
 "nbformat_minor": 5
}
