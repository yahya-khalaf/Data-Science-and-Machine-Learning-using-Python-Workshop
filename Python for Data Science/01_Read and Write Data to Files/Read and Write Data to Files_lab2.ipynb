{
 "cells": [
  {
   "cell_type": "markdown",
   "id": "997c1556",
   "metadata": {},
   "source": [
    "This notebook introduces fundamental file operations in Python, covering reading, writing, and appending to various file formats: text, CSV, Excel, and JSON.\n",
    "We'll explore different file modes, and efficient techniques using the with statement."
   ]
  },
  {
   "cell_type": "code",
   "execution_count": 17,
   "id": "c45dfd0a",
   "metadata": {},
   "outputs": [],
   "source": [
    "# opening a file in write mode\n",
    "# if file already exists the content will be overwritten\n",
    "file = open(\"file_1.txt\", \"w\")\n",
    "file.write(\"This a test write in txt file\\n\")\n",
    "file.close()"
   ]
  },
  {
   "cell_type": "code",
   "execution_count": 18,
   "id": "16ed82a6-e679-414f-bcf6-2303244f601d",
   "metadata": {},
   "outputs": [
    {
     "name": "stdout",
     "output_type": "stream",
     "text": [
      "This a test write in txt file\n",
      "\n"
     ]
    }
   ],
   "source": [
    "# opening a file in read only  mode\n",
    "file = open(\"file_1.txt\", \"r\")\n",
    "str1 = file.readline()\n",
    "print(str1)\n",
    "file.close()\n"
   ]
  },
  {
   "cell_type": "code",
   "execution_count": 19,
   "id": "9a0979b0-e78f-4d60-8b5d-14f01d9baef4",
   "metadata": {},
   "outputs": [],
   "source": [
    "# opening a file in append  mode which writes at the end of the file\n",
    "file = open(\"file_1.txt\", \"a\")\n",
    "file.write(\"this line should be the second one\\n\")\n",
    "file.write(\"and this line should be the third one\\n\")\n",
    "file.write(\"but this should be written at the end of the file\\n\")\n",
    "file.close()\n"
   ]
  },
  {
   "cell_type": "code",
   "execution_count": 20,
   "id": "2302b20e-0cb0-40a6-b1fd-b4cca5c75b9e",
   "metadata": {},
   "outputs": [
    {
     "name": "stdout",
     "output_type": "stream",
     "text": [
      "This a test write in txt file\n",
      "this line should be the second one\n",
      "and this line should be the third one\n",
      "but this should be written at the end of the file\n"
     ]
    }
   ],
   "source": [
    "# opening file in read and write mode\n",
    "file = open(\"file_1.txt\", \"r+\")\n",
    "with open(\"file_1.txt\") as file: # open file with open() function and make alias name from filename (file)\n",
    "    for line in file: # using for looping to read entire content line-by-line\n",
    "        print(line.rstrip())\n",
    "file.close()\n"
   ]
  },
  {
   "cell_type": "code",
   "execution_count": 21,
   "id": "29da8756-511c-43cc-bf0e-680c21d28cc4",
   "metadata": {},
   "outputs": [
    {
     "name": "stdout",
     "output_type": "stream",
     "text": [
      "['This a test write in txt file\\n', 'this line should be the second one\\n', 'and this line should be the third one\\n', 'but this should be written at the end of the file\\n']\n"
     ]
    }
   ],
   "source": [
    "# with is a mouch cleaner way to read the\n",
    "with open(\"file_1.txt\") as file:\n",
    "    print(file.readlines())"
   ]
  },
  {
   "cell_type": "code",
   "execution_count": 22,
   "id": "27e48806-d75c-448f-a204-223b7ec2fec9",
   "metadata": {},
   "outputs": [
    {
     "name": "stdout",
     "output_type": "stream",
     "text": [
      "['This is how with statement used!']\n"
     ]
    }
   ],
   "source": [
    "with open(\"file_1.txt\", \"w\") as file:\n",
    "    file.write(\"This is how with statement used!\")\n",
    "    \n",
    "with open(\"file_1.txt\", \"r\") as file:    \n",
    "    print(file.readlines())   \n"
   ]
  },
  {
   "cell_type": "markdown",
   "id": "082f12ba",
   "metadata": {},
   "source": [
    "CSV Files\n",
    "Creating a DataFrame:\n",
    "Creates a Pandas DataFrame from a Python dictionary."
   ]
  },
  {
   "cell_type": "code",
   "execution_count": 23,
   "id": "df939218-672e-4657-a791-f594a4d6fa0a",
   "metadata": {},
   "outputs": [
    {
     "data": {
      "text/plain": [
       "{'Field Name': ['Zohr', 'Noor', 'Baltim South West', 'Kareem', 'Raven'],\n",
       " 'Location': ['Mediterranean Sea',\n",
       "  'Nile Delta',\n",
       "  'Nile Delta',\n",
       "  'Nile Delta',\n",
       "  'Nile Delta'],\n",
       " 'Discovery Year': [2015, 2015, 2017, 2018, 2019],\n",
       " 'Gas Reserves (Billion Cubic Feet)': [850, 5, 30, 15, 8],\n",
       " 'Oil Reserves (Million Barrels)': [950, 8, 25, 11, 3]}"
      ]
     },
     "execution_count": 23,
     "metadata": {},
     "output_type": "execute_result"
    }
   ],
   "source": [
    "# creating data for reading csv files\n",
    "data = {\n",
    "    \"Field Name\": [\"Zohr\", \"Noor\", \"Baltim South West\", \"Kareem\", \"Raven\"],\n",
    "    \"Location\": [\"Mediterranean Sea\", \"Nile Delta\", \"Nile Delta\", \"Nile Delta\", \"Nile Delta\"],\n",
    "    \"Discovery Year\": [2015, 2015, 2017, 2018, 2019],\n",
    "    \"Gas Reserves (Billion Cubic Feet)\": [850, 5 , 30, 15, 8],\n",
    "    \"Oil Reserves (Million Barrels)\": [950, 8, 25, 11, 3]\n",
    "}\n",
    "\n",
    "data"
   ]
  },
  {
   "cell_type": "code",
   "execution_count": 24,
   "id": "4c01ce44-5470-409c-82b8-aaa5ab54b6cc",
   "metadata": {},
   "outputs": [
    {
     "data": {
      "text/html": [
       "<div>\n",
       "<style scoped>\n",
       "    .dataframe tbody tr th:only-of-type {\n",
       "        vertical-align: middle;\n",
       "    }\n",
       "\n",
       "    .dataframe tbody tr th {\n",
       "        vertical-align: top;\n",
       "    }\n",
       "\n",
       "    .dataframe thead th {\n",
       "        text-align: right;\n",
       "    }\n",
       "</style>\n",
       "<table border=\"1\" class=\"dataframe\">\n",
       "  <thead>\n",
       "    <tr style=\"text-align: right;\">\n",
       "      <th></th>\n",
       "      <th>Field Name</th>\n",
       "      <th>Location</th>\n",
       "      <th>Discovery Year</th>\n",
       "      <th>Gas Reserves (Billion Cubic Feet)</th>\n",
       "      <th>Oil Reserves (Million Barrels)</th>\n",
       "    </tr>\n",
       "  </thead>\n",
       "  <tbody>\n",
       "    <tr>\n",
       "      <th>0</th>\n",
       "      <td>Zohr</td>\n",
       "      <td>Mediterranean Sea</td>\n",
       "      <td>2015</td>\n",
       "      <td>850</td>\n",
       "      <td>950</td>\n",
       "    </tr>\n",
       "    <tr>\n",
       "      <th>1</th>\n",
       "      <td>Noor</td>\n",
       "      <td>Nile Delta</td>\n",
       "      <td>2015</td>\n",
       "      <td>5</td>\n",
       "      <td>8</td>\n",
       "    </tr>\n",
       "    <tr>\n",
       "      <th>2</th>\n",
       "      <td>Baltim South West</td>\n",
       "      <td>Nile Delta</td>\n",
       "      <td>2017</td>\n",
       "      <td>30</td>\n",
       "      <td>25</td>\n",
       "    </tr>\n",
       "    <tr>\n",
       "      <th>3</th>\n",
       "      <td>Kareem</td>\n",
       "      <td>Nile Delta</td>\n",
       "      <td>2018</td>\n",
       "      <td>15</td>\n",
       "      <td>11</td>\n",
       "    </tr>\n",
       "    <tr>\n",
       "      <th>4</th>\n",
       "      <td>Raven</td>\n",
       "      <td>Nile Delta</td>\n",
       "      <td>2019</td>\n",
       "      <td>8</td>\n",
       "      <td>3</td>\n",
       "    </tr>\n",
       "  </tbody>\n",
       "</table>\n",
       "</div>"
      ],
      "text/plain": [
       "          Field Name           Location  Discovery Year  \\\n",
       "0               Zohr  Mediterranean Sea            2015   \n",
       "1               Noor         Nile Delta            2015   \n",
       "2  Baltim South West         Nile Delta            2017   \n",
       "3             Kareem         Nile Delta            2018   \n",
       "4              Raven         Nile Delta            2019   \n",
       "\n",
       "   Gas Reserves (Billion Cubic Feet)  Oil Reserves (Million Barrels)  \n",
       "0                                850                             950  \n",
       "1                                  5                               8  \n",
       "2                                 30                              25  \n",
       "3                                 15                              11  \n",
       "4                                  8                               3  "
      ]
     },
     "execution_count": 24,
     "metadata": {},
     "output_type": "execute_result"
    }
   ],
   "source": [
    "#loading the data into a csv file\n",
    "import pandas as pd\n",
    "# first creating a Dataframe\n",
    "df = pd.DataFrame(data)\n",
    "df"
   ]
  },
  {
   "cell_type": "markdown",
   "id": "b6664644",
   "metadata": {},
   "source": [
    "Writing to a CSV File:\n",
    "Uses to_csv() to write the DataFrame to a CSV file."
   ]
  },
  {
   "cell_type": "code",
   "execution_count": 25,
   "id": "9a03524d-77fc-4c47-8fba-c32c2a64b2f0",
   "metadata": {},
   "outputs": [],
   "source": [
    "# writing data from a dataframe to a csv file\n",
    "df.to_csv(\"oil_Field.csv\")\n"
   ]
  },
  {
   "cell_type": "markdown",
   "id": "02a9c289",
   "metadata": {},
   "source": [
    "Reading from a CSV File:\n",
    "Uses read_csv() to read the CSV file into a DataFrame."
   ]
  },
  {
   "cell_type": "code",
   "execution_count": 26,
   "id": "49e16e5c-e393-4916-aff4-23b13debf138",
   "metadata": {},
   "outputs": [
    {
     "data": {
      "text/html": [
       "<div>\n",
       "<style scoped>\n",
       "    .dataframe tbody tr th:only-of-type {\n",
       "        vertical-align: middle;\n",
       "    }\n",
       "\n",
       "    .dataframe tbody tr th {\n",
       "        vertical-align: top;\n",
       "    }\n",
       "\n",
       "    .dataframe thead th {\n",
       "        text-align: right;\n",
       "    }\n",
       "</style>\n",
       "<table border=\"1\" class=\"dataframe\">\n",
       "  <thead>\n",
       "    <tr style=\"text-align: right;\">\n",
       "      <th></th>\n",
       "      <th>Unnamed: 0</th>\n",
       "      <th>Field Name</th>\n",
       "      <th>Location</th>\n",
       "      <th>Discovery Year</th>\n",
       "      <th>Gas Reserves (Billion Cubic Feet)</th>\n",
       "      <th>Oil Reserves (Million Barrels)</th>\n",
       "    </tr>\n",
       "  </thead>\n",
       "  <tbody>\n",
       "    <tr>\n",
       "      <th>0</th>\n",
       "      <td>0</td>\n",
       "      <td>Zohr</td>\n",
       "      <td>Mediterranean Sea</td>\n",
       "      <td>2015</td>\n",
       "      <td>850</td>\n",
       "      <td>950</td>\n",
       "    </tr>\n",
       "    <tr>\n",
       "      <th>1</th>\n",
       "      <td>1</td>\n",
       "      <td>Noor</td>\n",
       "      <td>Nile Delta</td>\n",
       "      <td>2015</td>\n",
       "      <td>5</td>\n",
       "      <td>8</td>\n",
       "    </tr>\n",
       "    <tr>\n",
       "      <th>2</th>\n",
       "      <td>2</td>\n",
       "      <td>Baltim South West</td>\n",
       "      <td>Nile Delta</td>\n",
       "      <td>2017</td>\n",
       "      <td>30</td>\n",
       "      <td>25</td>\n",
       "    </tr>\n",
       "    <tr>\n",
       "      <th>3</th>\n",
       "      <td>3</td>\n",
       "      <td>Kareem</td>\n",
       "      <td>Nile Delta</td>\n",
       "      <td>2018</td>\n",
       "      <td>15</td>\n",
       "      <td>11</td>\n",
       "    </tr>\n",
       "    <tr>\n",
       "      <th>4</th>\n",
       "      <td>4</td>\n",
       "      <td>Raven</td>\n",
       "      <td>Nile Delta</td>\n",
       "      <td>2019</td>\n",
       "      <td>8</td>\n",
       "      <td>3</td>\n",
       "    </tr>\n",
       "  </tbody>\n",
       "</table>\n",
       "</div>"
      ],
      "text/plain": [
       "   Unnamed: 0         Field Name           Location  Discovery Year  \\\n",
       "0           0               Zohr  Mediterranean Sea            2015   \n",
       "1           1               Noor         Nile Delta            2015   \n",
       "2           2  Baltim South West         Nile Delta            2017   \n",
       "3           3             Kareem         Nile Delta            2018   \n",
       "4           4              Raven         Nile Delta            2019   \n",
       "\n",
       "   Gas Reserves (Billion Cubic Feet)  Oil Reserves (Million Barrels)  \n",
       "0                                850                             950  \n",
       "1                                  5                               8  \n",
       "2                                 30                              25  \n",
       "3                                 15                              11  \n",
       "4                                  8                               3  "
      ]
     },
     "execution_count": 26,
     "metadata": {},
     "output_type": "execute_result"
    }
   ],
   "source": [
    "# now opening the CSV file\n",
    "csv_data = pd.read_csv(\"oil_Field.csv\")\n",
    "csv_data"
   ]
  },
  {
   "cell_type": "code",
   "execution_count": 27,
   "id": "c8f102cd-5c01-4b65-9315-7cd8439925c6",
   "metadata": {},
   "outputs": [
    {
     "data": {
      "text/plain": [
       "pandas.core.frame.DataFrame"
      ]
     },
     "execution_count": 27,
     "metadata": {},
     "output_type": "execute_result"
    }
   ],
   "source": [
    "# csv_data is a DataFrame datatype\n",
    "# csv_data is a DataFrame datatype\n",
    "type(csv_data)"
   ]
  },
  {
   "cell_type": "code",
   "execution_count": 28,
   "id": "f9c2962f-2cca-4d32-a9a9-260986d4be33",
   "metadata": {},
   "outputs": [
    {
     "data": {
      "text/html": [
       "<div>\n",
       "<style scoped>\n",
       "    .dataframe tbody tr th:only-of-type {\n",
       "        vertical-align: middle;\n",
       "    }\n",
       "\n",
       "    .dataframe tbody tr th {\n",
       "        vertical-align: top;\n",
       "    }\n",
       "\n",
       "    .dataframe thead th {\n",
       "        text-align: right;\n",
       "    }\n",
       "</style>\n",
       "<table border=\"1\" class=\"dataframe\">\n",
       "  <thead>\n",
       "    <tr style=\"text-align: right;\">\n",
       "      <th></th>\n",
       "      <th>Field Name</th>\n",
       "      <th>Location</th>\n",
       "      <th>Discovery Year</th>\n",
       "    </tr>\n",
       "  </thead>\n",
       "  <tbody>\n",
       "    <tr>\n",
       "      <th>0</th>\n",
       "      <td>Zohr</td>\n",
       "      <td>Mediterranean Sea</td>\n",
       "      <td>2015</td>\n",
       "    </tr>\n",
       "    <tr>\n",
       "      <th>1</th>\n",
       "      <td>Noor</td>\n",
       "      <td>Nile Delta</td>\n",
       "      <td>2015</td>\n",
       "    </tr>\n",
       "    <tr>\n",
       "      <th>2</th>\n",
       "      <td>Baltim South West</td>\n",
       "      <td>Nile Delta</td>\n",
       "      <td>2017</td>\n",
       "    </tr>\n",
       "    <tr>\n",
       "      <th>3</th>\n",
       "      <td>Kareem</td>\n",
       "      <td>Nile Delta</td>\n",
       "      <td>2018</td>\n",
       "    </tr>\n",
       "    <tr>\n",
       "      <th>4</th>\n",
       "      <td>Raven</td>\n",
       "      <td>Nile Delta</td>\n",
       "      <td>2019</td>\n",
       "    </tr>\n",
       "  </tbody>\n",
       "</table>\n",
       "</div>"
      ],
      "text/plain": [
       "          Field Name           Location  Discovery Year\n",
       "0               Zohr  Mediterranean Sea            2015\n",
       "1               Noor         Nile Delta            2015\n",
       "2  Baltim South West         Nile Delta            2017\n",
       "3             Kareem         Nile Delta            2018\n",
       "4              Raven         Nile Delta            2019"
      ]
     },
     "execution_count": 28,
     "metadata": {},
     "output_type": "execute_result"
    }
   ],
   "source": [
    "# selecting data from the dataframe\n",
    "csv_data = csv_data.iloc[:,1:4]\n",
    "csv_data\n"
   ]
  },
  {
   "cell_type": "code",
   "execution_count": 29,
   "id": "a5790c13-ca93-46da-975a-b72de79b2bf7",
   "metadata": {},
   "outputs": [
    {
     "name": "stdout",
     "output_type": "stream",
     "text": [
      "['', 'Field Name', 'Location', 'Discovery Year', 'Gas Reserves (Billion Cubic Feet)', 'Oil Reserves (Million Barrels)']\n",
      "['0', 'Zohr', 'Mediterranean Sea', '2015', '850', '950']\n",
      "['1', 'Noor', 'Nile Delta', '2015', '5', '8']\n",
      "['2', 'Baltim South West', 'Nile Delta', '2017', '30', '25']\n",
      "['3', 'Kareem', 'Nile Delta', '2018', '15', '11']\n",
      "['4', 'Raven', 'Nile Delta', '2019', '8', '3']\n"
     ]
    }
   ],
   "source": [
    "# Other ways to open csv files without using Pandas.\n",
    "import csv\n",
    "with open('oil_Field.csv', 'r') as file: # use \"open\" to read csv file. \n",
    "    reader = csv.reader(file)\n",
    "    for row in reader:\n",
    "        print(row)"
   ]
  },
  {
   "cell_type": "code",
   "execution_count": 30,
   "id": "8ec4a026-41f7-4812-84c9-a265e11540c8",
   "metadata": {},
   "outputs": [],
   "source": [
    "# Other ways to add data to csv files without using Pandas.\n",
    "with open('oil_Field.csv', 'a', newline='') as file:\n",
    "    writer = csv.writer(file)\n",
    "    new_row = [\"5\",\"Zohr\",\"Mediterranean Sea\",2015,850,950]  # Example new row\n",
    "    writer.writerow(new_row)"
   ]
  },
  {
   "cell_type": "code",
   "execution_count": 31,
   "id": "0d5690ea-08ab-4728-baea-6de8e0db1ea3",
   "metadata": {},
   "outputs": [
    {
     "name": "stdout",
     "output_type": "stream",
     "text": [
      "['', 'Field Name', 'Location', 'Discovery Year', 'Gas Reserves (Billion Cubic Feet)', 'Oil Reserves (Million Barrels)']\n",
      "['0', 'Zohr', 'Mediterranean Sea', '2015', '850', '950']\n",
      "['1', 'Noor', 'Nile Delta', '2015', '5', '8']\n",
      "['2', 'Baltim South West', 'Nile Delta', '2017', '30', '25']\n",
      "['3', 'Kareem', 'Nile Delta', '2018', '15', '11']\n",
      "['4', 'Raven', 'Nile Delta', '2019', '8', '3']\n",
      "['5', 'Zohr', 'Mediterranean Sea', '2015', '850', '950']\n"
     ]
    }
   ],
   "source": [
    "with open('oil_Field.csv', 'r') as file:\n",
    "    reader = csv.reader(file)\n",
    "    for row in reader:\n",
    "        print(row)"
   ]
  },
  {
   "cell_type": "markdown",
   "id": "07da3337",
   "metadata": {},
   "source": [
    "Excel Files\n",
    " Writing to an Excel File:\n",
    "  Uses to_excel() to write the DataFrame to an Excel sheet."
   ]
  },
  {
   "cell_type": "code",
   "execution_count": 32,
   "id": "27a9b909-1ef8-46f7-8091-d88939c7a18e",
   "metadata": {},
   "outputs": [],
   "source": [
    "# writing the data to  a sheet oil_Field_1 in an excel file \n",
    "df.to_excel(\"oil_Field_1.xls\", sheet_name=\"oil_Field\", engine='openpyxl')"
   ]
  },
  {
   "cell_type": "code",
   "execution_count": 33,
   "id": "728aa88c-c4e2-4aa9-840b-4803dc3fd2cb",
   "metadata": {},
   "outputs": [
    {
     "data": {
      "text/html": [
       "<div>\n",
       "<style scoped>\n",
       "    .dataframe tbody tr th:only-of-type {\n",
       "        vertical-align: middle;\n",
       "    }\n",
       "\n",
       "    .dataframe tbody tr th {\n",
       "        vertical-align: top;\n",
       "    }\n",
       "\n",
       "    .dataframe thead th {\n",
       "        text-align: right;\n",
       "    }\n",
       "</style>\n",
       "<table border=\"1\" class=\"dataframe\">\n",
       "  <thead>\n",
       "    <tr style=\"text-align: right;\">\n",
       "      <th></th>\n",
       "      <th>Unnamed: 0</th>\n",
       "      <th>Field Name</th>\n",
       "      <th>Location</th>\n",
       "      <th>Discovery Year</th>\n",
       "      <th>Gas Reserves (Billion Cubic Feet)</th>\n",
       "      <th>Oil Reserves (Million Barrels)</th>\n",
       "    </tr>\n",
       "  </thead>\n",
       "  <tbody>\n",
       "    <tr>\n",
       "      <th>0</th>\n",
       "      <td>0</td>\n",
       "      <td>Zohr</td>\n",
       "      <td>Mediterranean Sea</td>\n",
       "      <td>2015</td>\n",
       "      <td>850</td>\n",
       "      <td>950</td>\n",
       "    </tr>\n",
       "    <tr>\n",
       "      <th>1</th>\n",
       "      <td>1</td>\n",
       "      <td>Noor</td>\n",
       "      <td>Nile Delta</td>\n",
       "      <td>2015</td>\n",
       "      <td>5</td>\n",
       "      <td>8</td>\n",
       "    </tr>\n",
       "    <tr>\n",
       "      <th>2</th>\n",
       "      <td>2</td>\n",
       "      <td>Baltim South West</td>\n",
       "      <td>Nile Delta</td>\n",
       "      <td>2017</td>\n",
       "      <td>30</td>\n",
       "      <td>25</td>\n",
       "    </tr>\n",
       "    <tr>\n",
       "      <th>3</th>\n",
       "      <td>3</td>\n",
       "      <td>Kareem</td>\n",
       "      <td>Nile Delta</td>\n",
       "      <td>2018</td>\n",
       "      <td>15</td>\n",
       "      <td>11</td>\n",
       "    </tr>\n",
       "    <tr>\n",
       "      <th>4</th>\n",
       "      <td>4</td>\n",
       "      <td>Raven</td>\n",
       "      <td>Nile Delta</td>\n",
       "      <td>2019</td>\n",
       "      <td>8</td>\n",
       "      <td>3</td>\n",
       "    </tr>\n",
       "  </tbody>\n",
       "</table>\n",
       "</div>"
      ],
      "text/plain": [
       "   Unnamed: 0         Field Name           Location  Discovery Year  \\\n",
       "0           0               Zohr  Mediterranean Sea            2015   \n",
       "1           1               Noor         Nile Delta            2015   \n",
       "2           2  Baltim South West         Nile Delta            2017   \n",
       "3           3             Kareem         Nile Delta            2018   \n",
       "4           4              Raven         Nile Delta            2019   \n",
       "\n",
       "   Gas Reserves (Billion Cubic Feet)  Oil Reserves (Million Barrels)  \n",
       "0                                850                             950  \n",
       "1                                  5                               8  \n",
       "2                                 30                              25  \n",
       "3                                 15                              11  \n",
       "4                                  8                               3  "
      ]
     },
     "execution_count": 33,
     "metadata": {},
     "output_type": "execute_result"
    }
   ],
   "source": [
    "# Reading excel file with sheet oil_Field\n",
    "xls_data = pd.read_excel(\"oil_Field_1.xls\", sheet_name=\"oil_Field\")\n",
    "xls_data"
   ]
  },
  {
   "cell_type": "markdown",
   "id": "6dd82b7d",
   "metadata": {},
   "source": [
    "JSON Files\n",
    "    Writing to a JSON File:\n",
    "    Uses to_json() to write the DataFrame to a JSON file."
   ]
  },
  {
   "cell_type": "code",
   "execution_count": 34,
   "id": "4b26f532-1287-445f-a521-0d76b3cecf92",
   "metadata": {},
   "outputs": [],
   "source": [
    "#writing data to a json fi;e\n",
    "df.to_json('oil_Field.json')"
   ]
  },
  {
   "cell_type": "code",
   "execution_count": 35,
   "id": "2f83cbc4-8521-4847-9bc9-e8bff0828dad",
   "metadata": {},
   "outputs": [
    {
     "data": {
      "text/html": [
       "<div>\n",
       "<style scoped>\n",
       "    .dataframe tbody tr th:only-of-type {\n",
       "        vertical-align: middle;\n",
       "    }\n",
       "\n",
       "    .dataframe tbody tr th {\n",
       "        vertical-align: top;\n",
       "    }\n",
       "\n",
       "    .dataframe thead th {\n",
       "        text-align: right;\n",
       "    }\n",
       "</style>\n",
       "<table border=\"1\" class=\"dataframe\">\n",
       "  <thead>\n",
       "    <tr style=\"text-align: right;\">\n",
       "      <th></th>\n",
       "      <th>Field Name</th>\n",
       "      <th>Location</th>\n",
       "      <th>Discovery Year</th>\n",
       "      <th>Gas Reserves (Billion Cubic Feet)</th>\n",
       "      <th>Oil Reserves (Million Barrels)</th>\n",
       "    </tr>\n",
       "  </thead>\n",
       "  <tbody>\n",
       "    <tr>\n",
       "      <th>0</th>\n",
       "      <td>Zohr</td>\n",
       "      <td>Mediterranean Sea</td>\n",
       "      <td>2015</td>\n",
       "      <td>850</td>\n",
       "      <td>950</td>\n",
       "    </tr>\n",
       "    <tr>\n",
       "      <th>1</th>\n",
       "      <td>Noor</td>\n",
       "      <td>Nile Delta</td>\n",
       "      <td>2015</td>\n",
       "      <td>5</td>\n",
       "      <td>8</td>\n",
       "    </tr>\n",
       "    <tr>\n",
       "      <th>2</th>\n",
       "      <td>Baltim South West</td>\n",
       "      <td>Nile Delta</td>\n",
       "      <td>2017</td>\n",
       "      <td>30</td>\n",
       "      <td>25</td>\n",
       "    </tr>\n",
       "    <tr>\n",
       "      <th>3</th>\n",
       "      <td>Kareem</td>\n",
       "      <td>Nile Delta</td>\n",
       "      <td>2018</td>\n",
       "      <td>15</td>\n",
       "      <td>11</td>\n",
       "    </tr>\n",
       "    <tr>\n",
       "      <th>4</th>\n",
       "      <td>Raven</td>\n",
       "      <td>Nile Delta</td>\n",
       "      <td>2019</td>\n",
       "      <td>8</td>\n",
       "      <td>3</td>\n",
       "    </tr>\n",
       "  </tbody>\n",
       "</table>\n",
       "</div>"
      ],
      "text/plain": [
       "          Field Name           Location  Discovery Year  \\\n",
       "0               Zohr  Mediterranean Sea            2015   \n",
       "1               Noor         Nile Delta            2015   \n",
       "2  Baltim South West         Nile Delta            2017   \n",
       "3             Kareem         Nile Delta            2018   \n",
       "4              Raven         Nile Delta            2019   \n",
       "\n",
       "   Gas Reserves (Billion Cubic Feet)  Oil Reserves (Million Barrels)  \n",
       "0                                850                             950  \n",
       "1                                  5                               8  \n",
       "2                                 30                              25  \n",
       "3                                 15                              11  \n",
       "4                                  8                               3  "
      ]
     },
     "execution_count": 35,
     "metadata": {},
     "output_type": "execute_result"
    }
   ],
   "source": [
    "# reading the data from the json file\n",
    "emp= pd.read_json(\"oil_Field.json\")\n",
    "emp"
   ]
  },
  {
   "cell_type": "code",
   "execution_count": 36,
   "id": "8f950ead-a6aa-4859-a69e-491432c74b27",
   "metadata": {},
   "outputs": [
    {
     "data": {
      "text/plain": [
       "{'country': 'Egypt',\n",
       " 'oil_reserves': {'proven': 4.4, 'probable': 1.2, 'possible': 0.8},\n",
       " 'gas_reserves': {'proven': 74, 'probable': 20, 'possible': 10},\n",
       " 'major_oil_fields': ['Suez Canal', 'Western Desert', 'Gulf of Suez'],\n",
       " 'major_gas_fields': ['Zohr', 'Nooros', 'Baltim South West']}"
      ]
     },
     "execution_count": 36,
     "metadata": {},
     "output_type": "execute_result"
    }
   ],
   "source": [
    "# loading a json  string to file\n",
    "import json\n",
    "oil_json =\"\"\"\n",
    "{\n",
    "  \"country\": \"Egypt\",\n",
    "  \"oil_reserves\": {\n",
    "    \"proven\": 4.4, \n",
    "    \"probable\": 1.2,\n",
    "    \"possible\": 0.8\n",
    "  },\n",
    "  \"gas_reserves\": {\n",
    "    \"proven\": 74,\n",
    "    \"probable\": 20,\n",
    "    \"possible\": 10\n",
    "  },\n",
    "  \"major_oil_fields\": [\n",
    "    \"Suez Canal\",\n",
    "    \"Western Desert\",\n",
    "    \"Gulf of Suez\"\n",
    "  ],\n",
    "  \"major_gas_fields\": [\n",
    "    \"Zohr\",\n",
    "    \"Nooros\",\n",
    "    \"Baltim South West\"\n",
    "  ]\n",
    "}\n",
    "\"\"\"\n",
    "fields_data = json.loads(oil_json)\n",
    "fields_data"
   ]
  },
  {
   "cell_type": "code",
   "execution_count": 37,
   "id": "e31bfdf3-61f1-424c-ac74-66350b2396b4",
   "metadata": {},
   "outputs": [
    {
     "data": {
      "text/plain": [
       "'{\"Field Name\": [\"Zohr\", \"Noor\", \"Baltim South West\", \"Kareem\", \"Raven\"], \"Location\": [\"Mediterranean Sea\", \"Nile Delta\", \"Nile Delta\", \"Nile Delta\", \"Nile Delta\"], \"Discovery Year\": [2015, 2015, 2017, 2018, 2019], \"Gas Reserves (Billion Cubic Feet)\": [850, 5, 30, 15, 8], \"Oil Reserves (Million Barrels)\": [950, 8, 25, 11, 3]}'"
      ]
     },
     "execution_count": 37,
     "metadata": {},
     "output_type": "execute_result"
    }
   ],
   "source": [
    "json_data = json.dumps(data)\n",
    "json_data\n"
   ]
  }
 ],
 "metadata": {
  "celltoolbar": "Raw Cell Format",
  "kernelspec": {
   "display_name": "Python 3 (ipykernel)",
   "language": "python",
   "name": "python3"
  },
  "language_info": {
   "codemirror_mode": {
    "name": "ipython",
    "version": 3
   },
   "file_extension": ".py",
   "mimetype": "text/x-python",
   "name": "python",
   "nbconvert_exporter": "python",
   "pygments_lexer": "ipython3",
   "version": "3.12.3"
  }
 },
 "nbformat": 4,
 "nbformat_minor": 5
}
