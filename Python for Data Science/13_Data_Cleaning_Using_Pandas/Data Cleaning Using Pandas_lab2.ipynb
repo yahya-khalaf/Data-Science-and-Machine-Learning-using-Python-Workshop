{
 "cells": [
  {
   "cell_type": "markdown",
   "id": "643ef1fe",
   "metadata": {},
   "source": [
    "# Data Cleaning Using Pandas\n",
    "\n",
    "Data cleaning is a crucial step in any data analysis project. It involves identifying and correcting errors, inconsistencies, and missing values within a dataset. A well-cleaned dataset ensures the accuracy and reliability of subsequent analyses.\n"
   ]
  },
  {
   "cell_type": "code",
   "execution_count": 1,
   "id": "eb5cdd78-3350-44f0-bcca-886f3d797360",
   "metadata": {},
   "outputs": [
    {
     "data": {
      "text/html": [
       "<div>\n",
       "<style scoped>\n",
       "    .dataframe tbody tr th:only-of-type {\n",
       "        vertical-align: middle;\n",
       "    }\n",
       "\n",
       "    .dataframe tbody tr th {\n",
       "        vertical-align: top;\n",
       "    }\n",
       "\n",
       "    .dataframe thead th {\n",
       "        text-align: right;\n",
       "    }\n",
       "</style>\n",
       "<table border=\"1\" class=\"dataframe\">\n",
       "  <thead>\n",
       "    <tr style=\"text-align: right;\">\n",
       "      <th></th>\n",
       "      <th>Id</th>\n",
       "      <th>EmployeeName</th>\n",
       "      <th>JobTitle</th>\n",
       "      <th>BasePay</th>\n",
       "      <th>OvertimePay</th>\n",
       "      <th>OtherPay</th>\n",
       "      <th>Benefits</th>\n",
       "      <th>TotalPay</th>\n",
       "      <th>TotalPayBenefits</th>\n",
       "      <th>Year</th>\n",
       "      <th>Notes</th>\n",
       "      <th>Agency</th>\n",
       "      <th>Status</th>\n",
       "    </tr>\n",
       "  </thead>\n",
       "  <tbody>\n",
       "    <tr>\n",
       "      <th>0</th>\n",
       "      <td>1</td>\n",
       "      <td>NATHANIEL FORD</td>\n",
       "      <td>GENERAL MANAGER-METROPOLITAN TRANSIT AUTHORITY</td>\n",
       "      <td>167411.18</td>\n",
       "      <td>0.00</td>\n",
       "      <td>400184.25</td>\n",
       "      <td>NaN</td>\n",
       "      <td>567595.43</td>\n",
       "      <td>567595.43</td>\n",
       "      <td>2011</td>\n",
       "      <td>NaN</td>\n",
       "      <td>San Francisco</td>\n",
       "      <td>NaN</td>\n",
       "    </tr>\n",
       "    <tr>\n",
       "      <th>1</th>\n",
       "      <td>2</td>\n",
       "      <td>GARY JIMENEZ</td>\n",
       "      <td>CAPTAIN III (POLICE DEPARTMENT)</td>\n",
       "      <td>155966.02</td>\n",
       "      <td>245131.88</td>\n",
       "      <td>137811.38</td>\n",
       "      <td>NaN</td>\n",
       "      <td>538909.28</td>\n",
       "      <td>538909.28</td>\n",
       "      <td>2011</td>\n",
       "      <td>NaN</td>\n",
       "      <td>San Francisco</td>\n",
       "      <td>NaN</td>\n",
       "    </tr>\n",
       "    <tr>\n",
       "      <th>2</th>\n",
       "      <td>3</td>\n",
       "      <td>ALBERT PARDINI</td>\n",
       "      <td>CAPTAIN III (POLICE DEPARTMENT)</td>\n",
       "      <td>212739.13</td>\n",
       "      <td>106088.18</td>\n",
       "      <td>16452.60</td>\n",
       "      <td>NaN</td>\n",
       "      <td>335279.91</td>\n",
       "      <td>335279.91</td>\n",
       "      <td>2011</td>\n",
       "      <td>NaN</td>\n",
       "      <td>San Francisco</td>\n",
       "      <td>NaN</td>\n",
       "    </tr>\n",
       "    <tr>\n",
       "      <th>3</th>\n",
       "      <td>4</td>\n",
       "      <td>CHRISTOPHER CHONG</td>\n",
       "      <td>WIRE ROPE CABLE MAINTENANCE MECHANIC</td>\n",
       "      <td>77916.00</td>\n",
       "      <td>56120.71</td>\n",
       "      <td>198306.90</td>\n",
       "      <td>NaN</td>\n",
       "      <td>332343.61</td>\n",
       "      <td>332343.61</td>\n",
       "      <td>2011</td>\n",
       "      <td>NaN</td>\n",
       "      <td>San Francisco</td>\n",
       "      <td>NaN</td>\n",
       "    </tr>\n",
       "    <tr>\n",
       "      <th>4</th>\n",
       "      <td>5</td>\n",
       "      <td>PATRICK GARDNER</td>\n",
       "      <td>DEPUTY CHIEF OF DEPARTMENT,(FIRE DEPARTMENT)</td>\n",
       "      <td>134401.60</td>\n",
       "      <td>9737.00</td>\n",
       "      <td>182234.59</td>\n",
       "      <td>NaN</td>\n",
       "      <td>326373.19</td>\n",
       "      <td>326373.19</td>\n",
       "      <td>2011</td>\n",
       "      <td>NaN</td>\n",
       "      <td>San Francisco</td>\n",
       "      <td>NaN</td>\n",
       "    </tr>\n",
       "  </tbody>\n",
       "</table>\n",
       "</div>"
      ],
      "text/plain": [
       "   Id       EmployeeName                                        JobTitle  \\\n",
       "0   1     NATHANIEL FORD  GENERAL MANAGER-METROPOLITAN TRANSIT AUTHORITY   \n",
       "1   2       GARY JIMENEZ                 CAPTAIN III (POLICE DEPARTMENT)   \n",
       "2   3     ALBERT PARDINI                 CAPTAIN III (POLICE DEPARTMENT)   \n",
       "3   4  CHRISTOPHER CHONG            WIRE ROPE CABLE MAINTENANCE MECHANIC   \n",
       "4   5    PATRICK GARDNER    DEPUTY CHIEF OF DEPARTMENT,(FIRE DEPARTMENT)   \n",
       "\n",
       "     BasePay  OvertimePay   OtherPay  Benefits   TotalPay  TotalPayBenefits  \\\n",
       "0  167411.18         0.00  400184.25       NaN  567595.43         567595.43   \n",
       "1  155966.02    245131.88  137811.38       NaN  538909.28         538909.28   \n",
       "2  212739.13    106088.18   16452.60       NaN  335279.91         335279.91   \n",
       "3   77916.00     56120.71  198306.90       NaN  332343.61         332343.61   \n",
       "4  134401.60      9737.00  182234.59       NaN  326373.19         326373.19   \n",
       "\n",
       "   Year  Notes         Agency  Status  \n",
       "0  2011    NaN  San Francisco     NaN  \n",
       "1  2011    NaN  San Francisco     NaN  \n",
       "2  2011    NaN  San Francisco     NaN  \n",
       "3  2011    NaN  San Francisco     NaN  \n",
       "4  2011    NaN  San Francisco     NaN  "
      ]
     },
     "execution_count": 1,
     "metadata": {},
     "output_type": "execute_result"
    }
   ],
   "source": [
    "import numpy as np # linear algebra\n",
    "import pandas as pd # data processing, CSV file I/O (e.g. pd.read_csv)\n",
    "import matplotlib.pyplot as plt  # Visualization\n",
    "\n",
    "df = pd.read_csv(\"Salaries.csv\")\n",
    "df.head()"
   ]
  },
  {
   "cell_type": "code",
   "execution_count": 2,
   "id": "ae450a89-fe92-4db4-8540-bd000603b94a",
   "metadata": {},
   "outputs": [
    {
     "data": {
      "text/html": [
       "<div>\n",
       "<style scoped>\n",
       "    .dataframe tbody tr th:only-of-type {\n",
       "        vertical-align: middle;\n",
       "    }\n",
       "\n",
       "    .dataframe tbody tr th {\n",
       "        vertical-align: top;\n",
       "    }\n",
       "\n",
       "    .dataframe thead th {\n",
       "        text-align: right;\n",
       "    }\n",
       "</style>\n",
       "<table border=\"1\" class=\"dataframe\">\n",
       "  <thead>\n",
       "    <tr style=\"text-align: right;\">\n",
       "      <th></th>\n",
       "      <th>Id</th>\n",
       "      <th>BasePay</th>\n",
       "      <th>OvertimePay</th>\n",
       "      <th>OtherPay</th>\n",
       "      <th>Benefits</th>\n",
       "      <th>TotalPay</th>\n",
       "      <th>TotalPayBenefits</th>\n",
       "      <th>Year</th>\n",
       "      <th>Notes</th>\n",
       "      <th>Status</th>\n",
       "    </tr>\n",
       "  </thead>\n",
       "  <tbody>\n",
       "    <tr>\n",
       "      <th>count</th>\n",
       "      <td>148850.000000</td>\n",
       "      <td>148241.000000</td>\n",
       "      <td>148846.000000</td>\n",
       "      <td>148846.000000</td>\n",
       "      <td>112687.000000</td>\n",
       "      <td>148850.000000</td>\n",
       "      <td>148850.000000</td>\n",
       "      <td>148850.000000</td>\n",
       "      <td>0.0</td>\n",
       "      <td>0.0</td>\n",
       "    </tr>\n",
       "    <tr>\n",
       "      <th>mean</th>\n",
       "      <td>74425.238320</td>\n",
       "      <td>66237.832588</td>\n",
       "      <td>5059.388913</td>\n",
       "      <td>3643.990496</td>\n",
       "      <td>24964.400586</td>\n",
       "      <td>74669.974821</td>\n",
       "      <td>93569.292314</td>\n",
       "      <td>2012.524589</td>\n",
       "      <td>NaN</td>\n",
       "      <td>NaN</td>\n",
       "    </tr>\n",
       "    <tr>\n",
       "      <th>std</th>\n",
       "      <td>42968.986043</td>\n",
       "      <td>42804.140614</td>\n",
       "      <td>11448.310643</td>\n",
       "      <td>8052.370363</td>\n",
       "      <td>15424.049263</td>\n",
       "      <td>50556.337473</td>\n",
       "      <td>62843.928192</td>\n",
       "      <td>1.118086</td>\n",
       "      <td>NaN</td>\n",
       "      <td>NaN</td>\n",
       "    </tr>\n",
       "    <tr>\n",
       "      <th>min</th>\n",
       "      <td>1.000000</td>\n",
       "      <td>-166.010000</td>\n",
       "      <td>-0.010000</td>\n",
       "      <td>-7058.590000</td>\n",
       "      <td>-33.890000</td>\n",
       "      <td>-618.130000</td>\n",
       "      <td>-618.130000</td>\n",
       "      <td>2011.000000</td>\n",
       "      <td>NaN</td>\n",
       "      <td>NaN</td>\n",
       "    </tr>\n",
       "    <tr>\n",
       "      <th>25%</th>\n",
       "      <td>37213.250000</td>\n",
       "      <td>33339.040000</td>\n",
       "      <td>0.000000</td>\n",
       "      <td>0.000000</td>\n",
       "      <td>11330.120000</td>\n",
       "      <td>35904.602500</td>\n",
       "      <td>43713.937500</td>\n",
       "      <td>2012.000000</td>\n",
       "      <td>NaN</td>\n",
       "      <td>NaN</td>\n",
       "    </tr>\n",
       "    <tr>\n",
       "      <th>50%</th>\n",
       "      <td>74425.500000</td>\n",
       "      <td>64957.620000</td>\n",
       "      <td>0.000000</td>\n",
       "      <td>806.475000</td>\n",
       "      <td>28607.770000</td>\n",
       "      <td>71364.020000</td>\n",
       "      <td>92322.405000</td>\n",
       "      <td>2013.000000</td>\n",
       "      <td>NaN</td>\n",
       "      <td>NaN</td>\n",
       "    </tr>\n",
       "    <tr>\n",
       "      <th>75%</th>\n",
       "      <td>111637.750000</td>\n",
       "      <td>94691.020000</td>\n",
       "      <td>4646.917500</td>\n",
       "      <td>4228.070000</td>\n",
       "      <td>35553.990000</td>\n",
       "      <td>105764.265000</td>\n",
       "      <td>132787.170000</td>\n",
       "      <td>2014.000000</td>\n",
       "      <td>NaN</td>\n",
       "      <td>NaN</td>\n",
       "    </tr>\n",
       "    <tr>\n",
       "      <th>max</th>\n",
       "      <td>148654.000000</td>\n",
       "      <td>319275.010000</td>\n",
       "      <td>245131.880000</td>\n",
       "      <td>400184.250000</td>\n",
       "      <td>96570.660000</td>\n",
       "      <td>567595.430000</td>\n",
       "      <td>567595.430000</td>\n",
       "      <td>2014.000000</td>\n",
       "      <td>NaN</td>\n",
       "      <td>NaN</td>\n",
       "    </tr>\n",
       "  </tbody>\n",
       "</table>\n",
       "</div>"
      ],
      "text/plain": [
       "                  Id        BasePay    OvertimePay       OtherPay  \\\n",
       "count  148850.000000  148241.000000  148846.000000  148846.000000   \n",
       "mean    74425.238320   66237.832588    5059.388913    3643.990496   \n",
       "std     42968.986043   42804.140614   11448.310643    8052.370363   \n",
       "min         1.000000    -166.010000      -0.010000   -7058.590000   \n",
       "25%     37213.250000   33339.040000       0.000000       0.000000   \n",
       "50%     74425.500000   64957.620000       0.000000     806.475000   \n",
       "75%    111637.750000   94691.020000    4646.917500    4228.070000   \n",
       "max    148654.000000  319275.010000  245131.880000  400184.250000   \n",
       "\n",
       "            Benefits       TotalPay  TotalPayBenefits           Year  Notes  \\\n",
       "count  112687.000000  148850.000000     148850.000000  148850.000000    0.0   \n",
       "mean    24964.400586   74669.974821      93569.292314    2012.524589    NaN   \n",
       "std     15424.049263   50556.337473      62843.928192       1.118086    NaN   \n",
       "min       -33.890000    -618.130000       -618.130000    2011.000000    NaN   \n",
       "25%     11330.120000   35904.602500      43713.937500    2012.000000    NaN   \n",
       "50%     28607.770000   71364.020000      92322.405000    2013.000000    NaN   \n",
       "75%     35553.990000  105764.265000     132787.170000    2014.000000    NaN   \n",
       "max     96570.660000  567595.430000     567595.430000    2014.000000    NaN   \n",
       "\n",
       "       Status  \n",
       "count     0.0  \n",
       "mean      NaN  \n",
       "std       NaN  \n",
       "min       NaN  \n",
       "25%       NaN  \n",
       "50%       NaN  \n",
       "75%       NaN  \n",
       "max       NaN  "
      ]
     },
     "execution_count": 2,
     "metadata": {},
     "output_type": "execute_result"
    }
   ],
   "source": [
    "df.describe()"
   ]
  },
  {
   "cell_type": "code",
   "execution_count": 3,
   "id": "9dcf0a42-07f3-415c-b4bc-3d2db325f0ed",
   "metadata": {},
   "outputs": [
    {
     "name": "stdout",
     "output_type": "stream",
     "text": [
      "<class 'pandas.core.frame.DataFrame'>\n",
      "RangeIndex: 148850 entries, 0 to 148849\n",
      "Data columns (total 13 columns):\n",
      " #   Column            Non-Null Count   Dtype  \n",
      "---  ------            --------------   -----  \n",
      " 0   Id                148850 non-null  int64  \n",
      " 1   EmployeeName      148850 non-null  object \n",
      " 2   JobTitle          148850 non-null  object \n",
      " 3   BasePay           148241 non-null  float64\n",
      " 4   OvertimePay       148846 non-null  float64\n",
      " 5   OtherPay          148846 non-null  float64\n",
      " 6   Benefits          112687 non-null  float64\n",
      " 7   TotalPay          148850 non-null  float64\n",
      " 8   TotalPayBenefits  148850 non-null  float64\n",
      " 9   Year              148850 non-null  int64  \n",
      " 10  Notes             0 non-null       float64\n",
      " 11  Agency            148850 non-null  object \n",
      " 12  Status            0 non-null       float64\n",
      "dtypes: float64(8), int64(2), object(3)\n",
      "memory usage: 14.8+ MB\n"
     ]
    }
   ],
   "source": [
    "# Use the .info() method to find out how many entries there are.\n",
    "df.info()"
   ]
  },
  {
   "cell_type": "markdown",
   "id": "c6ec536a-7f39-4c33-b99d-fe4ccc394c1c",
   "metadata": {},
   "source": [
    "### Maximum OvertimePay\n",
    "Find the highest OvertimePay value in the dataset."
   ]
  },
  {
   "cell_type": "code",
   "execution_count": 4,
   "id": "bca0c660-55a7-4e30-80c3-4b7a494624e9",
   "metadata": {},
   "outputs": [
    {
     "data": {
      "text/plain": [
       "np.float64(245131.88)"
      ]
     },
     "execution_count": 4,
     "metadata": {},
     "output_type": "execute_result"
    }
   ],
   "source": [
    "# is the highest amount of OvertimePay in the dataset ?\n",
    "df['OvertimePay'].max()"
   ]
  },
  {
   "cell_type": "markdown",
   "id": "cf22fb6c-0586-4e32-8ead-874ddcca50d1",
   "metadata": {},
   "source": [
    "### Average BasePay\n",
    "Calculate the average BasePay."
   ]
  },
  {
   "cell_type": "code",
   "execution_count": 5,
   "id": "8999454a-209e-465e-a59b-59007227485d",
   "metadata": {},
   "outputs": [
    {
     "data": {
      "text/plain": [
       "np.float64(66237.83258794801)"
      ]
     },
     "execution_count": 5,
     "metadata": {},
     "output_type": "execute_result"
    }
   ],
   "source": [
    "# What is the average BasePay ?\n",
    "df['BasePay'].mean()"
   ]
  },
  {
   "cell_type": "markdown",
   "id": "5125e2a2-8d41-4a3a-9c7e-6c506e7f7bcf",
   "metadata": {},
   "source": [
    "## Querying Specific Rows\n",
    "### Job Title of \"JOSEPH DRISCOLL\"\n",
    "We will use a filter to query information about this employee."
   ]
  },
  {
   "cell_type": "code",
   "execution_count": 6,
   "id": "63f84086-2b4f-4ffd-97ac-f70c236dfcec",
   "metadata": {},
   "outputs": [
    {
     "data": {
      "text/plain": [
       "24    CAPTAIN, FIRE SUPPRESSION\n",
       "Name: JobTitle, dtype: object"
      ]
     },
     "execution_count": 6,
     "metadata": {},
     "output_type": "execute_result"
    }
   ],
   "source": [
    "\n",
    "# Get all details of JOSEPH DRISCOLL\n",
    "df[df['EmployeeName'] == 'JOSEPH DRISCOLL']\n",
    "\n",
    "# Get only the JobTitle of JOSEPH DRISCOLL\n",
    "df[df['EmployeeName'] == 'JOSEPH DRISCOLL']['JobTitle']"
   ]
  },
  {
   "cell_type": "markdown",
   "id": "8fbdf2bf-9659-4164-9ecf-70198f2ff5ac",
   "metadata": {},
   "source": [
    "##### Total Pay (Including Benefits) for \"JOSEPH DRISCOLL\"\n"
   ]
  },
  {
   "cell_type": "code",
   "execution_count": 7,
   "id": "23b17cb2-2888-444f-94ee-08229c9cae2b",
   "metadata": {},
   "outputs": [
    {
     "data": {
      "text/plain": [
       "24    270324.91\n",
       "Name: TotalPayBenefits, dtype: float64"
      ]
     },
     "execution_count": 7,
     "metadata": {},
     "output_type": "execute_result"
    }
   ],
   "source": [
    "df[df['EmployeeName'] == 'JOSEPH DRISCOLL']['TotalPayBenefits']\n"
   ]
  },
  {
   "cell_type": "markdown",
   "id": "f41f0f9f-dc93-4d07-a0ca-f89f17062e72",
   "metadata": {},
   "source": [
    "## Aggregations and Insights\n",
    "### Highest Paid Person (Including Benefits)"
   ]
  },
  {
   "cell_type": "code",
   "execution_count": 8,
   "id": "a8d510fd-89ed-4795-bca2-5020959d16bf",
   "metadata": {},
   "outputs": [
    {
     "data": {
      "text/html": [
       "<div>\n",
       "<style scoped>\n",
       "    .dataframe tbody tr th:only-of-type {\n",
       "        vertical-align: middle;\n",
       "    }\n",
       "\n",
       "    .dataframe tbody tr th {\n",
       "        vertical-align: top;\n",
       "    }\n",
       "\n",
       "    .dataframe thead th {\n",
       "        text-align: right;\n",
       "    }\n",
       "</style>\n",
       "<table border=\"1\" class=\"dataframe\">\n",
       "  <thead>\n",
       "    <tr style=\"text-align: right;\">\n",
       "      <th></th>\n",
       "      <th>Id</th>\n",
       "      <th>EmployeeName</th>\n",
       "      <th>JobTitle</th>\n",
       "      <th>BasePay</th>\n",
       "      <th>OvertimePay</th>\n",
       "      <th>OtherPay</th>\n",
       "      <th>Benefits</th>\n",
       "      <th>TotalPay</th>\n",
       "      <th>TotalPayBenefits</th>\n",
       "      <th>Year</th>\n",
       "      <th>Notes</th>\n",
       "      <th>Agency</th>\n",
       "      <th>Status</th>\n",
       "    </tr>\n",
       "  </thead>\n",
       "  <tbody>\n",
       "    <tr>\n",
       "      <th>0</th>\n",
       "      <td>1</td>\n",
       "      <td>NATHANIEL FORD</td>\n",
       "      <td>GENERAL MANAGER-METROPOLITAN TRANSIT AUTHORITY</td>\n",
       "      <td>167411.18</td>\n",
       "      <td>0.0</td>\n",
       "      <td>400184.25</td>\n",
       "      <td>NaN</td>\n",
       "      <td>567595.43</td>\n",
       "      <td>567595.43</td>\n",
       "      <td>2011</td>\n",
       "      <td>NaN</td>\n",
       "      <td>San Francisco</td>\n",
       "      <td>NaN</td>\n",
       "    </tr>\n",
       "  </tbody>\n",
       "</table>\n",
       "</div>"
      ],
      "text/plain": [
       "   Id    EmployeeName                                        JobTitle  \\\n",
       "0   1  NATHANIEL FORD  GENERAL MANAGER-METROPOLITAN TRANSIT AUTHORITY   \n",
       "\n",
       "     BasePay  OvertimePay   OtherPay  Benefits   TotalPay  TotalPayBenefits  \\\n",
       "0  167411.18          0.0  400184.25       NaN  567595.43         567595.43   \n",
       "\n",
       "   Year  Notes         Agency  Status  \n",
       "0  2011    NaN  San Francisco     NaN  "
      ]
     },
     "execution_count": 8,
     "metadata": {},
     "output_type": "execute_result"
    }
   ],
   "source": [
    "df[df['TotalPayBenefits'] == df['TotalPayBenefits'].max()]"
   ]
  },
  {
   "cell_type": "markdown",
   "id": "f0da7609-0f79-4c43-9e48-6041386128a8",
   "metadata": {},
   "source": [
    "### Unique Job Titles\n",
    "Two ways to find the number of unique job titles:"
   ]
  },
  {
   "cell_type": "code",
   "execution_count": 9,
   "id": "03c2d5a9-7e42-4b44-81eb-c5804ab072fb",
   "metadata": {},
   "outputs": [
    {
     "data": {
      "text/plain": [
       "2159"
      ]
     },
     "execution_count": 9,
     "metadata": {},
     "output_type": "execute_result"
    }
   ],
   "source": [
    "\n",
    "# Method 1\n",
    "df['JobTitle'].nunique()\n"
   ]
  },
  {
   "cell_type": "code",
   "execution_count": 10,
   "id": "ffff66ec-12e8-4387-89cc-7cafe981e146",
   "metadata": {},
   "outputs": [
    {
     "data": {
      "text/plain": [
       "2159"
      ]
     },
     "execution_count": 10,
     "metadata": {},
     "output_type": "execute_result"
    }
   ],
   "source": [
    "\n",
    "# Method 2\n",
    "len(df['JobTitle'].unique())"
   ]
  },
  {
   "cell_type": "markdown",
   "id": "f29b0721-df07-48e2-8fcb-e4fa0bc2f331",
   "metadata": {},
   "source": [
    "### Top 5 Most Common Jobs"
   ]
  },
  {
   "cell_type": "code",
   "execution_count": 11,
   "id": "68de30e6-fab2-4818-8aa2-dd1517ba1380",
   "metadata": {},
   "outputs": [
    {
     "data": {
      "text/plain": [
       "JobTitle\n",
       "Transit Operator                7036\n",
       "Special Nurse                   4403\n",
       "Registered Nurse                3740\n",
       "Public Svc Aide-Public Works    2536\n",
       "Police Officer 3                2421\n",
       "Name: count, dtype: int64"
      ]
     },
     "execution_count": 11,
     "metadata": {},
     "output_type": "execute_result"
    }
   ],
   "source": [
    "# Method 1\n",
    "df['JobTitle'].value_counts()[:5]\n"
   ]
  },
  {
   "cell_type": "code",
   "execution_count": 12,
   "id": "154ccd6f-7505-4b47-b9cd-caeb1c7c76f0",
   "metadata": {},
   "outputs": [
    {
     "data": {
      "text/plain": [
       "JobTitle\n",
       "Transit Operator                7036\n",
       "Special Nurse                   4403\n",
       "Registered Nurse                3740\n",
       "Public Svc Aide-Public Works    2536\n",
       "Police Officer 3                2421\n",
       "Name: count, dtype: int64"
      ]
     },
     "execution_count": 12,
     "metadata": {},
     "output_type": "execute_result"
    }
   ],
   "source": [
    "\n",
    "# Method 2\n",
    "df['JobTitle'].value_counts().head(5)"
   ]
  },
  {
   "cell_type": "markdown",
   "id": "6d635cae-b829-45ef-9f8f-8e8788d4d1d5",
   "metadata": {},
   "source": [
    "## Handling Duplicates\n",
    "### Count Duplicate Rows"
   ]
  },
  {
   "cell_type": "code",
   "execution_count": 13,
   "id": "ee992ac2-f1b4-4a30-857c-925eb299c037",
   "metadata": {},
   "outputs": [
    {
     "data": {
      "text/plain": [
       "np.int64(196)"
      ]
     },
     "execution_count": 13,
     "metadata": {},
     "output_type": "execute_result"
    }
   ],
   "source": [
    "df.duplicated().sum()"
   ]
  },
  {
   "cell_type": "markdown",
   "id": "689889df-f043-4a05-bb3b-095c70a080d1",
   "metadata": {},
   "source": [
    "### Remove Duplicate Rows"
   ]
  },
  {
   "cell_type": "code",
   "execution_count": 14,
   "id": "cb736ce2-1254-40aa-816a-726d2ab35364",
   "metadata": {},
   "outputs": [
    {
     "data": {
      "text/plain": [
       "np.int64(0)"
      ]
     },
     "execution_count": 14,
     "metadata": {},
     "output_type": "execute_result"
    }
   ],
   "source": [
    "df = df.drop_duplicates()\n",
    "\n",
    "# Verify that duplicates are removed\n",
    "df.duplicated().sum()"
   ]
  },
  {
   "cell_type": "markdown",
   "id": "779e37e1-d684-4f5d-bdca-ea1556b98238",
   "metadata": {},
   "source": [
    "\n",
    "## Visualizing the Data\n",
    "### Distribution of Base Pay\n",
    "We will plot a histogram to visualize the distribution of BasePay."
   ]
  },
  {
   "cell_type": "code",
   "execution_count": 15,
   "id": "53f5d2fc-a899-4d3c-98b5-ce3fef3e754a",
   "metadata": {},
   "outputs": [
    {
     "data": {
      "image/png": "[encoded data removed]",
      "text/plain": [
       "<Figure size 640x480 with 1 Axes>"
      ]
     },
     "metadata": {},
     "output_type": "display_data"
    }
   ],
   "source": [
    "plt.hist(df['BasePay'], bins=20, color='skyblue', edgecolor='black')\n",
    "plt.xlabel('Base Pay')\n",
    "plt.ylabel('Frequency')\n",
    "plt.title('Distribution of Base Pay')\n",
    "plt.show()"
   ]
  },
  {
   "cell_type": "markdown",
   "id": "e38268c0-f24d-4ea6-b8f3-f98825756ca9",
   "metadata": {},
   "source": [
    "### Relationship Between Base Pay and Overtime Pay\n",
    "A scatter plot will help visualize this relationship.\n"
   ]
  },
  {
   "cell_type": "code",
   "execution_count": 16,
   "id": "df3a3d13-ca33-4b59-9703-0ad7f6428b9e",
   "metadata": {},
   "outputs": [
    {
     "data": {
      "image/png": "[encoded data removed]",
      "text/plain": [
       "<Figure size 640x480 with 1 Axes>"
      ]
     },
     "metadata": {},
     "output_type": "display_data"
    }
   ],
   "source": [
    "\n",
    "plt.scatter(df['BasePay'], df['OvertimePay'], alpha=0.5, color='purple')\n",
    "plt.xlabel('Base Pay')\n",
    "plt.ylabel('Overtime Pay')\n",
    "plt.title('Base Pay vs. Overtime Pay')\n",
    "plt.show()\n"
   ]
  },
  {
   "cell_type": "code",
   "execution_count": null,
   "id": "44c9c678-88c4-4b80-afbe-a32484abb218",
   "metadata": {},
   "outputs": [],
   "source": []
  }
 ],
 "metadata": {
  "kernelspec": {
   "display_name": "Python 3 (ipykernel)",
   "language": "python",
   "name": "python3"
  },
  "language_info": {
   "codemirror_mode": {
    "name": "ipython",
    "version": 3
   },
   "file_extension": ".py",
   "mimetype": "text/x-python",
   "name": "python",
   "nbconvert_exporter": "python",
   "pygments_lexer": "ipython3",
   "version": "3.12.3"
  }
 },
 "nbformat": 4,
 "nbformat_minor": 5
}
