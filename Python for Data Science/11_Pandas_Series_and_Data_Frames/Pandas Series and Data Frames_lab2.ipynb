{
 "cells": [
  {
   "cell_type": "markdown",
   "id": "6e332c9e",
   "metadata": {},
   "source": [
    "## Pandas Series and DataFrame\n",
    "### What is a Series?\n",
    "\n",
    "A pandas Series is a one-dimensional labeled array capable of holding any data type (integers, strings, floats, etc.). Its key features include:\n",
    "\n",
    "    Homogeneous Data: All elements must be of the same type.\n",
    "    Labeled Index: Each element is associated with a label.\n",
    "    Flexible Indexing: Supports both integer and label-based indexing.\n",
    "\n",
    "Example: Creating and Exploring Series"
   ]
  },
  {
   "cell_type": "code",
   "execution_count": 1,
   "id": "702e2398-cc1c-41dc-b8cb-982d4a299282",
   "metadata": {},
   "outputs": [
    {
     "name": "stdout",
     "output_type": "stream",
     "text": [
      "Series of well names:\n",
      " 0    Well-A\n",
      "1    Well-B\n",
      "2    Well-C\n",
      "3    Well-D\n",
      "4    Well-E\n",
      "dtype: object\n",
      "\n",
      "Series of production rates:\n",
      " Well-A    1000\n",
      "Well-B    1500\n",
      "Well-C    2000\n",
      "Well-D    1800\n",
      "Well-E    1200\n",
      "dtype: int64\n"
     ]
    }
   ],
   "source": [
    "import pandas as pd\n",
    "import numpy as np\n",
    "\n",
    "# Create a Series of oil well names\n",
    "well_names = ['Well-A', 'Well-B', 'Well-C', 'Well-D', 'Well-E']\n",
    "series_well_names = pd.Series(well_names)\n",
    "print(\"Series of well names:\\n\", series_well_names)\n",
    "\n",
    "# Create a Series of oil production rates (barrels per day)\n",
    "production_rates = [1000, 1500, 2000, 1800, 1200]\n",
    "series_production_rates = pd.Series(production_rates, index=well_names)\n",
    "print(\"\\nSeries of production rates:\\n\", series_production_rates)\n"
   ]
  },
  {
   "cell_type": "markdown",
   "id": "3a4aadaf-ebe6-4366-b195-2b55620b4274",
   "metadata": {},
   "source": [
    "### Series Creation\n",
    "#### From List\n",
    "\n",
    "You can easily create a Series from a Python list. The list's elements become the values, and an integer index is automatically assigned."
   ]
  },
  {
   "cell_type": "code",
   "execution_count": 2,
   "id": "d93e7b4a-e940-412f-9f65-09b633fd90c8",
   "metadata": {},
   "outputs": [
    {
     "name": "stdout",
     "output_type": "stream",
     "text": [
      "Series from list:\n",
      " 0    1\n",
      "1    2\n",
      "2    3\n",
      "3    4\n",
      "4    5\n",
      "dtype: int64\n"
     ]
    }
   ],
   "source": [
    "series_from_list = pd.Series([1, 2, 3, 4, 5])\n",
    "print(\"Series from list:\\n\", series_from_list)"
   ]
  },
  {
   "cell_type": "markdown",
   "id": "e186bb72-6772-4d3a-9921-5ee2782c728e",
   "metadata": {},
   "source": [
    "#### From Dictionary\n",
    "\n",
    "Use a dictionary where keys become the index, and values become the Series' values.\n",
    "\n"
   ]
  },
  {
   "cell_type": "code",
   "execution_count": 3,
   "id": "879ecd73-627c-4348-bc0a-845843350282",
   "metadata": {},
   "outputs": [
    {
     "name": "stdout",
     "output_type": "stream",
     "text": [
      "Series from dictionary:\n",
      " a    10\n",
      "b    20\n",
      "c    30\n",
      "dtype: int64\n"
     ]
    }
   ],
   "source": [
    "series_from_dict = pd.Series({'a': 10, 'b': 20, 'c': 30})\n",
    "print(\"Series from dictionary:\\n\", series_from_dict)"
   ]
  },
  {
   "cell_type": "markdown",
   "id": "37ef4e4c-c866-4922-9931-d727350ec91d",
   "metadata": {},
   "source": [
    "#### From Scalar\n",
    "\n",
    "A scalar value can be converted into a Series by specifying an index.\n",
    "\n"
   ]
  },
  {
   "cell_type": "code",
   "execution_count": 4,
   "id": "55112d35-0d6f-4a41-b9cb-10201ca14821",
   "metadata": {},
   "outputs": [
    {
     "name": "stdout",
     "output_type": "stream",
     "text": [
      "Series from scalar value:\n",
      " A    42\n",
      "B    42\n",
      "C    42\n",
      "dtype: int64\n"
     ]
    }
   ],
   "source": [
    "scalar_value = 42\n",
    "series_from_scalar = pd.Series(scalar_value, index=['A', 'B', 'C'])\n",
    "print(\"Series from scalar value:\\n\", series_from_scalar)\n"
   ]
  },
  {
   "cell_type": "markdown",
   "id": "b47d2527-f635-42cc-ae20-10731c3c6ad7",
   "metadata": {},
   "source": [
    "#### From NumPy Array\n",
    "\n",
    "You can convert NumPy arrays into Series seamlessly."
   ]
  },
  {
   "cell_type": "code",
   "execution_count": 5,
   "id": "5d07fc53-0a73-4913-b91d-b6e604605051",
   "metadata": {},
   "outputs": [
    {
     "name": "stdout",
     "output_type": "stream",
     "text": [
      "Series from NumPy array:\n",
      " 0    1\n",
      "1    2\n",
      "2    3\n",
      "3    4\n",
      "4    5\n",
      "dtype: int64\n"
     ]
    }
   ],
   "source": [
    "numpy_array = np.array([1, 2, 3, 4, 5])\n",
    "series_from_array = pd.Series(numpy_array)\n",
    "print(\"Series from NumPy array:\\n\", series_from_array)\n"
   ]
  },
  {
   "cell_type": "code",
   "execution_count": 6,
   "id": "71f42f86-bb5c-456d-a4fd-47974a984ef1",
   "metadata": {},
   "outputs": [
    {
     "name": "stdout",
     "output_type": "stream",
     "text": [
      "\n",
      "Series of wellhead temperatures:\n",
      " Well-A    150\n",
      "Well-B    160\n",
      "Well-C    170\n",
      "Well-D    155\n",
      "Well-E    165\n",
      "dtype: int64\n"
     ]
    }
   ],
   "source": [
    "\n",
    "# Create a Series of wellhead temperatures (Fahrenheit)\n",
    "temperatures = [150, 160, 170, 155, 165]\n",
    "series_temperatures = pd.Series(temperatures, index=well_names)\n",
    "print(\"\\nSeries of wellhead temperatures:\\n\", series_temperatures)"
   ]
  },
  {
   "cell_type": "markdown",
   "id": "ad901057",
   "metadata": {},
   "source": [
    "### Basic Operations on Series\n",
    "#### Accessing Data\n",
    "\n",
    "Series allow you to access elements using labels or positions."
   ]
  },
  {
   "cell_type": "code",
   "execution_count": 7,
   "id": "fc4c794a-5e47-4a4f-8955-1d9b2162531a",
   "metadata": {},
   "outputs": [
    {
     "name": "stdout",
     "output_type": "stream",
     "text": [
      "Access by label 'a': Well-A\n",
      "Access by position 1: Well-B\n"
     ]
    }
   ],
   "source": [
    "# Create a labeled Series\n",
    "well_names = pd.Series(['Well-A', 'Well-B', 'Well-C'], index=['a', 'b', 'c'])\n",
    "\n",
    "# Access by label\n",
    "print(\"Access by label 'a':\", well_names['a'])\n",
    "\n",
    "# Access by position\n",
    "print(\"Access by position 1:\", well_names.iloc[1])\n"
   ]
  },
  {
   "cell_type": "markdown",
   "id": "51731d30-a8f0-43c7-91b2-f748da5b1a4f",
   "metadata": {},
   "source": [
    "#### Indexing and Slicing"
   ]
  },
  {
   "cell_type": "code",
   "execution_count": 8,
   "id": "c57d348b-a9c4-4cac-a175-989a5dfdf0a1",
   "metadata": {},
   "outputs": [
    {
     "name": "stdout",
     "output_type": "stream",
     "text": [
      "Label-based slicing:\n",
      " a    Well-A\n",
      "b    Well-B\n",
      "dtype: object\n",
      "Position-based slicing:\n",
      " a    Well-A\n",
      "b    Well-B\n",
      "dtype: object\n"
     ]
    }
   ],
   "source": [
    "# Label-based slicing\n",
    "print(\"Label-based slicing:\\n\", well_names['a':'b'])\n",
    "\n",
    "# Position-based slicing\n",
    "print(\"Position-based slicing:\\n\", well_names.iloc[0:2])"
   ]
  },
  {
   "cell_type": "markdown",
   "id": "36d5d65f",
   "metadata": {},
   "source": [
    "### Vectorized Operations\n",
    "\n",
    "Perform efficient element-wise operations."
   ]
  },
  {
   "cell_type": "code",
   "execution_count": 9,
   "id": "197ba631-b9f2-48b7-a495-676fa60c1891",
   "metadata": {},
   "outputs": [
    {
     "name": "stdout",
     "output_type": "stream",
     "text": [
      "Increased production rates:\n",
      " 0    1100.0\n",
      "1    1650.0\n",
      "2    2200.0\n",
      "dtype: float64\n"
     ]
    }
   ],
   "source": [
    "# Increase production rates by 10%\n",
    "production_rates = pd.Series([1000, 1500, 2000])\n",
    "increased_rates = production_rates * 1.1\n",
    "print(\"Increased production rates:\\n\", increased_rates)\n"
   ]
  },
  {
   "cell_type": "markdown",
   "id": "3c45cb54",
   "metadata": {},
   "source": [
    "### Handling Missing Data\n",
    "\n",
    "Detect, fill, or drop missing values.\n",
    "\n"
   ]
  },
  {
   "cell_type": "code",
   "execution_count": 10,
   "id": "69864799-8d80-4edf-ab1d-478a603911bf",
   "metadata": {},
   "outputs": [
    {
     "name": "stdout",
     "output_type": "stream",
     "text": [
      "Missing values:\n",
      " 0    False\n",
      "1     True\n",
      "2    False\n",
      "dtype: bool\n",
      "Filled values:\n",
      " 0    1000.0\n",
      "1       0.0\n",
      "2    2000.0\n",
      "dtype: float64\n",
      "Dropped values:\n",
      " 0    1000.0\n",
      "2    2000.0\n",
      "dtype: float64\n"
     ]
    }
   ],
   "source": [
    "# Create a Series with missing values\n",
    "rates_with_missing = pd.Series([1000, None, 2000])\n",
    "print(\"Missing values:\\n\", rates_with_missing.isna())\n",
    "\n",
    "# Fill missing values\n",
    "filled_rates = rates_with_missing.fillna(0)\n",
    "print(\"Filled values:\\n\", filled_rates)\n",
    "\n",
    "# Drop missing values\n",
    "dropped_rates = rates_with_missing.dropna()\n",
    "print(\"Dropped values:\\n\", dropped_rates)\n"
   ]
  },
  {
   "cell_type": "markdown",
   "id": "227f87bf",
   "metadata": {},
   "source": [
    "### Statistical Methods\n",
    "\n",
    "Perform statistical operations on Series."
   ]
  },
  {
   "cell_type": "code",
   "execution_count": 11,
   "id": "ddc754c0-6ca5-4d86-ba37-73eaff093ba7",
   "metadata": {},
   "outputs": [
    {
     "name": "stdout",
     "output_type": "stream",
     "text": [
      "Mean: 1500.0\n",
      "Median: 1500.0\n",
      "Standard Deviation: 412.31056256176606\n"
     ]
    }
   ],
   "source": [
    "rates = pd.Series([1000, 1500, 2000, 1800, 1200])\n",
    "\n",
    "print(\"Mean:\", rates.mean())\n",
    "print(\"Median:\", rates.median())\n",
    "print(\"Standard Deviation:\", rates.std())\n"
   ]
  },
  {
   "cell_type": "markdown",
   "id": "708bbcbb",
   "metadata": {},
   "source": [
    "### Series Manipulation\n",
    "#### Reindexing"
   ]
  },
  {
   "cell_type": "code",
   "execution_count": 12,
   "id": "1ee1e5dc-c581-432b-baba-072d4eacee37",
   "metadata": {},
   "outputs": [
    {
     "name": "stdout",
     "output_type": "stream",
     "text": [
      "Reindexed depths:\n",
      " Well-B    12000\n",
      "Well-C    15000\n",
      "Well-A    10000\n",
      "dtype: int64\n"
     ]
    }
   ],
   "source": [
    "depths = pd.Series([10000, 12000, 15000], index=['Well-A', 'Well-B', 'Well-C'])\n",
    "new_index = ['Well-B', 'Well-C', 'Well-A']\n",
    "reindexed_depths = depths.reindex(new_index)\n",
    "print(\"Reindexed depths:\\n\", reindexed_depths)\n"
   ]
  },
  {
   "cell_type": "markdown",
   "id": "baa78bad",
   "metadata": {},
   "source": [
    "#### Sorting"
   ]
  },
  {
   "cell_type": "code",
   "execution_count": 13,
   "id": "9e4904b4-0c6b-4841-a458-652705502228",
   "metadata": {},
   "outputs": [
    {
     "name": "stdout",
     "output_type": "stream",
     "text": [
      "Sorted by values:\n",
      " Well-A    10000\n",
      "Well-B    12000\n",
      "Well-C    15000\n",
      "dtype: int64\n",
      "Sorted by index:\n",
      " Well-A    10000\n",
      "Well-B    12000\n",
      "Well-C    15000\n",
      "dtype: int64\n"
     ]
    }
   ],
   "source": [
    "# Sort by values\n",
    "sorted_depths = depths.sort_values()\n",
    "print(\"Sorted by values:\\n\", sorted_depths)\n",
    "\n",
    "# Sort by index\n",
    "sorted_index = depths.sort_index()\n",
    "print(\"Sorted by index:\\n\", sorted_index)"
   ]
  },
  {
   "cell_type": "markdown",
   "id": "38e07175-19ee-4d0f-8d6d-6d9ec89c2e38",
   "metadata": {},
   "source": [
    "### Creating DataFrames\n",
    "\n",
    "A pandas DataFrame is a two-dimensional labeled data structure. Here's how you can create one:\n",
    "#### From List"
   ]
  },
  {
   "cell_type": "code",
   "execution_count": 14,
   "id": "122613c6-f022-4253-bd13-109812256c3a",
   "metadata": {},
   "outputs": [
    {
     "name": "stdout",
     "output_type": "stream",
     "text": [
      "   Number Letter\n",
      "0       1      A\n",
      "1       2      B\n",
      "2       3      C\n"
     ]
    }
   ],
   "source": [
    "data = [[1, 'A'], [2, 'B'], [3, 'C']]\n",
    "df_from_list = pd.DataFrame(data, columns=['Number', 'Letter'])\n",
    "print(df_from_list)"
   ]
  },
  {
   "cell_type": "markdown",
   "id": "6af93293-e66d-40b5-bb16-6aa66b1b472f",
   "metadata": {},
   "source": [
    "#### From Dictionary"
   ]
  },
  {
   "cell_type": "code",
   "execution_count": 15,
   "id": "7819befa-73d3-416d-bb53-a0518b44cfe6",
   "metadata": {},
   "outputs": [
    {
     "name": "stdout",
     "output_type": "stream",
     "text": [
      "   Numbers Letters\n",
      "0        1       A\n",
      "1        2       B\n",
      "2        3       C\n"
     ]
    }
   ],
   "source": [
    "data = {'Numbers': [1, 2, 3], 'Letters': ['A', 'B', 'C']}\n",
    "df_from_dict = pd.DataFrame(data)\n",
    "print(df_from_dict)"
   ]
  },
  {
   "cell_type": "markdown",
   "id": "8ccf315d-5677-4ac3-b3e9-195cef92680d",
   "metadata": {},
   "source": [
    "#### From NumPy Array"
   ]
  },
  {
   "cell_type": "code",
   "execution_count": 16,
   "id": "9de97b7e-3f65-42d5-930d-b418a461844b",
   "metadata": {},
   "outputs": [
    {
     "name": "stdout",
     "output_type": "stream",
     "text": [
      "  Number Letter\n",
      "0      1      A\n",
      "1      2      B\n",
      "2      3      C\n"
     ]
    }
   ],
   "source": [
    "array = np.array([[1, 'A'], [2, 'B'], [3, 'C']])\n",
    "df_from_array = pd.DataFrame(array, columns=['Number', 'Letter'])\n",
    "print(df_from_array)"
   ]
  },
  {
   "cell_type": "markdown",
   "id": "0d51b2f9",
   "metadata": {},
   "source": [
    "### Transformation Methods\n",
    "\n",
    "    Transformation methods enable applying element-wise functions to Series."
   ]
  },
  {
   "cell_type": "code",
   "execution_count": 17,
   "id": "427f0e6e-29b4-4140-8d08-544754bf45c8",
   "metadata": {},
   "outputs": [
    {
     "name": "stdout",
     "output_type": "stream",
     "text": [
      "\n",
      "Production rates in thousand barrels:\n",
      " 0    1.0\n",
      "1    1.5\n",
      "2    2.0\n",
      "dtype: float64\n"
     ]
    }
   ],
   "source": [
    "\n",
    "# Transformation Methods\n",
    "production_in_thousand_barrels = production_rates.apply(lambda x: x / 1000)\n",
    "print(\"\\nProduction rates in thousand barrels:\\n\", production_in_thousand_barrels)\n"
   ]
  },
  {
   "cell_type": "markdown",
   "id": "7f02c850",
   "metadata": {},
   "source": [
    "### Series Manipulation\n",
    "\n",
    "Series manipulation involves operations like reindexing, sorting, filtering, and mapping to reshape and transform data effectively."
   ]
  },
  {
   "cell_type": "markdown",
   "id": "d637ff06",
   "metadata": {},
   "source": [
    "#### Reindexing\n",
    "\n",
    "    Reindexing allows you to change the index of a Series to match a new set of labels."
   ]
  },
  {
   "cell_type": "code",
   "execution_count": 18,
   "id": "db9d13fa-63e5-44c9-abae-75853d4998e7",
   "metadata": {},
   "outputs": [
    {
     "name": "stdout",
     "output_type": "stream",
     "text": [
      "Reindexed Series (well depths):\n",
      " Well-B    12000\n",
      "Well-C    15000\n",
      "Well-D    13000\n",
      "Well-E    11000\n",
      "Well-A    10000\n",
      "dtype: int64\n"
     ]
    }
   ],
   "source": [
    "# Create a Series of oil well depths (meters)\n",
    "well_depths = pd.Series([10000, 12000, 15000, 13000, 11000], index=['Well-A', 'Well-B', 'Well-C', 'Well-D', 'Well-E'])\n",
    "\n",
    "# Reindexing\n",
    "# Desired new order: Well-B, Well-C, Well-D, Well-E, Well-A\n",
    "new_index = ['Well-B', 'Well-C', 'Well-D', 'Well-E', 'Well-A']\n",
    "reindexed_depths = well_depths.reindex(new_index)\n",
    "print(\"Reindexed Series (well depths):\\n\", reindexed_depths)\n"
   ]
  },
  {
   "cell_type": "code",
   "execution_count": 19,
   "id": "4e6dd84a",
   "metadata": {},
   "outputs": [
    {
     "name": "stdout",
     "output_type": "stream",
     "text": [
      "\n",
      "Mapped Series with well depth categories:\n",
      " Well-A    Shallow\n",
      "Well-B     Medium\n",
      "Well-C       Deep\n",
      "Well-D     Medium\n",
      "Well-E    Shallow\n",
      "dtype: object\n"
     ]
    }
   ],
   "source": [
    "# Mapping (Transformation)\n",
    "# Map well depths to depth categories (Shallow: < 10000m, Medium: 10000-15000m, Deep: > 15000m)\n",
    "def depth_category(depth):\n",
    "  if depth < 12000:\n",
    "    return \"Shallow\"\n",
    "  elif depth <= 13000:\n",
    "    return \"Medium\"\n",
    "  else:\n",
    "    return \"Deep\"\n",
    "\n",
    "mapped_depths = well_depths.map(depth_category)\n",
    "print(\"\\nMapped Series with well depth categories:\\n\", mapped_depths)\n"
   ]
  },
  {
   "cell_type": "code",
   "execution_count": 20,
   "id": "3dc03b5d",
   "metadata": {},
   "outputs": [
    {
     "name": "stdout",
     "output_type": "stream",
     "text": [
      "Concatenated Well Names:\n",
      " a    Well-A\n",
      "b    Well-B\n",
      "c    Well-C\n",
      "d    Well-D\n",
      "e    Well-E\n",
      "dtype: object\n"
     ]
    }
   ],
   "source": [
    "# Create Series for combination\n",
    "well_names_1 = pd.Series(['Well-A', 'Well-B', 'Well-C'], index=['a', 'b', 'c'])\n",
    "well_names_2 = pd.Series(['Well-D', 'Well-E'], index=['d', 'e'])\n",
    "\n",
    "# Concatenation\n",
    "concatenated_wells = pd.concat([well_names_1, well_names_2])\n",
    "print(\"Concatenated Well Names:\\n\", concatenated_wells)\n",
    "\n"
   ]
  },
  {
   "cell_type": "code",
   "execution_count": 21,
   "id": "bbda2d11-fd22-4639-9ee6-b6cff8425f0f",
   "metadata": {},
   "outputs": [
    {
     "name": "stdout",
     "output_type": "stream",
     "text": [
      "\n",
      "Appended Well Names:\n",
      " a    Well-A\n",
      "b    Well-B\n",
      "c    Well-C\n",
      "d    Well-D\n",
      "e    Well-E\n",
      "dtype: object\n"
     ]
    }
   ],
   "source": [
    "# Appending (using concat)\n",
    "appended_wells = pd.concat([well_names_1, well_names_2])\n",
    "print(\"\\nAppended Well Names:\\n\", appended_wells)\n"
   ]
  },
  {
   "cell_type": "code",
   "execution_count": 22,
   "id": "ae3910a2-c2cb-4243-9cc1-519f8f1a6a45",
   "metadata": {},
   "outputs": [
    {
     "name": "stdout",
     "output_type": "stream",
     "text": [
      "\n",
      "Merged Series with Well Names and Production Rates:\n",
      " a    Well-A\n",
      "b    Well-B\n",
      "c    Well-C\n",
      "a      1000\n",
      "b      1500\n",
      "c      2000\n",
      "dtype: object\n"
     ]
    }
   ],
   "source": [
    "# Merging\n",
    "# Create Series with production rates\n",
    "production_rates_1 = pd.Series([1000, 1500, 2000], index=['a', 'b', 'c'])\n",
    "production_rates_2 = pd.Series([1800, 1200], index=['d', 'e'])\n",
    "\n",
    "# Concatenating Series with different data (well names and production rates)\n",
    "merged_data = pd.concat([well_names_1, production_rates_1])\n",
    "print(\"\\nMerged Series with Well Names and Production Rates:\\n\", merged_data)\n"
   ]
  },
  {
   "cell_type": "markdown",
   "id": "5ee4d3b4",
   "metadata": {},
   "source": [
    "\n",
    "Create Pandas DataFrame\n",
    "\n",
    "    A pandas DataFrame is a two-dimensional labeled data structure with columns that can hold different data types. It's essentially a tabular data structure, similar to a spreadsheet or SQL table.   "
   ]
  }
 ],
 "metadata": {
  "kernelspec": {
   "display_name": "Python 3 (ipykernel)",
   "language": "python",
   "name": "python3"
  },
  "language_info": {
   "codemirror_mode": {
    "name": "ipython",
    "version": 3
   },
   "file_extension": ".py",
   "mimetype": "text/x-python",
   "name": "python",
   "nbconvert_exporter": "python",
   "pygments_lexer": "ipython3",
   "version": "3.12.3"
  }
 },
 "nbformat": 4,
 "nbformat_minor": 5
}
