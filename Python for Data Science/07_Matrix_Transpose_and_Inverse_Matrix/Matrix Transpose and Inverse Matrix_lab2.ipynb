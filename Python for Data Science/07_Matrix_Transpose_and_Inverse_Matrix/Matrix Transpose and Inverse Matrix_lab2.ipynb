{
 "cells": [
  {
   "cell_type": "markdown",
   "id": "3bf215ae",
   "metadata": {},
   "source": [
    "## Matrix Transpose and Inverse Matrix\n",
    "\n",
    "Matrix operations are fundamental in linear algebra and are widely used across different scientific and engineering disciplines. In this notebook, we will explore Matrix Transpose and the Inverse Matrix, covering both manual and NumPy-based methods for each."
   ]
  },
  {
   "cell_type": "markdown",
   "id": "5ce8b927-1fe8-4951-880f-93239e6b3a21",
   "metadata": {},
   "source": [
    "#### 1. Inverse Matrix\n",
    "\n",
    "An inverse matrix, denoted as $( A^{-1} )$, is a matrix that, when multiplied by the original matrix $( A )$, results in the identity matrix. The identity matrix has 1s on the diagonal and 0s elsewhere.\n",
    "\n",
    "\n",
    "$A \\times A^{-1} = I$\n",
    "\n",
    "Where:\n",
    "- \\( A \\) is the original matrix\n",
    "- \\( A^{-1} \\) is the inverse of the matrix\n",
    "- \\( I \\) is the identity matrix (for a 2x2 matrix: \\(\\begin{bmatrix} 1 & 0 \\\\ 0 & 1 \\end{bmatrix}\\\n",
    "\n",
    "##### Why Do We Need Inverse Matrices?\n",
    "\n",
    "Inverse matrices are essential in various fields, including:\n",
    "- **Solving systems of linear equations**: They help in finding the solutions to a system of linear equations.\n",
    "- **Transformations in geometry**: Inverse matrices are used in computer graphics to reverse transformations like rotation or scaling.\n",
    "- **Cryptography**: Many cryptographic algorithms rely on the properties of matrices.\n",
    "- **Data analysis and machine learning**: Inverse matrices play a role in regression analysis and optimization algorithms.\n",
    "\n",
    "##### **Finding the Inverse of a 2x2 Matrix Manually**\n",
    "\n",
    "Given a 2x2 matrix \\( A = \\begin{bmatrix} a & b \\\\ c & d \\end{bmatrix} \\), the formula for the inverse is:\n",
    "\n",
    "$A^{-1} = \\frac{1}{\\text{det}(A)} \\begin{bmatrix} d & -b \\\\ -c & a \\end{bmatrix}$\n",
    "Where $( \\text{det}(A) = ad - bc )$ is the determinant of matrix \\( A \\).\n",
    "\n",
    "Let's start by calculating the inverse of a 2x2 matrix manually."
   ]
  },
  {
   "cell_type": "code",
   "execution_count": 1,
   "id": "cc162c43",
   "metadata": {},
   "outputs": [
    {
     "data": {
      "text/plain": [
       "array([[-2. ,  1. ],\n",
       "       [ 1.5, -0.5]])"
      ]
     },
     "execution_count": 1,
     "metadata": {},
     "output_type": "execute_result"
    }
   ],
   "source": [
    "import numpy as np\n",
    "\n",
    "# Define matrix A\n",
    "A = np.array([[1, 2], [3, 4]])\n",
    "\n",
    "# Calculate determinant manually\n",
    "a, b = A[0]\n",
    "c, d = A[1]\n",
    "det = a * d - b * c\n",
    "det  # Determinant\n",
    "\n",
    "# Calculate inverse manually using the formula\n",
    "if det != 0:\n",
    "    inverse_manual = np.array([[d / det, -b / det], [-c / det, a / det]])\n",
    "else:\n",
    "    inverse_manual = \"Matrix is not invertible\"\n",
    "inverse_manual\n"
   ]
  },
  {
   "cell_type": "markdown",
   "id": "dd5dc89c-ec27-478a-9dff-01d4fd554216",
   "metadata": {},
   "source": [
    "### Inverse Matrix Using NumPy\n",
    "\n",
    "NumPy provides a built-in function np.linalg.inv() that computes the inverse of a matrix efficiently."
   ]
  },
  {
   "cell_type": "code",
   "execution_count": 2,
   "id": "73075ac5",
   "metadata": {},
   "outputs": [
    {
     "data": {
      "text/plain": [
       "array([[-2. ,  1. ],\n",
       "       [ 1.5, -0.5]])"
      ]
     },
     "execution_count": 2,
     "metadata": {},
     "output_type": "execute_result"
    }
   ],
   "source": [
    "# Calculate inverse using NumPy\n",
    "numpy_inverse = np.linalg.inv(A)\n",
    "numpy_inverse\n"
   ]
  },
  {
   "cell_type": "markdown",
   "id": "7dd8d6e6-d1f2-46d9-ad47-6921ed1ddda1",
   "metadata": {},
   "source": [
    "#### 2. Matrix Transpose\n",
    "\n",
    "A matrix transpose is a new matrix that is formed by swapping the rows and columns of the original matrix. For a matrix \\( A = \\begin{bmatrix} a & b \\\\ c & d \\end{bmatrix} \\), the transpose \\( A^T \\) is:\n",
    "\n",
    "$A^T = \\begin{bmatrix} a & c \\\\ b & d \\end{bmatrix}$\n",
    "##### What is Matrix Transpose Used For?\n",
    "\n",
    "Matrix transposition is frequently used in:\n",
    "- **Vector space analysis**: It's used to switch between row vectors and column vectors.\n",
    "- **Computational linear algebra**: It's used to simplify matrix operations in algorithms.\n",
    "- **Machine learning and data science**: Transposition is used in neural networks and other matrix-heavy algorithms.\n",
    "\n",
    "##### Manually Calculating the Transpose\n",
    "\n",
    "To manually calculate the transpose of a matrix, we will create an empty matrix where the rows and columns are swapped."
   ]
  },
  {
   "cell_type": "code",
   "execution_count": 3,
   "id": "a101a1fc",
   "metadata": {},
   "outputs": [
    {
     "data": {
      "text/plain": [
       "array([[4., 5.],\n",
       "       [2., 1.]])"
      ]
     },
     "execution_count": 3,
     "metadata": {},
     "output_type": "execute_result"
    }
   ],
   "source": [
    "# Define matrix B\n",
    "B = np.array([[4, 2], [5, 1]])\n",
    "B  # Original matrix\n",
    "\n",
    "# Initialize an empty transpose matrix with swapped dimensions\n",
    "rows, cols = B.shape\n",
    "transpose_B = np.zeros((cols, rows))\n",
    "\n",
    "# Populate transpose matrix\n",
    "for i in range(rows):\n",
    "    for j in range(cols):\n",
    "        transpose_B[j][i] = B[i][j]\n",
    "\n",
    "transpose_B\n"
   ]
  },
  {
   "cell_type": "markdown",
   "id": "7b344c0d",
   "metadata": {},
   "source": [
    "### Using NumPy’s Built-in Function\n",
    "\n",
    "NumPy makes the process of transposing a matrix much easier with the .T attribute."
   ]
  },
  {
   "cell_type": "code",
   "execution_count": 4,
   "id": "87b90b1e",
   "metadata": {},
   "outputs": [
    {
     "data": {
      "text/plain": [
       "array([[4, 5],\n",
       "       [2, 1]])"
      ]
     },
     "execution_count": 4,
     "metadata": {},
     "output_type": "execute_result"
    }
   ],
   "source": [
    "# Using NumPy's built-in transpose function\n",
    "NumPy_transpose_B = B.T\n",
    "NumPy_transpose_B\n"
   ]
  },
  {
   "cell_type": "markdown",
   "id": "0776b3b8-b66e-4769-93c6-4adcf622a7cc",
   "metadata": {},
   "source": [
    "#### Performance Comparison: Manual vs. NumPy Methods\n",
    "\n",
    "While manual implementations help understand the underlying mechanics, NumPy is much faster and more efficient for large-scale matrix operations. Let's compare the time taken for both methods to transpose a large matrix."
   ]
  },
  {
   "cell_type": "code",
   "execution_count": 5,
   "id": "168cc62c",
   "metadata": {},
   "outputs": [
    {
     "data": {
      "text/plain": [
       "(0.936894416809082, 0.00035500526428222656)"
      ]
     },
     "execution_count": 5,
     "metadata": {},
     "output_type": "execute_result"
    }
   ],
   "source": [
    "import time\n",
    "\n",
    "# Generate a large matrix\n",
    "B_large = np.random.rand(1000, 1000)\n",
    "\n",
    "# Measure time for manual transpose\n",
    "start_time = time.time()\n",
    "transpose_manual = np.zeros((B_large.shape[1], B_large.shape[0]))\n",
    "for i in range(B_large.shape[0]):\n",
    "    for j in range(B_large.shape[1]):\n",
    "        transpose_manual[j][i] = B_large[i][j]\n",
    "end_time = time.time()\n",
    "manual_time = end_time - start_time\n",
    "\n",
    "# Measure time for NumPy transpose\n",
    "start_time = time.time()\n",
    "transpose_numpy = B_large.T\n",
    "end_time = time.time()\n",
    "numpy_time = end_time - start_time\n",
    "\n",
    "manual_time, numpy_time\n"
   ]
  },
  {
   "cell_type": "markdown",
   "id": "4386edd1-ea35-4a9e-87e2-d28801cef9e4",
   "metadata": {},
   "source": [
    "#### Inverse Matrix Applications\n",
    "\n",
    "Inverse matrices are used in various applications, such as solving systems of linear equations, cryptography, and optimization problems. Here's an example of solving a system of linear equations using the inverse matrix.\n",
    "\n",
    "Given a system of equations:\n",
    "$Ax = b$\n",
    "Where \\( A \\) is a matrix, \\( x \\) is a vector of unknowns, and \\( b \\) is a vector of constants.\n",
    "\n",
    "The solution can be found by multiplying both sides of the equation by \\( A^{-1} \\):\n",
    "$x = A^{-1}b$"
   ]
  },
  {
   "cell_type": "code",
   "execution_count": 7,
   "id": "5799acf4",
   "metadata": {},
   "outputs": [
    {
     "data": {
      "text/plain": [
       "array([-4. ,  4.5])"
      ]
     },
     "execution_count": 7,
     "metadata": {},
     "output_type": "execute_result"
    }
   ],
   "source": [
    "# Define matrix A and vector b\n",
    "A = np.array([[1, 2], [3, 4]])\n",
    "b = np.array([5, 6])\n",
    "\n",
    "# Solve for x using the inverse matrix\n",
    "x = np.dot(np.linalg.inv(A), b)\n",
    "x\n"
   ]
  }
 ],
 "metadata": {
  "kernelspec": {
   "display_name": "Python 3 (ipykernel)",
   "language": "python",
   "name": "python3"
  },
  "language_info": {
   "codemirror_mode": {
    "name": "ipython",
    "version": 3
   },
   "file_extension": ".py",
   "mimetype": "text/x-python",
   "name": "python",
   "nbconvert_exporter": "python",
   "pygments_lexer": "ipython3",
   "version": "3.12.3"
  }
 },
 "nbformat": 4,
 "nbformat_minor": 5
}
