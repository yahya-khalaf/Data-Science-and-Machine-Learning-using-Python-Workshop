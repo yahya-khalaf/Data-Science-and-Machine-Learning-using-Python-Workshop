{
 "cells": [
  {
   "cell_type": "markdown",
   "id": "719b2ac5",
   "metadata": {},
   "source": [
    "### NumPy\n",
    "\n",
    "    NumPy (Numerical Python) is a fundamental library for scientific computing in Python. It offers efficient multidimensional arrays, linear algebra capabilities, and a wealth of mathematical functions."
   ]
  },
  {
   "cell_type": "markdown",
   "id": "343e4d23",
   "metadata": {},
   "source": [
    "### Creating Arrays\n",
    "\n",
    "    From Lists: np.array([1, 2, 3]) converts a Python list into a one-dimensional NumPy array. Similarly, np.array([[1, 2, 3], [4, 5, 6], [7, 8, 9]]) creates a two-dimensional array (matrix)."
   ]
  },
  {
   "cell_type": "code",
   "execution_count": 1,
   "id": "aca33a74-fa68-44a3-a6e0-7d1032fe7cf8",
   "metadata": {},
   "outputs": [
    {
     "data": {
      "text/plain": [
       "array([1, 2, 3])"
      ]
     },
     "execution_count": 1,
     "metadata": {},
     "output_type": "execute_result"
    }
   ],
   "source": [
    "import numpy as np\n",
    "# We can create an array by directly converting a list or list of lists:\n",
    "my_list = [1,2,3]\n",
    "np.array(my_list)"
   ]
  },
  {
   "cell_type": "code",
   "execution_count": 2,
   "id": "6c36e213-085a-4c62-b9c1-93663c1e90c8",
   "metadata": {},
   "outputs": [
    {
     "data": {
      "text/plain": [
       "array([[1, 2, 3],\n",
       "       [4, 5, 6],\n",
       "       [7, 8, 9]])"
      ]
     },
     "execution_count": 2,
     "metadata": {},
     "output_type": "execute_result"
    }
   ],
   "source": [
    "# Create a 2D array (matrix) from a list of lists\n",
    "my_matrix = [[1, 2, 3], [4, 5, 6], [7, 8, 9]]\n",
    "np.array(my_matrix)\n"
   ]
  },
  {
   "cell_type": "markdown",
   "id": "eeed3c15",
   "metadata": {},
   "source": [
    "### Generating Arrays\n",
    "\n",
    "    np.arange(start, stop, step): Generates an array with evenly spaced values within a specified range. start (inclusive) and stop (exclusive) define the boundaries. step (optional) controls the increment between elements.\n",
    "        np.arange(0, 10): [0, 1, 2, 3, 4, 5, 6, 7, 8, 9] (default step of 1)\n",
    "        np.arange(0, 11, 2): [0, 2, 4, 6, 8, 10] (step of 2)\n"
   ]
  },
  {
   "cell_type": "code",
   "execution_count": 3,
   "id": "2c0ba73e-adbb-47a9-a6bc-b7e6f5b49882",
   "metadata": {},
   "outputs": [
    {
     "name": "stdout",
     "output_type": "stream",
     "text": [
      "[0 1 2 3 4 5 6 7 8 9]\n",
      "[ 0  2  4  6  8 10]\n"
     ]
    }
   ],
   "source": [
    "# Create arrays using np.arange\n",
    "print(np.arange(0, 10))  # Default step of 1\n",
    "print(np.arange(0, 11, 2))  # Step of 2"
   ]
  },
  {
   "cell_type": "markdown",
   "id": "7ec9dd8b",
   "metadata": {},
   "source": [
    "### np.zeros(shape)\n",
    "    Creates an array filled with zeros. shape can be a tuple specifying the dimensions (e.g., (4) for a 1D array with 4 zeros, (5, 5) for a 2D array with 5 rows and 5 columns).\n"
   ]
  },
  {
   "cell_type": "code",
   "execution_count": 4,
   "id": "a43c5d93-ff39-43b6-8c28-7bfba29c32fe",
   "metadata": {},
   "outputs": [
    {
     "name": "stdout",
     "output_type": "stream",
     "text": [
      "[0. 0. 0. 0.]\n",
      "[[0. 0. 0. 0. 0.]\n",
      " [0. 0. 0. 0. 0.]\n",
      " [0. 0. 0. 0. 0.]\n",
      " [0. 0. 0. 0. 0.]\n",
      " [0. 0. 0. 0. 0.]]\n"
     ]
    }
   ],
   "source": [
    "# Generate arrays of zeros \n",
    "print(np.zeros(4))\n",
    "print(np.zeros((5,5)))"
   ]
  },
  {
   "cell_type": "markdown",
   "id": "ed9cadfc",
   "metadata": {},
   "source": [
    "### np.ones(shape)\n",
    "Creates an array filled with ones, similar to np.zeros."
   ]
  },
  {
   "cell_type": "code",
   "execution_count": 5,
   "id": "5c6db8fe-4ce5-4ec7-90f6-e86c5fb1499f",
   "metadata": {},
   "outputs": [
    {
     "name": "stdout",
     "output_type": "stream",
     "text": [
      "[1. 1. 1. 1.]\n",
      "[[1. 1. 1. 1. 1.]\n",
      " [1. 1. 1. 1. 1.]\n",
      " [1. 1. 1. 1. 1.]\n",
      " [1. 1. 1. 1. 1.]\n",
      " [1. 1. 1. 1. 1.]]\n"
     ]
    }
   ],
   "source": [
    "# Generate arrays of ones\n",
    "print(np.ones(4))\n",
    "print(np.ones((5,5)))"
   ]
  },
  {
   "cell_type": "markdown",
   "id": "0bf0a23b",
   "metadata": {},
   "source": [
    "### np.linspace(start, stop, num)\n",
    "Generates an array with a specified number (num) of evenly spaced values over a given interval (start to stop).\n",
    "\n",
    "    np.linspace(0, 10, 3): [0.0, 5.0, 10.0] (3 equally spaced values)\n",
    "    np.linspace(0, 10, 20): More densely spaced values from 0 to 10 (19 elements)"
   ]
  },
  {
   "cell_type": "code",
   "execution_count": 6,
   "id": "b4f434a4-d71c-4a3f-8829-45fcf5203900",
   "metadata": {},
   "outputs": [
    {
     "name": "stdout",
     "output_type": "stream",
     "text": [
      "[ 0.  5. 10.]\n",
      "[  1.    6.5  12.   17.5  23.   28.5  34.   39.5  45.   50.5  56.   61.5\n",
      "  67.   72.5  78.   83.5  89.   94.5 100. ]\n"
     ]
    }
   ],
   "source": [
    "# Generate evenly spaced values\n",
    "print(np.linspace(0, 10, 3))  # 3 equally spaced values\n",
    "print(np.linspace(1, 100, 19))  # 20 values\n"
   ]
  },
  {
   "cell_type": "markdown",
   "id": "7d8e1a73",
   "metadata": {},
   "source": [
    "### np.eye(n)\n",
    "Creates an identity matrix with n rows and columns. The diagonal elements are 1s, and the rest are 0s."
   ]
  },
  {
   "cell_type": "code",
   "execution_count": 7,
   "id": "beb9e14b-7fe2-45e9-add4-884b5cbebd9f",
   "metadata": {},
   "outputs": [
    {
     "data": {
      "text/plain": [
       "array([[1., 0., 0., 0., 0., 0.],\n",
       "       [0., 1., 0., 0., 0., 0.],\n",
       "       [0., 0., 1., 0., 0., 0.],\n",
       "       [0., 0., 0., 1., 0., 0.],\n",
       "       [0., 0., 0., 0., 1., 0.],\n",
       "       [0., 0., 0., 0., 0., 1.]])"
      ]
     },
     "execution_count": 7,
     "metadata": {},
     "output_type": "execute_result"
    }
   ],
   "source": [
    "# Creates an identity matrix\n",
    "np.eye(6)"
   ]
  },
  {
   "cell_type": "markdown",
   "id": "c5927417",
   "metadata": {},
   "source": [
    "### Random Arrays:\n",
    "#### Uniform Distribution\n",
    "    np.random.rand(shape):** Generates an array of random floating-point numbers between 0 (inclusive) and 1 (exclusive), uniformly distributed."
   ]
  },
  {
   "cell_type": "code",
   "execution_count": 8,
   "id": "0d6c7659-21c7-43b3-83fe-75b52d352413",
   "metadata": {},
   "outputs": [
    {
     "name": "stdout",
     "output_type": "stream",
     "text": [
      "[0.16423008 0.30508756 0.12481829 0.39924077]\n",
      "[[0.30805088 0.67197216 0.0624615  0.25333656 0.254047  ]\n",
      " [0.5110871  0.2505433  0.17559978 0.20215861 0.968798  ]\n",
      " [0.98099822 0.96799023 0.03971394 0.37431875 0.48266589]\n",
      " [0.80087737 0.55136826 0.10565761 0.23260135 0.09657286]\n",
      " [0.78702086 0.19202207 0.3520175  0.10936466 0.78941453]]\n"
     ]
    }
   ],
   "source": [
    "# Create an array of the given shape and populate it with random samples from a uniform distribution over [0, 1].\n",
    "print(np.random.rand(4))\n",
    "print(np.random.rand(5,5))"
   ]
  },
  {
   "cell_type": "markdown",
   "id": "178d1f52-bf30-4350-8eb3-a3173c43bcfc",
   "metadata": {},
   "source": [
    "#### Random Integers"
   ]
  },
  {
   "cell_type": "code",
   "execution_count": 9,
   "id": "02413561-f945-4317-8d74-95f14bd6ef05",
   "metadata": {},
   "outputs": [
    {
     "name": "stdout",
     "output_type": "stream",
     "text": [
      "26\n",
      "[72 93 55  6 35 61 53 90 43 34]\n"
     ]
    }
   ],
   "source": [
    "# Return random integers from low (inclusive) to high (exclusive).\n",
    "print(np.random.randint(1,100))\n",
    "print(np.random.randint(1,100,10))"
   ]
  },
  {
   "cell_type": "markdown",
   "id": "cd9767c1",
   "metadata": {},
   "source": [
    "### Indexing and Selection\n",
    "\n",
    "    Accessing Elements: NumPy indexing is similar to Python lists, but it works with entire arrays at once."
   ]
  },
  {
   "cell_type": "code",
   "execution_count": 10,
   "id": "35e4d2cd-307c-4fd4-8a1b-48ad9a19493c",
   "metadata": {},
   "outputs": [
    {
     "data": {
      "text/plain": [
       "array([ 0,  1,  2,  3,  4,  5,  6,  7,  8,  9, 10])"
      ]
     },
     "execution_count": 10,
     "metadata": {},
     "output_type": "execute_result"
    }
   ],
   "source": [
    "# Numpy Indexing and Selection\n",
    "#Creating sample array\n",
    "arr = np.arange(0,11)\n",
    "#Show\n",
    "arr"
   ]
  },
  {
   "cell_type": "markdown",
   "id": "c6c23197",
   "metadata": {},
   "source": [
    "#### arr[index]\n",
    "    Returns the element at the specified index. arr[4] gets the element at index 4 (fifth element)."
   ]
  },
  {
   "cell_type": "code",
   "execution_count": 11,
   "id": "100ae3cc-c92e-4b42-ba48-b98167b11988",
   "metadata": {},
   "outputs": [
    {
     "data": {
      "text/plain": [
       "np.int64(4)"
      ]
     },
     "execution_count": 11,
     "metadata": {},
     "output_type": "execute_result"
    }
   ],
   "source": [
    "#Get a value at an index\n",
    "arr[4]"
   ]
  },
  {
   "cell_type": "markdown",
   "id": "eff72820",
   "metadata": {},
   "source": [
    "#### arr[start:stop]\n",
    "    Returns a slice of the array, including elements from start (inclusive) to stop (exclusive). arr[2:5] retrieves elements 2, 3, and 4"
   ]
  },
  {
   "cell_type": "code",
   "execution_count": 12,
   "id": "c4a1b95d-1a3f-49e9-bc6b-f2b6c754315d",
   "metadata": {},
   "outputs": [
    {
     "data": {
      "text/plain": [
       "array([2, 3, 4])"
      ]
     },
     "execution_count": 12,
     "metadata": {},
     "output_type": "execute_result"
    }
   ],
   "source": [
    "#Get values in a range\n",
    "arr[2:5]"
   ]
  },
  {
   "cell_type": "code",
   "execution_count": 13,
   "id": "28c79792-9d6e-4817-9a30-43c631f7de8f",
   "metadata": {},
   "outputs": [
    {
     "data": {
      "text/plain": [
       "array([  0,   1,   2,   3, 100, 100, 100,   7,   8,   9,  10])"
      ]
     },
     "execution_count": 13,
     "metadata": {},
     "output_type": "execute_result"
    }
   ],
   "source": [
    "#Setting a value with index range (Broadcasting)\n",
    "arr[4:7]=100\n",
    "#Show\n",
    "arr"
   ]
  },
  {
   "cell_type": "code",
   "execution_count": 14,
   "id": "65ba4c6b-068c-4062-9eed-ce19b5077eaf",
   "metadata": {},
   "outputs": [
    {
     "data": {
      "text/plain": [
       "array([ 0,  1,  2,  3,  4,  5,  6,  7,  8,  9, 10])"
      ]
     },
     "execution_count": 14,
     "metadata": {},
     "output_type": "execute_result"
    }
   ],
   "source": [
    "# Reset array\n",
    "arr = np.arange(0,11)\n",
    "#Show\n",
    "arr"
   ]
  },
  {
   "cell_type": "markdown",
   "id": "3ede9c57",
   "metadata": {},
   "source": [
    "### 2D Array Indexing:\n",
    "\n",
    "    arr_2d[row] or arr_2d[row, :]: Selects the entire row at the specified index.\n",
    "    arr_2d[row, col] or arr_2d[:, col]: Gets the element at the specified row "
   ]
  },
  {
   "cell_type": "code",
   "execution_count": 15,
   "id": "dae292fd-7dfe-443a-b341-c0387ee36500",
   "metadata": {},
   "outputs": [
    {
     "data": {
      "text/plain": [
       "array([[ 5, 10, 15],\n",
       "       [20, 25, 30],\n",
       "       [35, 40, 45]])"
      ]
     },
     "execution_count": 15,
     "metadata": {},
     "output_type": "execute_result"
    }
   ],
   "source": [
    "# Indexing a 2D array (matrices)\n",
    "arr_2d = np.array(([5,10,15],[20,25,30],[35,40,45]))\n",
    "#Show\n",
    "arr_2d"
   ]
  },
  {
   "cell_type": "code",
   "execution_count": 16,
   "id": "4c345a54-184e-4fe5-b5c6-dbaf9f40d647",
   "metadata": {},
   "outputs": [
    {
     "data": {
      "text/plain": [
       "array([20, 25, 30])"
      ]
     },
     "execution_count": 16,
     "metadata": {},
     "output_type": "execute_result"
    }
   ],
   "source": [
    "#Indexing row\n",
    "arr_2d[1]"
   ]
  },
  {
   "cell_type": "code",
   "execution_count": 17,
   "id": "861bb872-8f79-4c2b-a308-89193cd56652",
   "metadata": {},
   "outputs": [
    {
     "data": {
      "text/plain": [
       "np.int64(20)"
      ]
     },
     "execution_count": 17,
     "metadata": {},
     "output_type": "execute_result"
    }
   ],
   "source": [
    "# Getting individual element value\n",
    "arr_2d[1][0]"
   ]
  },
  {
   "cell_type": "code",
   "execution_count": 18,
   "id": "d888b6db-2a46-4d73-88db-09c3c3a7f346",
   "metadata": {},
   "outputs": [
    {
     "data": {
      "text/plain": [
       "np.int64(20)"
      ]
     },
     "execution_count": 18,
     "metadata": {},
     "output_type": "execute_result"
    }
   ],
   "source": [
    "# other way of Getting individual element value\n",
    "arr_2d[1,0]"
   ]
  },
  {
   "cell_type": "markdown",
   "id": "4a94a6ae",
   "metadata": {},
   "source": [
    "### NumPy Operations\n",
    "NumPy allows you to perform arithmetic operations on arrays element-wise. \n",
    "This means that each element in one array is paired with the corresponding element in another array, \n",
    "and the operation is applied to these pairs."
   ]
  },
  {
   "cell_type": "markdown",
   "id": "97c190f9-1735-4f98-9848-8230c86a59c6",
   "metadata": {},
   "source": [
    "#### Element-wise arithmetic"
   ]
  },
  {
   "cell_type": "code",
   "execution_count": 19,
   "id": "43af6e81-15db-4635-9327-5a9915c80db2",
   "metadata": {},
   "outputs": [
    {
     "name": "stdout",
     "output_type": "stream",
     "text": [
      "[ 0  2  4  6  8 10 12 14 16 18]\n",
      "[ 0  1  4  9 16 25 36 49 64 81]\n",
      "[0 0 0 0 0 0 0 0 0 0]\n",
      "[nan  1.  1.  1.  1.  1.  1.  1.  1.  1.]\n",
      "[ 0  5 10 15 20 25 30 35 40 45]\n",
      "[-5 -4 -3 -2 -1  0  1  2  3  4]\n",
      "[0.  0.5 1.  1.5 2.  2.5 3.  3.5 4.  4.5]\n",
      "[       inf 1.         0.5        0.33333333 0.25       0.2\n",
      " 0.16666667 0.14285714 0.125      0.11111111]\n"
     ]
    },
    {
     "name": "stderr",
     "output_type": "stream",
     "text": [
      "/tmp/ipykernel_16558/146362801.py:7: RuntimeWarning: invalid value encountered in divide\n",
      "  print(arr / arr)# Warning on division by zero, but not an error!\n",
      "/tmp/ipykernel_16558/146362801.py:11: RuntimeWarning: divide by zero encountered in divide\n",
      "  print(1 / arr)# Also warning, but not an error instead infinity\n"
     ]
    }
   ],
   "source": [
    "# NumPy Operations\n",
    "# You can easily perform array with array arithmetic, or scalar with array arithmetic. Let's see some examples:\n",
    "arr = np.arange(0,10)\n",
    "print(arr + arr)\n",
    "print(arr * arr)\n",
    "print(arr - arr)\n",
    "print(arr / arr)# Warning on division by zero, but not an error!\n",
    "print(arr * 5)\n",
    "print(arr - 5)\n",
    "print(arr / 2)\n",
    "print(1 / arr)# Also warning, but not an error instead infinity\n"
   ]
  },
  {
   "cell_type": "markdown",
   "id": "a041308a-37d9-4e44-bc4d-088f78fd5256",
   "metadata": {},
   "source": [
    "#### Exponentials and square roots"
   ]
  },
  {
   "cell_type": "code",
   "execution_count": 20,
   "id": "b9be6c87-1b61-48e0-8790-6338d2c8c412",
   "metadata": {},
   "outputs": [
    {
     "name": "stdout",
     "output_type": "stream",
     "text": [
      "[0.         1.         1.41421356 1.73205081 2.         2.23606798\n",
      " 2.44948974 2.64575131 2.82842712 3.        ]\n",
      "\n",
      "[1.00000000e+00 2.71828183e+00 7.38905610e+00 2.00855369e+01\n",
      " 5.45981500e+01 1.48413159e+02 4.03428793e+02 1.09663316e+03\n",
      " 2.98095799e+03 8.10308393e+03]\n"
     ]
    }
   ],
   "source": [
    "print(np.sqrt(arr))\n",
    "print()\n",
    "print(np.exp(arr))"
   ]
  },
  {
   "cell_type": "code",
   "execution_count": 21,
   "id": "8faf72f4-2041-44ed-b5ab-e561243540b1",
   "metadata": {},
   "outputs": [
    {
     "data": {
      "text/plain": [
       "array([  0,   1,   8,  27,  64, 125, 216, 343, 512, 729])"
      ]
     },
     "execution_count": 21,
     "metadata": {},
     "output_type": "execute_result"
    }
   ],
   "source": [
    "# array to the power 3\n",
    "arr**3"
   ]
  },
  {
   "cell_type": "markdown",
   "id": "86b9efe1-9514-45c1-a1c4-379ca94c3933",
   "metadata": {},
   "source": [
    "#### Find max, min, and trigonometric operations\n"
   ]
  },
  {
   "cell_type": "code",
   "execution_count": 22,
   "id": "ddf45378-a576-4601-a4ee-5a8eeea23a10",
   "metadata": {},
   "outputs": [
    {
     "name": "stdout",
     "output_type": "stream",
     "text": [
      "9\n",
      "\n",
      "[ 0.          0.84147098  0.90929743  0.14112001 -0.7568025  -0.95892427\n",
      " -0.2794155   0.6569866   0.98935825  0.41211849]\n",
      "\n",
      "[      -inf 0.         0.69314718 1.09861229 1.38629436 1.60943791\n",
      " 1.79175947 1.94591015 2.07944154 2.19722458]\n"
     ]
    },
    {
     "name": "stderr",
     "output_type": "stream",
     "text": [
      "/tmp/ipykernel_16558/1973431100.py:6: RuntimeWarning: divide by zero encountered in log\n",
      "  print(np.log(arr))\n"
     ]
    }
   ],
   "source": [
    "# Find max, min, and trigonometric operations\n",
    "print(np.max(arr))\n",
    "print()\n",
    "print(np.sin(arr))\n",
    "print()\n",
    "print(np.log(arr))"
   ]
  },
  {
   "cell_type": "markdown",
   "id": "8fe319d5-fb8e-4fca-8c2d-4b0a433885f8",
   "metadata": {},
   "source": [
    "### Matrix Operations"
   ]
  },
  {
   "cell_type": "code",
   "execution_count": 23,
   "id": "5ad1c7e6-21e1-4fe1-bd07-c12921933e57",
   "metadata": {},
   "outputs": [],
   "source": [
    "# Matrix Operations in NumPy\n",
    "# Create two matrices\n",
    "A = np.array([[1, 2], [3, 4]])\n",
    "B = np.array([[5, 6], [7, 8]])"
   ]
  },
  {
   "cell_type": "code",
   "execution_count": 24,
   "id": "40980c42-db82-466f-a418-a783e3e8c399",
   "metadata": {},
   "outputs": [
    {
     "name": "stdout",
     "output_type": "stream",
     "text": [
      "[[19 22]\n",
      " [43 50]]\n"
     ]
    }
   ],
   "source": [
    "# Matrix multiplication\n",
    "mult = np.dot(A, B)\n",
    "print(mult)"
   ]
  },
  {
   "cell_type": "code",
   "execution_count": 25,
   "id": "3aa877bc-f097-4412-9351-0b96d0acbb72",
   "metadata": {},
   "outputs": [
    {
     "name": "stdout",
     "output_type": "stream",
     "text": [
      "[[-2.   1. ]\n",
      " [ 1.5 -0.5]]\n"
     ]
    }
   ],
   "source": [
    "# Calculate the inverse\n",
    "A_inv = np.linalg.inv(A)\n",
    "print(A_inv)"
   ]
  },
  {
   "cell_type": "code",
   "execution_count": 26,
   "id": "b7cf15f9-ccb6-4d7a-94d2-77419183bf45",
   "metadata": {},
   "outputs": [
    {
     "name": "stdout",
     "output_type": "stream",
     "text": [
      "[[-3. -4.]\n",
      " [ 4.  5.]]\n"
     ]
    }
   ],
   "source": [
    "# Solve the linear equation Ax = b\n",
    "x = np.linalg.solve(A, B)\n",
    "print(x)"
   ]
  },
  {
   "cell_type": "code",
   "execution_count": 27,
   "id": "92dfec73-33e8-4135-b494-328db2dbbbf4",
   "metadata": {},
   "outputs": [
    {
     "name": "stdout",
     "output_type": "stream",
     "text": [
      "eigenvalues [ 1.61168440e+01 -1.11684397e+00 -1.30367773e-15]\n",
      "eigenvectors [[-0.23197069 -0.78583024  0.40824829]\n",
      " [-0.52532209 -0.08675134 -0.81649658]\n",
      " [-0.8186735   0.61232756  0.40824829]]\n"
     ]
    }
   ],
   "source": [
    "# Calculate eigenvalues and eigenvectors\n",
    "A = np.array([[1, 2, 3],[4, 5, 6],[7, 8, 9]])\n",
    "eigenvalues, eigenvectors = np.linalg.eig(A)\n",
    "print(\"eigenvalues\",eigenvalues)\n",
    "print(\"eigenvectors\",eigenvectors)"
   ]
  },
  {
   "cell_type": "markdown",
   "id": "b9c7c79e-8973-481f-9a09-f5ae761d846b",
   "metadata": {},
   "source": [
    "### Polynomials in NumPy"
   ]
  },
  {
   "cell_type": "code",
   "execution_count": 28,
   "id": "a4a4431a-d507-4164-8dc9-654fd1b06bd1",
   "metadata": {},
   "outputs": [
    {
     "name": "stdout",
     "output_type": "stream",
     "text": [
      "2\n"
     ]
    }
   ],
   "source": [
    "# Define a polynomial\n",
    "coefficients = [1, -5, 6]  # Represents the polynomial x^2 - 5x + 6\n",
    "p = np.poly1d(coefficients)\n",
    "\n",
    "# Evaluate the polynomial at x = 2\n",
    "result = p(1)\n",
    "print(result)"
   ]
  },
  {
   "cell_type": "code",
   "execution_count": 29,
   "id": "e64e21ef-1b8c-478a-9890-8128e29ec9b7",
   "metadata": {},
   "outputs": [
    {
     "name": "stdout",
     "output_type": "stream",
     "text": [
      "[2 0 0]\n"
     ]
    }
   ],
   "source": [
    "# Use np.polyval to evaluate a polynomial at multiple points: \n",
    "x_values = np.array([1, 2, 3])\n",
    "y_values = np.polyval(coefficients, x_values)\n",
    "print(y_values)"
   ]
  },
  {
   "cell_type": "code",
   "execution_count": 30,
   "id": "100ebfbb-79d6-44be-ba97-9d489e41075f",
   "metadata": {},
   "outputs": [
    {
     "name": "stdout",
     "output_type": "stream",
     "text": [
      "[3. 2.]\n"
     ]
    }
   ],
   "source": [
    "# Find the roots of the polynomial\n",
    "roots = np.roots(coefficients)\n",
    "print(roots)"
   ]
  }
 ],
 "metadata": {
  "kernelspec": {
   "display_name": "Python 3 (ipykernel)",
   "language": "python",
   "name": "python3"
  },
  "language_info": {
   "codemirror_mode": {
    "name": "ipython",
    "version": 3
   },
   "file_extension": ".py",
   "mimetype": "text/x-python",
   "name": "python",
   "nbconvert_exporter": "python",
   "pygments_lexer": "ipython3",
   "version": "3.12.3"
  }
 },
 "nbformat": 4,
 "nbformat_minor": 5
}
