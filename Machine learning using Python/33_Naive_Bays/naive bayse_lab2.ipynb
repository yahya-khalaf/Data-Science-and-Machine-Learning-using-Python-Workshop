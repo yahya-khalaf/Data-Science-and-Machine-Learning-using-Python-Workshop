{
 "cells": [
  {
   "cell_type": "markdown",
   "id": "9c0bc024-bf31-4d6f-9309-27c01a760f69",
   "metadata": {},
   "source": [
    "## Naive Bayes Classification\n",
    "Naive Bayes is a classification algorithm based on Bayes' Theorem, which is used in machine learning for tasks like spam detection, sentiment analysis, and classification of text. It’s called \"naive\" because it assumes that all features (predictors) used in the classification are independent of each other, which is a simplifying assumption that often doesn’t hold in real-world data. Despite this simplification, Naive Bayes can perform surprisingly well in many practical applications."
   ]
  },
  {
   "cell_type": "code",
   "execution_count": 1,
   "id": "bdf043fd",
   "metadata": {
    "_cell_guid": "5767a33c-8f18-4034-e52d-bf7a8f7d8ab8",
    "_uuid": "847a9b3972a6be2d2f3346ff01fea976d92ecdb6",
    "papermill": {
     "duration": 1.654757,
     "end_time": "2023-11-17T01:18:34.994885",
     "exception": false,
     "start_time": "2023-11-17T01:18:33.340128",
     "status": "completed"
    },
    "tags": []
   },
   "outputs": [
    {
     "data": {
      "text/html": [
       "<div>\n",
       "<style scoped>\n",
       "    .dataframe tbody tr th:only-of-type {\n",
       "        vertical-align: middle;\n",
       "    }\n",
       "\n",
       "    .dataframe tbody tr th {\n",
       "        vertical-align: top;\n",
       "    }\n",
       "\n",
       "    .dataframe thead th {\n",
       "        text-align: right;\n",
       "    }\n",
       "</style>\n",
       "<table border=\"1\" class=\"dataframe\">\n",
       "  <thead>\n",
       "    <tr style=\"text-align: right;\">\n",
       "      <th></th>\n",
       "      <th>PassengerId</th>\n",
       "      <th>Survived</th>\n",
       "      <th>Pclass</th>\n",
       "      <th>Name</th>\n",
       "      <th>Sex</th>\n",
       "      <th>Age</th>\n",
       "      <th>SibSp</th>\n",
       "      <th>Parch</th>\n",
       "      <th>Ticket</th>\n",
       "      <th>Fare</th>\n",
       "      <th>Cabin</th>\n",
       "      <th>Embarked</th>\n",
       "    </tr>\n",
       "  </thead>\n",
       "  <tbody>\n",
       "    <tr>\n",
       "      <th>0</th>\n",
       "      <td>1</td>\n",
       "      <td>0</td>\n",
       "      <td>3</td>\n",
       "      <td>Braund, Mr. Owen Harris</td>\n",
       "      <td>male</td>\n",
       "      <td>22.0</td>\n",
       "      <td>1</td>\n",
       "      <td>0</td>\n",
       "      <td>A/5 21171</td>\n",
       "      <td>7.2500</td>\n",
       "      <td>NaN</td>\n",
       "      <td>S</td>\n",
       "    </tr>\n",
       "    <tr>\n",
       "      <th>1</th>\n",
       "      <td>2</td>\n",
       "      <td>1</td>\n",
       "      <td>1</td>\n",
       "      <td>Cumings, Mrs. John Bradley (Florence Briggs Th...</td>\n",
       "      <td>female</td>\n",
       "      <td>38.0</td>\n",
       "      <td>1</td>\n",
       "      <td>0</td>\n",
       "      <td>PC 17599</td>\n",
       "      <td>71.2833</td>\n",
       "      <td>C85</td>\n",
       "      <td>C</td>\n",
       "    </tr>\n",
       "    <tr>\n",
       "      <th>2</th>\n",
       "      <td>3</td>\n",
       "      <td>1</td>\n",
       "      <td>3</td>\n",
       "      <td>Heikkinen, Miss. Laina</td>\n",
       "      <td>female</td>\n",
       "      <td>26.0</td>\n",
       "      <td>0</td>\n",
       "      <td>0</td>\n",
       "      <td>STON/O2. 3101282</td>\n",
       "      <td>7.9250</td>\n",
       "      <td>NaN</td>\n",
       "      <td>S</td>\n",
       "    </tr>\n",
       "    <tr>\n",
       "      <th>3</th>\n",
       "      <td>4</td>\n",
       "      <td>1</td>\n",
       "      <td>1</td>\n",
       "      <td>Futrelle, Mrs. Jacques Heath (Lily May Peel)</td>\n",
       "      <td>female</td>\n",
       "      <td>35.0</td>\n",
       "      <td>1</td>\n",
       "      <td>0</td>\n",
       "      <td>113803</td>\n",
       "      <td>53.1000</td>\n",
       "      <td>C123</td>\n",
       "      <td>S</td>\n",
       "    </tr>\n",
       "    <tr>\n",
       "      <th>4</th>\n",
       "      <td>5</td>\n",
       "      <td>0</td>\n",
       "      <td>3</td>\n",
       "      <td>Allen, Mr. William Henry</td>\n",
       "      <td>male</td>\n",
       "      <td>35.0</td>\n",
       "      <td>0</td>\n",
       "      <td>0</td>\n",
       "      <td>373450</td>\n",
       "      <td>8.0500</td>\n",
       "      <td>NaN</td>\n",
       "      <td>S</td>\n",
       "    </tr>\n",
       "  </tbody>\n",
       "</table>\n",
       "</div>"
      ],
      "text/plain": [
       "   PassengerId  Survived  Pclass  \\\n",
       "0            1         0       3   \n",
       "1            2         1       1   \n",
       "2            3         1       3   \n",
       "3            4         1       1   \n",
       "4            5         0       3   \n",
       "\n",
       "                                                Name     Sex   Age  SibSp  \\\n",
       "0                            Braund, Mr. Owen Harris    male  22.0      1   \n",
       "1  Cumings, Mrs. John Bradley (Florence Briggs Th...  female  38.0      1   \n",
       "2                             Heikkinen, Miss. Laina  female  26.0      0   \n",
       "3       Futrelle, Mrs. Jacques Heath (Lily May Peel)  female  35.0      1   \n",
       "4                           Allen, Mr. William Henry    male  35.0      0   \n",
       "\n",
       "   Parch            Ticket     Fare Cabin Embarked  \n",
       "0      0         A/5 21171   7.2500   NaN        S  \n",
       "1      0          PC 17599  71.2833   C85        C  \n",
       "2      0  STON/O2. 3101282   7.9250   NaN        S  \n",
       "3      0            113803  53.1000  C123        S  \n",
       "4      0            373450   8.0500   NaN        S  "
      ]
     },
     "execution_count": 1,
     "metadata": {},
     "output_type": "execute_result"
    }
   ],
   "source": [
    "import pandas as pd\n",
    "import numpy as np\n",
    "import random as rnd\n",
    "\n",
    "import seaborn as sns\n",
    "import matplotlib.pyplot as plt\n",
    "%matplotlib inline\n",
    "\n",
    "from sklearn.linear_model import LogisticRegression\n",
    "from sklearn.svm import SVC, LinearSVC\n",
    "from sklearn.naive_bayes import GaussianNB\n",
    "from sklearn.model_selection import train_test_split, cross_val_score, StratifiedKFold\n",
    "from sklearn.metrics import accuracy_score, classification_report, confusion_matrix, roc_auc_score, roc_curve\n",
    "df = pd.read_csv('train.csv')\n",
    "# preview the data\n",
    "df.head()"
   ]
  },
  {
   "cell_type": "code",
   "execution_count": 2,
   "id": "4c499844",
   "metadata": {
    "_cell_guid": "58e387fe-86e4-e068-8307-70e37fe3f37b",
    "_uuid": "380251a1c1e0b89147d321968dc739b6cc0eecf2",
    "papermill": {
     "duration": 0.034043,
     "end_time": "2023-11-17T01:18:35.203942",
     "exception": false,
     "start_time": "2023-11-17T01:18:35.169899",
     "status": "completed"
    },
    "tags": []
   },
   "outputs": [
    {
     "data": {
      "text/html": [
       "<div>\n",
       "<style scoped>\n",
       "    .dataframe tbody tr th:only-of-type {\n",
       "        vertical-align: middle;\n",
       "    }\n",
       "\n",
       "    .dataframe tbody tr th {\n",
       "        vertical-align: top;\n",
       "    }\n",
       "\n",
       "    .dataframe thead th {\n",
       "        text-align: right;\n",
       "    }\n",
       "</style>\n",
       "<table border=\"1\" class=\"dataframe\">\n",
       "  <thead>\n",
       "    <tr style=\"text-align: right;\">\n",
       "      <th></th>\n",
       "      <th>PassengerId</th>\n",
       "      <th>Survived</th>\n",
       "      <th>Pclass</th>\n",
       "      <th>Age</th>\n",
       "      <th>SibSp</th>\n",
       "      <th>Parch</th>\n",
       "      <th>Fare</th>\n",
       "    </tr>\n",
       "  </thead>\n",
       "  <tbody>\n",
       "    <tr>\n",
       "      <th>count</th>\n",
       "      <td>891.000000</td>\n",
       "      <td>891.000000</td>\n",
       "      <td>891.000000</td>\n",
       "      <td>714.000000</td>\n",
       "      <td>891.000000</td>\n",
       "      <td>891.000000</td>\n",
       "      <td>891.000000</td>\n",
       "    </tr>\n",
       "    <tr>\n",
       "      <th>mean</th>\n",
       "      <td>446.000000</td>\n",
       "      <td>0.383838</td>\n",
       "      <td>2.308642</td>\n",
       "      <td>29.699118</td>\n",
       "      <td>0.523008</td>\n",
       "      <td>0.381594</td>\n",
       "      <td>32.204208</td>\n",
       "    </tr>\n",
       "    <tr>\n",
       "      <th>std</th>\n",
       "      <td>257.353842</td>\n",
       "      <td>0.486592</td>\n",
       "      <td>0.836071</td>\n",
       "      <td>14.526497</td>\n",
       "      <td>1.102743</td>\n",
       "      <td>0.806057</td>\n",
       "      <td>49.693429</td>\n",
       "    </tr>\n",
       "    <tr>\n",
       "      <th>min</th>\n",
       "      <td>1.000000</td>\n",
       "      <td>0.000000</td>\n",
       "      <td>1.000000</td>\n",
       "      <td>0.420000</td>\n",
       "      <td>0.000000</td>\n",
       "      <td>0.000000</td>\n",
       "      <td>0.000000</td>\n",
       "    </tr>\n",
       "    <tr>\n",
       "      <th>25%</th>\n",
       "      <td>223.500000</td>\n",
       "      <td>0.000000</td>\n",
       "      <td>2.000000</td>\n",
       "      <td>20.125000</td>\n",
       "      <td>0.000000</td>\n",
       "      <td>0.000000</td>\n",
       "      <td>7.910400</td>\n",
       "    </tr>\n",
       "    <tr>\n",
       "      <th>50%</th>\n",
       "      <td>446.000000</td>\n",
       "      <td>0.000000</td>\n",
       "      <td>3.000000</td>\n",
       "      <td>28.000000</td>\n",
       "      <td>0.000000</td>\n",
       "      <td>0.000000</td>\n",
       "      <td>14.454200</td>\n",
       "    </tr>\n",
       "    <tr>\n",
       "      <th>75%</th>\n",
       "      <td>668.500000</td>\n",
       "      <td>1.000000</td>\n",
       "      <td>3.000000</td>\n",
       "      <td>38.000000</td>\n",
       "      <td>1.000000</td>\n",
       "      <td>0.000000</td>\n",
       "      <td>31.000000</td>\n",
       "    </tr>\n",
       "    <tr>\n",
       "      <th>max</th>\n",
       "      <td>891.000000</td>\n",
       "      <td>1.000000</td>\n",
       "      <td>3.000000</td>\n",
       "      <td>80.000000</td>\n",
       "      <td>8.000000</td>\n",
       "      <td>6.000000</td>\n",
       "      <td>512.329200</td>\n",
       "    </tr>\n",
       "  </tbody>\n",
       "</table>\n",
       "</div>"
      ],
      "text/plain": [
       "       PassengerId    Survived      Pclass         Age       SibSp  \\\n",
       "count   891.000000  891.000000  891.000000  714.000000  891.000000   \n",
       "mean    446.000000    0.383838    2.308642   29.699118    0.523008   \n",
       "std     257.353842    0.486592    0.836071   14.526497    1.102743   \n",
       "min       1.000000    0.000000    1.000000    0.420000    0.000000   \n",
       "25%     223.500000    0.000000    2.000000   20.125000    0.000000   \n",
       "50%     446.000000    0.000000    3.000000   28.000000    0.000000   \n",
       "75%     668.500000    1.000000    3.000000   38.000000    1.000000   \n",
       "max     891.000000    1.000000    3.000000   80.000000    8.000000   \n",
       "\n",
       "            Parch        Fare  \n",
       "count  891.000000  891.000000  \n",
       "mean     0.381594   32.204208  \n",
       "std      0.806057   49.693429  \n",
       "min      0.000000    0.000000  \n",
       "25%      0.000000    7.910400  \n",
       "50%      0.000000   14.454200  \n",
       "75%      0.000000   31.000000  \n",
       "max      6.000000  512.329200  "
      ]
     },
     "execution_count": 2,
     "metadata": {},
     "output_type": "execute_result"
    }
   ],
   "source": [
    "df.describe()\n"
   ]
  },
  {
   "cell_type": "markdown",
   "id": "9b6f64e2-13a8-4109-8c03-5daef1e46622",
   "metadata": {},
   "source": [
    "### Exploratory Data Analysis (EDA)\n",
    "\n",
    "Let's explore the relationships between various features and survival to understand their importance.\n"
   ]
  },
  {
   "cell_type": "code",
   "execution_count": 3,
   "id": "c3115586-52ad-4e40-aab8-1efe3532fd93",
   "metadata": {},
   "outputs": [
    {
     "data": {
      "image/png": "[encoded data removed]",
      "text/plain": [
       "<Figure size 640x480 with 1 Axes>"
      ]
     },
     "metadata": {},
     "output_type": "display_data"
    },
    {
     "data": {
      "image/png": "[encoded data removed]",
      "text/plain": [
       "<Figure size 640x480 with 1 Axes>"
      ]
     },
     "metadata": {},
     "output_type": "display_data"
    }
   ],
   "source": [
    "# Survival rate by class\n",
    "class_survival = df[['Pclass', 'Survived']].groupby(['Pclass']).mean()\n",
    "sns.barplot(x=class_survival.index, y=class_survival['Survived'])\n",
    "plt.title(\"Survival Rate by Passenger Class\")\n",
    "plt.ylabel(\"Survival Rate\")\n",
    "plt.xlabel(\"Passenger Class\")\n",
    "plt.show()\n",
    "\n",
    "# Gender-based survival analysis\n",
    "gender_survival = df[['Sex', 'Survived']].groupby(['Sex']).mean()\n",
    "sns.barplot(x=gender_survival.index, y=gender_survival['Survived'])\n",
    "plt.title(\"Survival Rate by Gender\")\n",
    "plt.ylabel(\"Survival Rate\")\n",
    "plt.xlabel(\"Gender\")\n",
    "plt.show()\n"
   ]
  },
  {
   "cell_type": "markdown",
   "id": "8e5d4dbe-154d-4801-ac6c-3a46cb2450a7",
   "metadata": {},
   "source": [
    "### Data Preprocessing\n",
    "\n",
    "Data preprocessing steps:\n",
    "1. Map `Sex` to numeric values.\n",
    "2. Impute missing `Age` values using grouped medians.\n",
    "3. Drop irrelevant columns (`Ticket`, `Cabin`, `Name`, `PassengerId`).\n",
    "4. Bin continuous variables (`Age` and `Fare`) into discrete categories.\n"
   ]
  },
  {
   "cell_type": "code",
   "execution_count": 4,
   "id": "a399859e-bd47-4c29-84b7-064d7a1bd108",
   "metadata": {},
   "outputs": [],
   "source": [
    "# Encode categorical values\n",
    "df['Sex'] = df['Sex'].map({'male': 0, 'female': 1})\n",
    "\n",
    "# Impute missing Age values\n",
    "df['Age'] = df['Age'].fillna(df.groupby(['Sex', 'Pclass'])['Age'].transform('median'))\n",
    "\n",
    "# Drop irrelevant features\n",
    "df = df.drop(['Ticket', 'Cabin', 'Name', 'PassengerId'], axis=1)\n",
    "\n",
    "# Create Age bins\n",
    "df['AgeBand'] = pd.cut(df['Age'], 5, labels=[0, 1, 2, 3, 4])\n",
    "\n",
    "# Create Fare bins\n",
    "df['FareBand'] = pd.qcut(df['Fare'], 4, labels=[0, 1, 2, 3])\n",
    "\n",
    "# Convert categorical columns to integers\n",
    "df['Embarked'] = df['Embarked'].map({'S': 0, 'C': 1, 'Q': 2})\n",
    "df = df.dropna()\n"
   ]
  },
  {
   "cell_type": "markdown",
   "id": "905e4a04-09fb-4663-8cb7-1e2facc9f954",
   "metadata": {},
   "source": [
    "This step helps analyze the relationship between the passenger class (Pclass) and survival rate (Survived). By calculating and sorting the mean survival rate for each class, you can gain insights into whether certain classes had higher survival rates, which could be important for model feature engineering or understanding patterns in the data."
   ]
  },
  {
   "cell_type": "code",
   "execution_count": 5,
   "id": "ad19935d",
   "metadata": {
    "_cell_guid": "0964832a-a4be-2d6f-a89e-63526389cee9",
    "_uuid": "97a845528ce9f76e85055a4bb9e97c27091f6aa1",
    "papermill": {
     "duration": 0.027854,
     "end_time": "2023-11-17T01:18:35.275300",
     "exception": false,
     "start_time": "2023-11-17T01:18:35.247446",
     "status": "completed"
    },
    "tags": []
   },
   "outputs": [
    {
     "data": {
      "text/html": [
       "<div>\n",
       "<style scoped>\n",
       "    .dataframe tbody tr th:only-of-type {\n",
       "        vertical-align: middle;\n",
       "    }\n",
       "\n",
       "    .dataframe tbody tr th {\n",
       "        vertical-align: top;\n",
       "    }\n",
       "\n",
       "    .dataframe thead th {\n",
       "        text-align: right;\n",
       "    }\n",
       "</style>\n",
       "<table border=\"1\" class=\"dataframe\">\n",
       "  <thead>\n",
       "    <tr style=\"text-align: right;\">\n",
       "      <th></th>\n",
       "      <th>Pclass</th>\n",
       "      <th>Survived</th>\n",
       "    </tr>\n",
       "  </thead>\n",
       "  <tbody>\n",
       "    <tr>\n",
       "      <th>0</th>\n",
       "      <td>1</td>\n",
       "      <td>0.626168</td>\n",
       "    </tr>\n",
       "    <tr>\n",
       "      <th>1</th>\n",
       "      <td>2</td>\n",
       "      <td>0.472826</td>\n",
       "    </tr>\n",
       "    <tr>\n",
       "      <th>2</th>\n",
       "      <td>3</td>\n",
       "      <td>0.242363</td>\n",
       "    </tr>\n",
       "  </tbody>\n",
       "</table>\n",
       "</div>"
      ],
      "text/plain": [
       "   Pclass  Survived\n",
       "0       1  0.626168\n",
       "1       2  0.472826\n",
       "2       3  0.242363"
      ]
     },
     "execution_count": 5,
     "metadata": {},
     "output_type": "execute_result"
    }
   ],
   "source": [
    "df[['Pclass', 'Survived']].groupby(['Pclass'], as_index=False).mean().sort_values(by='Survived', ascending=False)"
   ]
  },
  {
   "cell_type": "markdown",
   "id": "72088417-7dd3-42ad-b3d9-6d77c3d08e38",
   "metadata": {},
   "source": [
    "This analysis helps identify the relationship between gender (Sex) and survival rate (Survived). For instance, if the mean survival rate for females is higher than for males, this insight could be crucial for understanding gender-based survival patterns or could inform further feature engineering for predictive modeling."
   ]
  },
  {
   "cell_type": "code",
   "execution_count": 6,
   "id": "5ba3f333",
   "metadata": {
    "_cell_guid": "68908ba6-bfe9-5b31-cfde-6987fc0fbe9a",
    "_uuid": "00a2f2bca094c5984e6a232c730c8b232e7e20bb",
    "papermill": {
     "duration": 0.022952,
     "end_time": "2023-11-17T01:18:35.306205",
     "exception": false,
     "start_time": "2023-11-17T01:18:35.283253",
     "status": "completed"
    },
    "tags": []
   },
   "outputs": [
    {
     "data": {
      "text/html": [
       "<div>\n",
       "<style scoped>\n",
       "    .dataframe tbody tr th:only-of-type {\n",
       "        vertical-align: middle;\n",
       "    }\n",
       "\n",
       "    .dataframe tbody tr th {\n",
       "        vertical-align: top;\n",
       "    }\n",
       "\n",
       "    .dataframe thead th {\n",
       "        text-align: right;\n",
       "    }\n",
       "</style>\n",
       "<table border=\"1\" class=\"dataframe\">\n",
       "  <thead>\n",
       "    <tr style=\"text-align: right;\">\n",
       "      <th></th>\n",
       "      <th>Sex</th>\n",
       "      <th>Survived</th>\n",
       "    </tr>\n",
       "  </thead>\n",
       "  <tbody>\n",
       "    <tr>\n",
       "      <th>1</th>\n",
       "      <td>1</td>\n",
       "      <td>0.740385</td>\n",
       "    </tr>\n",
       "    <tr>\n",
       "      <th>0</th>\n",
       "      <td>0</td>\n",
       "      <td>0.188908</td>\n",
       "    </tr>\n",
       "  </tbody>\n",
       "</table>\n",
       "</div>"
      ],
      "text/plain": [
       "   Sex  Survived\n",
       "1    1  0.740385\n",
       "0    0  0.188908"
      ]
     },
     "execution_count": 6,
     "metadata": {},
     "output_type": "execute_result"
    }
   ],
   "source": [
    "df[[\"Sex\", \"Survived\"]].groupby(['Sex'], as_index=False).mean().sort_values(by='Survived', ascending=False)"
   ]
  },
  {
   "cell_type": "markdown",
   "id": "4f45e670-cba7-4533-b6fb-d11333558e56",
   "metadata": {},
   "source": [
    "This visualization helps to explore the age distribution within the two survival categories (survived vs. not survived). It can highlight age-related patterns, such as whether younger individuals had a higher survival rate, or whether there was any significant age difference between those who survived and those who did not. This is valuable for understanding how age might be a contributing factor to survival prediction."
   ]
  },
  {
   "cell_type": "code",
   "execution_count": 7,
   "id": "5bdb0c3b",
   "metadata": {
    "_cell_guid": "50294eac-263a-af78-cb7e-3778eb9ad41f",
    "_uuid": "d3a1fa63e9dd4f8a810086530a6363c94b36d030",
    "papermill": {
     "duration": 0.507145,
     "end_time": "2023-11-17T01:18:35.881417",
     "exception": false,
     "start_time": "2023-11-17T01:18:35.374272",
     "status": "completed"
    },
    "tags": []
   },
   "outputs": [
    {
     "data": {
      "text/plain": [
       "<seaborn.axisgrid.FacetGrid at 0x7291f5230b00>"
      ]
     },
     "execution_count": 7,
     "metadata": {},
     "output_type": "execute_result"
    },
    {
     "data": {
      "image/png": "[encoded data removed]",
      "text/plain": [
       "<Figure size 600x300 with 2 Axes>"
      ]
     },
     "metadata": {},
     "output_type": "display_data"
    }
   ],
   "source": [
    "g = sns.FacetGrid(df, col='Survived')\n",
    "g.map(plt.hist, 'Age', bins=20)"
   ]
  },
  {
   "cell_type": "markdown",
   "id": "60012470-3b3b-43da-ac3b-49dd8994bd78",
   "metadata": {
    "_cell_guid": "da057efe-88f0-bf49-917b-bb2fec418ed9",
    "_uuid": "e328d9882affedcfc4c167aa5bb1ac132547558c",
    "papermill": {
     "duration": 0.019484,
     "end_time": "2023-11-17T01:18:35.909340",
     "exception": false,
     "start_time": "2023-11-17T01:18:35.889856",
     "status": "completed"
    },
    "tags": []
   },
   "source": [
    "### Model Training and Evaluation\n",
    "\n",
    "Split the data into training and testing sets, train the Gaussian Naive Bayes model, and evaluate its performance.\n"
   ]
  },
  {
   "cell_type": "code",
   "execution_count": 8,
   "id": "7fff5ea2-ce68-49c3-a6b5-a5bdd5c4f3ed",
   "metadata": {},
   "outputs": [],
   "source": [
    "# Define features and target\n",
    "X = df.drop('Survived', axis=1)\n",
    "y = df['Survived']\n",
    "\n",
    "# Split into train and test sets\n",
    "X_train, X_test, y_train, y_test = train_test_split(X, y, test_size=0.2, random_state=42)\n",
    "\n",
    "# Train the model\n",
    "naive_bayes = GaussianNB()\n",
    "naive_bayes.fit(X_train, y_train)\n",
    "\n",
    "# Predictions\n",
    "y_pred = naive_bayes.predict(X_test)\n"
   ]
  },
  {
   "cell_type": "markdown",
   "id": "affcf6cd-139c-45be-b64e-384dd5d24cd3",
   "metadata": {
    "_cell_guid": "a4015dfa-a0ab-65bc-0cbe-efecf1eb2569",
    "_uuid": "31198f0ad0dbbb74290ebe135abffa994b8f58f3",
    "papermill": {
     "duration": 0.100353,
     "end_time": "2023-11-17T01:18:36.101544",
     "exception": false,
     "start_time": "2023-11-17T01:18:36.001191",
     "status": "completed"
    },
    "tags": []
   },
   "source": [
    "### Model Evaluation Metrics\n"
   ]
  },
  {
   "cell_type": "code",
   "execution_count": 9,
   "id": "0fdf72e7-ab7f-434e-bd39-d7a3f69837ea",
   "metadata": {},
   "outputs": [
    {
     "name": "stdout",
     "output_type": "stream",
     "text": [
      "Accuracy: 0.78\n",
      "Confusion Matrix:\n",
      "[[85 24]\n",
      " [16 53]]\n",
      "Classification Report:\n",
      "              precision    recall  f1-score   support\n",
      "\n",
      "           0       0.84      0.78      0.81       109\n",
      "           1       0.69      0.77      0.73        69\n",
      "\n",
      "    accuracy                           0.78       178\n",
      "   macro avg       0.76      0.77      0.77       178\n",
      "weighted avg       0.78      0.78      0.78       178\n",
      "\n"
     ]
    },
    {
     "data": {
      "image/png": "[encoded data removed]",
      "text/plain": [
       "<Figure size 640x480 with 1 Axes>"
      ]
     },
     "metadata": {},
     "output_type": "display_data"
    }
   ],
   "source": [
    "# Accuracy\n",
    "accuracy = accuracy_score(y_test, y_pred)\n",
    "\n",
    "# Confusion Matrix\n",
    "conf_matrix = confusion_matrix(y_test, y_pred)\n",
    "\n",
    "# Classification Report\n",
    "class_report = classification_report(y_test, y_pred)\n",
    "\n",
    "print(f\"Accuracy: {accuracy:.2f}\")\n",
    "print(\"Confusion Matrix:\")\n",
    "print(conf_matrix)\n",
    "print(\"Classification Report:\")\n",
    "print(class_report)\n",
    "\n",
    "# ROC Curve\n",
    "y_prob = naive_bayes.predict_proba(X_test)[:, 1]\n",
    "fpr, tpr, thresholds = roc_curve(y_test, y_prob)\n",
    "roc_auc = roc_auc_score(y_test, y_prob)\n",
    "\n",
    "plt.plot(fpr, tpr, label=f\"AUC = {roc_auc:.2f}\")\n",
    "plt.xlabel(\"False Positive Rate\")\n",
    "plt.ylabel(\"True Positive Rate\")\n",
    "plt.title(\"ROC Curve\")\n",
    "plt.legend()\n",
    "plt.show()\n"
   ]
  },
  {
   "cell_type": "markdown",
   "id": "476e550e-c8ab-413b-ad7d-0dfbf6ccff9a",
   "metadata": {},
   "source": [
    "## Cross-Validation\n",
    "\n",
    "Use cross-validation to evaluate the model more robustly.\n"
   ]
  },
  {
   "cell_type": "code",
   "execution_count": 10,
   "id": "9966b430",
   "metadata": {
    "_cell_guid": "725d1c84-6323-9d70-5812-baf9994d3aa1",
    "_uuid": "5c8b4cbb302f439ef0d6278dcfbdafd952675353",
    "papermill": {
     "duration": 0.032758,
     "end_time": "2023-11-17T01:18:36.143196",
     "exception": false,
     "start_time": "2023-11-17T01:18:36.110438",
     "status": "completed"
    },
    "tags": []
   },
   "outputs": [
    {
     "name": "stdout",
     "output_type": "stream",
     "text": [
      "Cross-Validation Scores: [0.74157303 0.7752809  0.74719101 0.80898876 0.77966102]\n",
      "Mean Accuracy: 0.7705389449628643\n"
     ]
    }
   ],
   "source": [
    "# Cross-validation\n",
    "cv = StratifiedKFold(n_splits=5, random_state=42, shuffle=True)\n",
    "cv_scores = cross_val_score(naive_bayes, X, y, cv=cv, scoring='accuracy')\n",
    "\n",
    "print(\"Cross-Validation Scores:\", cv_scores)\n",
    "print(\"Mean Accuracy:\", cv_scores.mean())\n"
   ]
  },
  {
   "cell_type": "markdown",
   "id": "cb9a7b63-33c9-4f6e-9b69-fdeaf6faedd4",
   "metadata": {},
   "source": [
    "---\n",
    "\n",
    "### Manual Implementation of Naive Bayes Algorithm\n",
    "\n",
    "The Naive Bayes algorithm uses Bayes' Theorem to calculate the probability of each class given a feature set. The \"naive\" assumption is that all features are independent. This implementation will compute the probabilities manually to classify the Titanic passengers.\n",
    "\n",
    "#### Algorithm Description\n",
    "\n",
    "The Naive Bayes algorithm works as follows:\n",
    "1. **Bayes' Theorem**:  \n",
    "   $P(Class | Data) = \\frac{P(Data | Class) \\cdot P(Class)}{P(Data)}$\n",
    "   - \\(P(Class | Data)\\): Posterior probability (what we aim to compute).\n",
    "   - \\(P(Data | Class)\\): Likelihood of the data given the class.\n",
    "   - \\(P(Class)\\): Prior probability of the class.\n",
    "   - \\(P(Data)\\): Evidence (does not affect classification, so we can ignore it).\n",
    "\n",
    "2. For each class:\n",
    "   - Calculate the prior probability \\(P(Class)\\).\n",
    "   - Compute the likelihood \\(P(Data | Class)\\) for all features by assuming feature independence.\n",
    "   - Multiply the prior by the likelihood for each class.\n",
    "3. Choose the class with the highest posterior probability.\n",
    "\n",
    "---\n"
   ]
  },
  {
   "cell_type": "markdown",
   "id": "b16c7545-8151-415e-87af-cdf8075ee0e1",
   "metadata": {},
   "source": [
    "### Step 1: Compute prior probabilities"
   ]
  },
  {
   "cell_type": "code",
   "execution_count": 11,
   "id": "88164d5b-e7d2-4f6a-97b5-88fb505bcd96",
   "metadata": {},
   "outputs": [],
   "source": [
    "# Step 1: Compute prior probabilities\n",
    "def calculate_priors(y):\n",
    "    classes, counts = np.unique(y, return_counts=True)\n",
    "    priors = counts / len(y)\n",
    "    return dict(zip(classes, priors))\n"
   ]
  },
  {
   "cell_type": "markdown",
   "id": "6a5541f1-3f3f-4914-9c8e-a3765c5838fc",
   "metadata": {},
   "source": [
    "### Step 2: Compute likelihoods"
   ]
  },
  {
   "cell_type": "code",
   "execution_count": 12,
   "id": "2da22b2d-e8bb-4a4d-863f-1124594e3076",
   "metadata": {},
   "outputs": [],
   "source": [
    "\n",
    "# Step 2: Compute likelihoods\n",
    "def calculate_likelihoods(X, y):\n",
    "    likelihoods = {}\n",
    "    for feature in X.columns:\n",
    "        likelihoods[feature] = {}\n",
    "        for cls in np.unique(y):\n",
    "            feature_given_class = X[feature][y == cls]\n",
    "            likelihoods[feature][cls] = feature_given_class.value_counts(normalize=True).to_dict()\n",
    "    return likelihoods\n",
    "\n"
   ]
  },
  {
   "cell_type": "markdown",
   "id": "b335d0ca-2ad2-47d8-8774-86dec0c25e98",
   "metadata": {},
   "source": [
    "### Step 3: Predict class for each sample"
   ]
  },
  {
   "cell_type": "code",
   "execution_count": 13,
   "id": "c72d3587-35db-4091-b1e1-d2c0b9942f4d",
   "metadata": {},
   "outputs": [],
   "source": [
    "def naive_bayes_predict(X, priors, likelihoods):\n",
    "    predictions = []\n",
    "    for i in range(len(X)):\n",
    "        sample = X.iloc[i]\n",
    "        posteriors = {}\n",
    "        for cls, prior in priors.items():\n",
    "            posterior = np.log(prior)  # Use log probabilities for numerical stability\n",
    "            for feature in X.columns:\n",
    "                value = sample[feature]\n",
    "                if value in likelihoods[feature][cls]:\n",
    "                    posterior += np.log(likelihoods[feature][cls][value])\n",
    "                else:\n",
    "                    posterior += np.log(1e-6)  # Small smoothing factor for unseen features\n",
    "            posteriors[cls] = posterior\n",
    "        predictions.append(max(posteriors, key=posteriors.get))\n",
    "    return predictions\n"
   ]
  },
  {
   "cell_type": "code",
   "execution_count": 14,
   "id": "3a03f220-c047-42bc-a2e8-b0063276a124",
   "metadata": {},
   "outputs": [],
   "source": [
    "# Prepare the data\n",
    "X_manual = X_train.copy()  # Use the training data\n",
    "y_manual = y_train"
   ]
  },
  {
   "cell_type": "markdown",
   "id": "57176c06-52ea-40b0-afb2-e18bb7ee9af3",
   "metadata": {},
   "source": [
    "### Step 4: Fit the model manually & Predict on test data"
   ]
  },
  {
   "cell_type": "code",
   "execution_count": 15,
   "id": "5e26c52b-ed86-4044-a245-cef56de945ae",
   "metadata": {},
   "outputs": [],
   "source": [
    "# Step 4: Fit the model manually\n",
    "priors = calculate_priors(y_manual)\n",
    "likelihoods = calculate_likelihoods(X_manual, y_manual)\n",
    "# Step 5: Predict on test data\n",
    "y_manual_pred = naive_bayes_predict(X_test, priors, likelihoods)"
   ]
  },
  {
   "cell_type": "markdown",
   "id": "723eec88-9326-49fd-a15a-00f3c57c9500",
   "metadata": {},
   "source": [
    "### Step 6: Evaluate the manual implementation"
   ]
  },
  {
   "cell_type": "code",
   "execution_count": 16,
   "id": "a59cd28a-f2ff-4167-ab8e-c2c46843de80",
   "metadata": {},
   "outputs": [
    {
     "name": "stdout",
     "output_type": "stream",
     "text": [
      "Manual Implementation Accuracy: 0.74\n",
      "Confusion Matrix (Manual):\n",
      "[[86 23]\n",
      " [23 46]]\n",
      "Classification Report (Manual):\n",
      "              precision    recall  f1-score   support\n",
      "\n",
      "           0       0.79      0.79      0.79       109\n",
      "           1       0.67      0.67      0.67        69\n",
      "\n",
      "    accuracy                           0.74       178\n",
      "   macro avg       0.73      0.73      0.73       178\n",
      "weighted avg       0.74      0.74      0.74       178\n",
      "\n"
     ]
    }
   ],
   "source": [
    "# Step 6: Evaluate the manual implementation\n",
    "manual_accuracy = accuracy_score(y_test, y_manual_pred)\n",
    "manual_conf_matrix = confusion_matrix(y_test, y_manual_pred)\n",
    "manual_classification_report = classification_report(y_test, y_manual_pred)\n",
    "\n",
    "print(f\"Manual Implementation Accuracy: {manual_accuracy:.2f}\")\n",
    "print(\"Confusion Matrix (Manual):\")\n",
    "print(manual_conf_matrix)\n",
    "print(\"Classification Report (Manual):\")\n",
    "print(manual_classification_report)"
   ]
  },
  {
   "cell_type": "code",
   "execution_count": null,
   "id": "ecbe096c-b594-42b1-aa68-ff74cd346552",
   "metadata": {},
   "outputs": [],
   "source": []
  }
 ],
 "metadata": {
  "kaggle": {
   "accelerator": "none",
   "dataSources": [
    {
     "databundleVersionId": 26502,
     "sourceId": 3136,
     "sourceType": "competition"
    }
   ],
   "dockerImageVersionId": 30587,
   "isGpuEnabled": false,
   "isInternetEnabled": true,
   "language": "python",
   "sourceType": "notebook"
  },
  "kernelspec": {
   "display_name": "Python 3 (ipykernel)",
   "language": "python",
   "name": "python3"
  },
  "language_info": {
   "codemirror_mode": {
    "name": "ipython",
    "version": 3
   },
   "file_extension": ".py",
   "mimetype": "text/x-python",
   "name": "python",
   "nbconvert_exporter": "python",
   "pygments_lexer": "ipython3",
   "version": "3.12.3"
  },
  "papermill": {
   "default_parameters": {},
   "duration": 7.329729,
   "end_time": "2023-11-17T01:18:38.246129",
   "environment_variables": {},
   "exception": null,
   "input_path": "__notebook__.ipynb",
   "output_path": "__notebook__.ipynb",
   "parameters": {},
   "start_time": "2023-11-17T01:18:30.916400",
   "version": "2.4.0"
  }
 },
 "nbformat": 4,
 "nbformat_minor": 5
}
