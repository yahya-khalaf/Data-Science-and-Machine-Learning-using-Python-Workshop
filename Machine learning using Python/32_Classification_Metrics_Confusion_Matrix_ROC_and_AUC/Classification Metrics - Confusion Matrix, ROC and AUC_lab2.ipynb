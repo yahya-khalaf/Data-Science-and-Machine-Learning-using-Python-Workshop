{
 "cells": [
  {
   "cell_type": "markdown",
   "id": "b3ae894b",
   "metadata": {
    "papermill": {
     "duration": 0.030303,
     "end_time": "2021-10-04T14:49:31.701351",
     "exception": false,
     "start_time": "2021-10-04T14:49:31.671048",
     "status": "completed"
    },
    "tags": []
   },
   "source": [
    "Classification metrics are performance evaluation measures used to assess how well a classification model (such as logistic regression, decision trees, or support vector machines) is predicting categorical outcomes (labels). These metrics are especially useful in binary and multi-class classification tasks to quantify the model's ability to predict the correct class labels."
   ]
  },
  {
   "cell_type": "code",
   "execution_count": 1,
   "id": "dd00a832",
   "metadata": {
    "papermill": {
     "duration": 1.243372,
     "end_time": "2021-10-04T14:49:32.975915",
     "exception": false,
     "start_time": "2021-10-04T14:49:31.732543",
     "status": "completed"
    },
    "tags": []
   },
   "outputs": [],
   "source": [
    "import pandas as pd\n",
    "import numpy as np\n",
    "from scipy.stats import ks_2samp\n",
    "from xgboost import XGBClassifier\n",
    "from sklearn.model_selection import train_test_split\n",
    "from sklearn.metrics import (\n",
    "    confusion_matrix,\n",
    "    accuracy_score,\n",
    "    precision_score,\n",
    "    recall_score,\n",
    "    f1_score,\n",
    "    roc_auc_score\n",
    ")"
   ]
  },
  {
   "cell_type": "markdown",
   "id": "bdcb6704",
   "metadata": {
    "papermill": {
     "duration": 0.030122,
     "end_time": "2021-10-04T14:49:33.035442",
     "exception": false,
     "start_time": "2021-10-04T14:49:33.005320",
     "status": "completed"
    },
    "tags": []
   },
   "source": [
    "Here we'll apply our knowledge about classification metrics to a fraud detection dataset. In order to present some of the aspects described here, I'll develop a very simple solution based on a XGBoost classifier with no previous feature engineering, or parameter tunning."
   ]
  },
  {
   "cell_type": "code",
   "execution_count": 2,
   "id": "65d0770f",
   "metadata": {
    "papermill": {
     "duration": 4.275768,
     "end_time": "2021-10-04T14:49:37.340293",
     "exception": false,
     "start_time": "2021-10-04T14:49:33.064525",
     "status": "completed"
    },
    "tags": []
   },
   "outputs": [],
   "source": [
    "df = pd.read_csv(\"creditcard.csv\")\n",
    "df.drop(columns=[\"Time\"], inplace=True)"
   ]
  },
  {
   "cell_type": "markdown",
   "id": "ad56f1ad",
   "metadata": {
    "papermill": {
     "duration": 0.029242,
     "end_time": "2021-10-04T14:49:37.398571",
     "exception": false,
     "start_time": "2021-10-04T14:49:37.369329",
     "status": "completed"
    },
    "tags": []
   },
   "source": [
    "As we can see below, we are dealing with a very skewed positive class. This makes sense because credit card frauds are the exception to the rule. The choice of an anomaly detection problem was intentional since we can highlight some flaws and strengths from each metric."
   ]
  },
  {
   "cell_type": "code",
   "execution_count": 3,
   "id": "50a49738",
   "metadata": {
    "papermill": {
     "duration": 0.054358,
     "end_time": "2021-10-04T14:49:37.481410",
     "exception": false,
     "start_time": "2021-10-04T14:49:37.427052",
     "status": "completed"
    },
    "tags": []
   },
   "outputs": [
    {
     "data": {
      "text/html": [
       "<div>\n",
       "<style scoped>\n",
       "    .dataframe tbody tr th:only-of-type {\n",
       "        vertical-align: middle;\n",
       "    }\n",
       "\n",
       "    .dataframe tbody tr th {\n",
       "        vertical-align: top;\n",
       "    }\n",
       "\n",
       "    .dataframe thead th {\n",
       "        text-align: right;\n",
       "    }\n",
       "</style>\n",
       "<table border=\"1\" class=\"dataframe\">\n",
       "  <thead>\n",
       "    <tr style=\"text-align: right;\">\n",
       "      <th></th>\n",
       "      <th>Classes' Proportions</th>\n",
       "    </tr>\n",
       "    <tr>\n",
       "      <th>Class</th>\n",
       "      <th></th>\n",
       "    </tr>\n",
       "  </thead>\n",
       "  <tbody>\n",
       "    <tr>\n",
       "      <th>0</th>\n",
       "      <td>99.827251</td>\n",
       "    </tr>\n",
       "    <tr>\n",
       "      <th>1</th>\n",
       "      <td>0.172749</td>\n",
       "    </tr>\n",
       "  </tbody>\n",
       "</table>\n",
       "</div>"
      ],
      "text/plain": [
       "       Classes' Proportions\n",
       "Class                      \n",
       "0                 99.827251\n",
       "1                  0.172749"
      ]
     },
     "execution_count": 3,
     "metadata": {},
     "output_type": "execute_result"
    }
   ],
   "source": [
    "(df.Class.value_counts(normalize=True)*100).rename(\"Classes' Proportions\").to_frame()"
   ]
  },
  {
   "cell_type": "markdown",
   "id": "153bc89f",
   "metadata": {
    "papermill": {
     "duration": 0.028549,
     "end_time": "2021-10-04T14:49:37.539033",
     "exception": false,
     "start_time": "2021-10-04T14:49:37.510484",
     "status": "completed"
    },
    "tags": []
   },
   "source": [
    "We've chosen to use a simple cross-validation approach."
   ]
  },
  {
   "cell_type": "code",
   "execution_count": 4,
   "id": "1298198e",
   "metadata": {
    "papermill": {
     "duration": 0.160028,
     "end_time": "2021-10-04T14:49:37.727878",
     "exception": false,
     "start_time": "2021-10-04T14:49:37.567850",
     "status": "completed"
    },
    "tags": []
   },
   "outputs": [],
   "source": [
    "X_train, X_test, Y_train, Y_test = train_test_split(df.drop(columns=[\"Class\"]), df.Class)"
   ]
  },
  {
   "cell_type": "markdown",
   "id": "1df84d69",
   "metadata": {
    "papermill": {
     "duration": 0.02847,
     "end_time": "2021-10-04T14:49:37.785917",
     "exception": false,
     "start_time": "2021-10-04T14:49:37.757447",
     "status": "completed"
    },
    "tags": []
   },
   "source": [
    "Now let's check whether the positive class proportions are similar in both sets, that is, the train/test split was indeed stratified"
   ]
  },
  {
   "cell_type": "code",
   "execution_count": 5,
   "id": "54e52e26",
   "metadata": {
    "papermill": {
     "duration": 0.040267,
     "end_time": "2021-10-04T14:49:37.855161",
     "exception": false,
     "start_time": "2021-10-04T14:49:37.814894",
     "status": "completed"
    },
    "tags": []
   },
   "outputs": [
    {
     "name": "stdout",
     "output_type": "stream",
     "text": [
      "The positive class proportion in train set is 0.002 whereas in test set is 0.001\n"
     ]
    }
   ],
   "source": [
    "print(\n",
    "    f\"The positive class proportion in train set is {(Y_train == 1).sum() / Y_train.shape[0]:0.3f} \\\n",
    "whereas in test set is {(Y_test == 1).sum() / Y_test.shape[0]:.3f}\"\n",
    ")"
   ]
  },
  {
   "cell_type": "markdown",
   "id": "5f18ab2d",
   "metadata": {
    "papermill": {
     "duration": 0.029854,
     "end_time": "2021-10-04T14:49:37.914081",
     "exception": false,
     "start_time": "2021-10-04T14:49:37.884227",
     "status": "completed"
    },
    "tags": []
   },
   "source": [
    "Since the sets' proportions are roughly the same, let's train our model and perform the predictions"
   ]
  },
  {
   "cell_type": "code",
   "execution_count": 6,
   "id": "5c8826c9",
   "metadata": {
    "papermill": {
     "duration": 56.026572,
     "end_time": "2021-10-04T14:50:33.970296",
     "exception": false,
     "start_time": "2021-10-04T14:49:37.943724",
     "status": "completed"
    },
    "tags": []
   },
   "outputs": [],
   "source": [
    "\n",
    "xgb = XGBClassifier()\n",
    "xgb.fit(X_train, Y_train)\n",
    "\n",
    "preds = xgb.predict(X_test)\n",
    "pred_probas = xgb.predict_proba(X_test)\n"
   ]
  },
  {
   "cell_type": "markdown",
   "id": "012c73be",
   "metadata": {
    "papermill": {
     "duration": 0.028879,
     "end_time": "2021-10-04T14:50:34.031090",
     "exception": false,
     "start_time": "2021-10-04T14:50:34.002211",
     "status": "completed"
    },
    "tags": []
   },
   "source": [
    "---\n",
    "## **Confusion Matrix**\n",
    "\n",
    "The major aspect that differentiates a supervised learning algorithm to the remaining ones is the data used in the training process. Basically, the inputs are (x,y) tuples which correspond to the features, and the class to what the record belongs to, respectively. Consequently, a prediction ŷ can easily be assessed by comparing the equivalence of y and ŷ. From this comparison we can derive four different status:\n",
    "\n",
    "- **True Positive:** when the original, and the predicted label both belong to the positive class.\n",
    "- **False Positive:** when the original label belongs to the negative class, whereas the predicted label belongs to the positive.\n",
    "- **True Negative:** when the original, and the predicted label both belong to the negative class.\n",
    "- **False Negative:** when the original label belongs to the positive class, whereas the predicted label belongs to the negative.\n",
    "\n",
    "These four states are the basis of almost all supervised learning metrics. We begin with the Confusion Matrix, a simple, yet powerful means to visualize the performance of a given model by simply counting the frequency from each of the status above.\n",
    "\n",
    "- **Confusion Matrix:** Essentially, a confusion matrix builds a table in which the lines represent the predicted values, whereas the columns represent the true labels. Since with this metric we can visualize every possible outcome for the prediction, we have a general understanding of the whole scenario, and have a rough estimation for the model performance."
   ]
  },
  {
   "cell_type": "code",
   "execution_count": 7,
   "id": "a60d7021",
   "metadata": {
    "papermill": {
     "duration": 0.142382,
     "end_time": "2021-10-04T14:50:34.202662",
     "exception": false,
     "start_time": "2021-10-04T14:50:34.060280",
     "status": "completed"
    },
    "tags": []
   },
   "outputs": [
    {
     "data": {
      "text/html": [
       "<div>\n",
       "<style scoped>\n",
       "    .dataframe tbody tr th:only-of-type {\n",
       "        vertical-align: middle;\n",
       "    }\n",
       "\n",
       "    .dataframe tbody tr th {\n",
       "        vertical-align: top;\n",
       "    }\n",
       "\n",
       "    .dataframe thead th {\n",
       "        text-align: right;\n",
       "    }\n",
       "</style>\n",
       "<table border=\"1\" class=\"dataframe\">\n",
       "  <thead>\n",
       "    <tr style=\"text-align: right;\">\n",
       "      <th></th>\n",
       "      <th>Predicted Negative</th>\n",
       "      <th>Predicted Positive</th>\n",
       "    </tr>\n",
       "  </thead>\n",
       "  <tbody>\n",
       "    <tr>\n",
       "      <th>Negative Label</th>\n",
       "      <td>99.85</td>\n",
       "      <td>0.00</td>\n",
       "    </tr>\n",
       "    <tr>\n",
       "      <th>Positive Label</th>\n",
       "      <td>0.03</td>\n",
       "      <td>0.11</td>\n",
       "    </tr>\n",
       "  </tbody>\n",
       "</table>\n",
       "</div>"
      ],
      "text/plain": [
       "                Predicted Negative  Predicted Positive\n",
       "Negative Label               99.85                0.00\n",
       "Positive Label                0.03                0.11"
      ]
     },
     "execution_count": 7,
     "metadata": {},
     "output_type": "execute_result"
    }
   ],
   "source": [
    "c = confusion_matrix(Y_test, preds) / Y_test.shape[0] * 100\n",
    "c = np.round(c, 2)\n",
    "\n",
    "pd.DataFrame(\n",
    "    c,\n",
    "    columns=[\"Predicted Negative\", \"Predicted Positive\"],\n",
    "    index=[\"Negative Label\", \"Positive Label\"]\n",
    ")"
   ]
  },
  {
   "cell_type": "markdown",
   "id": "617a0c8b",
   "metadata": {
    "papermill": {
     "duration": 0.029471,
     "end_time": "2021-10-04T14:50:34.261853",
     "exception": false,
     "start_time": "2021-10-04T14:50:34.232382",
     "status": "completed"
    },
    "tags": []
   },
   "source": [
    "As we can see above, the confusion matrix allows us to easily spot where the main misclassification errors lie. For example, since we are focusing mostly on positive class items, we need to try reduce the False Negatives ($C_{0,0}$ cell) from our model. Maybe at the cost of a higher False Positive rate."
   ]
  },
  {
   "cell_type": "markdown",
   "id": "86779a22",
   "metadata": {
    "papermill": {
     "duration": 0.030397,
     "end_time": "2021-10-04T14:50:34.769878",
     "exception": false,
     "start_time": "2021-10-04T14:50:34.739481",
     "status": "completed"
    },
    "tags": []
   },
   "source": [
    "## **Precision Score**\n",
    "\n",
    "In order to introduce our next classification metric, let’s go through a quick example. Imagine you’re a doctor who applies machine learning models to predict if a patient must resort to a surgical procedure as a treatment for a given disease. We must have in mind that surgical interventions must be avoided as much as possible and, hence, you don’t want your machine learning models to make frivolous recommendations, i.e. False Positives. In such scenarios, the models should have high Precisions. \n",
    "\n",
    "- **Precision:** The precision metric expresses the percentage of predictions that were indeed positive.\n",
    "\n",
    "\\begin{equation}\n",
    "\\frac{tp}{tp+fp}\n",
    "\\end{equation}"
   ]
  },
  {
   "cell_type": "code",
   "execution_count": 8,
   "id": "45610e9e",
   "metadata": {
    "papermill": {
     "duration": 0.05673,
     "end_time": "2021-10-04T14:50:34.856806",
     "exception": false,
     "start_time": "2021-10-04T14:50:34.800076",
     "status": "completed"
    },
    "tags": []
   },
   "outputs": [
    {
     "name": "stdout",
     "output_type": "stream",
     "text": [
      "The Precision score was 0.96\n"
     ]
    }
   ],
   "source": [
    "print(f\"The Precision score was {precision_score(Y_test, preds):.2f}\")"
   ]
  },
  {
   "cell_type": "markdown",
   "id": "64e0e04c",
   "metadata": {
    "papermill": {
     "duration": 0.030586,
     "end_time": "2021-10-04T14:50:34.918923",
     "exception": false,
     "start_time": "2021-10-04T14:50:34.888337",
     "status": "completed"
    },
    "tags": []
   },
   "source": [
    "Precision seems to be able to capture some of the imperfections on the model's predictions. However, it pays attention to the False Positive rate, a not so much important concept for the anomaly detection problem (even less important when the checking procedure is relatively cheap). Consequently, the final score still points to a considerably good solution."
   ]
  },
  {
   "cell_type": "markdown",
   "id": "67ec9572",
   "metadata": {
    "papermill": {
     "duration": 0.030188,
     "end_time": "2021-10-04T14:50:34.979650",
     "exception": false,
     "start_time": "2021-10-04T14:50:34.949462",
     "status": "completed"
    },
    "tags": []
   },
   "source": [
    "---"
   ]
  },
  {
   "cell_type": "markdown",
   "id": "6d1858ae",
   "metadata": {
    "papermill": {
     "duration": 0.030067,
     "end_time": "2021-10-04T14:50:35.040057",
     "exception": false,
     "start_time": "2021-10-04T14:50:35.009990",
     "status": "completed"
    },
    "tags": []
   },
   "source": [
    "## **Recall Score**\n",
    "\n",
    "The Recall, also known as Sensitivity, is a metric concerned with the True Positive Rate. For example, when dealing with fraud detection, it might be cheaper to investigate many suspicious cases - even if they’re false alarms - than to let one single example go by inadvertently. Hence, in such a case we should look for High Sensitivity scores.\n",
    "\n",
    "- **Recall (Sensitivity):** From all positive records, what percentage was actually predicted as positives?\n",
    "\n",
    "\\begin{equation}\n",
    "\\frac{tp}{tp+fn}\n",
    "\\end{equation}"
   ]
  },
  {
   "cell_type": "code",
   "execution_count": 9,
   "id": "97b2b6a0",
   "metadata": {
    "papermill": {
     "duration": 0.057808,
     "end_time": "2021-10-04T14:50:35.128599",
     "exception": false,
     "start_time": "2021-10-04T14:50:35.070791",
     "status": "completed"
    },
    "tags": []
   },
   "outputs": [
    {
     "name": "stdout",
     "output_type": "stream",
     "text": [
      "The Recall score was 0.78\n"
     ]
    }
   ],
   "source": [
    "print(f\"The Recall score was {recall_score(Y_test, preds):.2f}\")"
   ]
  },
  {
   "cell_type": "markdown",
   "id": "58d014de",
   "metadata": {
    "papermill": {
     "duration": 0.030268,
     "end_time": "2021-10-04T14:50:35.190621",
     "exception": false,
     "start_time": "2021-10-04T14:50:35.160353",
     "status": "completed"
    },
    "tags": []
   },
   "source": [
    "As well as Confusion Matrix, Recall seems to have been able to identify the main flaw in our classification model, i.e. its False Negative rate. Hence, in this regard, the model doesn't seem to be so powerful as pictured by the previous alternatives."
   ]
  },
  {
   "attachments": {
    "59347e32-7971-4d88-b03f-65ac04c3ce6f.png": {
     "image/png": "[encoded data removed]"
    }
   },
   "cell_type": "markdown",
   "id": "5d48d787",
   "metadata": {
    "papermill": {
     "duration": 0.031404,
     "end_time": "2021-10-04T14:50:35.847779",
     "exception": false,
     "start_time": "2021-10-04T14:50:35.816375",
     "status": "completed"
    },
    "tags": []
   },
   "source": [
    "## **Area Under the Curve (AUC)**\n",
    "\n",
    "The Receiver Operating Characteristic (ROC) curve, is a 2-dimensional plot that presents the model prediction ability at every classification threshold. Each point in the visualization has coordinates True Positive Rate (a.k.a. Recall), and False Positive Rate (a.k.a. **1-specificity**), derived from the model built with the respective thresholds. Intuitively, TPR tells us how good the model is in classifying positive records, whereas Specificity tells how good it is to classify negative points. Consequently, if the solution presents a TPR equal to 1 and a FPR equal to 0 (i.e perfect Specificity), we would have developed an oracle model (see the figure below). \n",
    "\n",
    "![auc.png](attachment:59347e32-7971-4d88-b03f-65ac04c3ce6f.png)\n",
    "\n",
    "Since the ROC curve displays the general performance of the model, it follows that the bigger the area under the resulting plot, the better will be the average performance of the model. If we normalize the Y-axis’ values, we will end up finding a figure with area ranging in the interval [0, 1]. The Area Under the ROC Curve (AUC) is a classification metric that succinctly expresses the probability that a classifier will give bigger importances to positive instances than to negative ones. A latent problem, however, is that the metric doesn’t express the model’s confidence level, only its correctness rate.\n",
    "\n",
    "- **AUC:** The probability of giving more importance to positive records if compared to the negative ones."
   ]
  },
  {
   "cell_type": "code",
   "execution_count": 10,
   "id": "f0e04eed",
   "metadata": {
    "papermill": {
     "duration": 0.062643,
     "end_time": "2021-10-04T14:50:35.942580",
     "exception": false,
     "start_time": "2021-10-04T14:50:35.879937",
     "status": "completed"
    },
    "tags": []
   },
   "outputs": [
    {
     "name": "stdout",
     "output_type": "stream",
     "text": [
      "The AUC score was 0.97\n"
     ]
    }
   ],
   "source": [
    "print(f\"The AUC score was {roc_auc_score(Y_test.values, pred_probas[:, 1]):.2f}\")"
   ]
  },
  {
   "cell_type": "markdown",
   "id": "0e22ecf8",
   "metadata": {
    "papermill": {
     "duration": 0.031292,
     "end_time": "2021-10-04T14:50:36.005384",
     "exception": false,
     "start_time": "2021-10-04T14:50:35.974092",
     "status": "completed"
    },
    "tags": []
   },
   "source": [
    "---"
   ]
  },
  {
   "attachments": {
    "a075dc96-4567-4cd0-b225-931f87867b90.png": {
     "image/png": "[encoded data removed]"
    }
   },
   "cell_type": "markdown",
   "id": "fbd15ab1",
   "metadata": {
    "papermill": {
     "duration": 0.03134,
     "end_time": "2021-10-04T14:50:36.069073",
     "exception": false,
     "start_time": "2021-10-04T14:50:36.037733",
     "status": "completed"
    },
    "tags": []
   },
   "source": [
    "## **Kolmogorov-Smirnov (KS) Statistic**\n",
    "\n",
    "Almost every interesting dataset we find in real-world scenarios is composed of n-dimensional random vectors, where each of their dimensions is a random variable that can (or cannot) be related to the other dimensions. G(X) is an oracle function capable of predicting an interest variable (our target) given the observation of each random vector. Essentially, when developing machine learning models, what we’re looking for is a function F capable of imitating G’s predicting behavior. Since G and F are functions over random variables, they can also be seen as random variables which follow an unknown distribution and present Cumulative Distribution Functions (CDF). Intuitively, we can think that if both CDFs are similar, the approximation of G through F is reliable. This measuring can be done with the aid of Two-Sample Kolmogorov-Smirnov’s test.\n",
    "Add an image\n",
    "\n",
    "- **Kolmogorov-Smirnov Test:** Measure the quality of the prediction as the distance between the CDFs from the oracle function and the approximation function.\n",
    "\n",
    "![ks.png](attachment:a075dc96-4567-4cd0-b225-931f87867b90.png)"
   ]
  },
  {
   "cell_type": "code",
   "execution_count": 11,
   "id": "872e86a1",
   "metadata": {
    "papermill": {
     "duration": 0.051679,
     "end_time": "2021-10-04T14:50:36.152904",
     "exception": false,
     "start_time": "2021-10-04T14:50:36.101225",
     "status": "completed"
    },
    "tags": []
   },
   "outputs": [
    {
     "name": "stdout",
     "output_type": "stream",
     "text": [
      "The KS score was 0.89\n"
     ]
    }
   ],
   "source": [
    "# Get only the probability of being the positive class\n",
    "pred_probas = pred_probas[:, 1]\n",
    "\n",
    "print(f\"The KS score was {ks_2samp(pred_probas[Y_test == 0], pred_probas[Y_test == 1])[0]:.2f}\")"
   ]
  },
  {
   "cell_type": "markdown",
   "id": "21e24534",
   "metadata": {
    "papermill": {
     "duration": 0.031976,
     "end_time": "2021-10-04T14:50:36.217049",
     "exception": false,
     "start_time": "2021-10-04T14:50:36.185073",
     "status": "completed"
    },
    "tags": []
   },
   "source": [
    "As we saw above, the differentiation between the classes is quite significant. In other words, the function that generates the positive class items, is substantially different than the one that generates the negative class."
   ]
  }
 ],
 "metadata": {
  "kernelspec": {
   "display_name": "Python 3 (ipykernel)",
   "language": "python",
   "name": "python3"
  },
  "language_info": {
   "codemirror_mode": {
    "name": "ipython",
    "version": 3
   },
   "file_extension": ".py",
   "mimetype": "text/x-python",
   "name": "python",
   "nbconvert_exporter": "python",
   "pygments_lexer": "ipython3",
   "version": "3.12.3"
  },
  "papermill": {
   "default_parameters": {},
   "duration": 74.874835,
   "end_time": "2021-10-04T14:50:37.880277",
   "environment_variables": {},
   "exception": null,
   "input_path": "__notebook__.ipynb",
   "output_path": "__notebook__.ipynb",
   "parameters": {},
   "start_time": "2021-10-04T14:49:23.005442",
   "version": "2.3.3"
  }
 },
 "nbformat": 4,
 "nbformat_minor": 5
}
