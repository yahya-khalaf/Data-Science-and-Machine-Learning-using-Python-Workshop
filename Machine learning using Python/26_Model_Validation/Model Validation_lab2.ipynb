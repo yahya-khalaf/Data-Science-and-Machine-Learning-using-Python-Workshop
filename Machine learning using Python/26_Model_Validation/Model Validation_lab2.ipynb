{
 "cells": [
  {
   "cell_type": "markdown",
   "id": "084ad564-1e76-4a19-a1e5-8def697ff97a",
   "metadata": {},
   "source": [
    "## Model Validation: Ensuring Robust Predictions\n",
    "\n",
    "Model validation is critical for assessing the real-world performance of predictive models. The goal is to ensure that our model generalizes well to unseen data by testing it on data it hasn't encountered during training. This helps prevent overfitting and provides a more realistic evaluation of model performance.\n",
    "\n",
    "---"
   ]
  },
  {
   "cell_type": "markdown",
   "id": "2ec461eb-3ade-4738-999e-836e9111ff83",
   "metadata": {},
   "source": [
    "Why is Model Validation Important?\n",
    "The Problem with \"In-Sample\" Scores\n",
    "\n",
    "Using the same data for both training and evaluation often results in overly optimistic performance metrics. This happens because the model essentially memorizes patterns in the training data, including noise, instead of learning generalizable relationships.\n",
    "Example Scenario\n",
    "\n",
    "Imagine a model trained to predict house prices:\n",
    "\n",
    "    It discovers an arbitrary correlation, such as high prices for homes with green doors (a pattern specific to the training data).\n",
    "    When applied to new data, this \"green door effect\" may not hold, leading to poor predictions.\n",
    "\n",
    "Solution: Evaluate the model on validation data — data that is not used during training — to simulate real-world performance."
   ]
  },
  {
   "cell_type": "markdown",
   "id": "d143195f-b876-432f-b0b1-dfc3767864db",
   "metadata": {},
   "source": [
    "#### Step 1: Data Loading and Preprocessing\n",
    "\n",
    "We start by loading the Melbourne housing dataset and preparing it for analysis.\n",
    "\n"
   ]
  },
  {
   "cell_type": "code",
   "execution_count": 1,
   "id": "222ba571-a4e9-4567-94e3-6d7b220662c1",
   "metadata": {},
   "outputs": [
    {
     "name": "stdout",
     "output_type": "stream",
     "text": [
      "<class 'pandas.core.frame.DataFrame'>\n",
      "Index: 6196 entries, 1 to 12212\n",
      "Data columns (total 7 columns):\n",
      " #   Column        Non-Null Count  Dtype  \n",
      "---  ------        --------------  -----  \n",
      " 0   Rooms         6196 non-null   int64  \n",
      " 1   Bathroom      6196 non-null   float64\n",
      " 2   Landsize      6196 non-null   float64\n",
      " 3   BuildingArea  6196 non-null   float64\n",
      " 4   YearBuilt     6196 non-null   float64\n",
      " 5   Lattitude     6196 non-null   float64\n",
      " 6   Longtitude    6196 non-null   float64\n",
      "dtypes: float64(6), int64(1)\n",
      "memory usage: 387.2 KB\n",
      "<class 'pandas.core.series.Series'>\n",
      "Index: 6196 entries, 1 to 12212\n",
      "Series name: Price\n",
      "Non-Null Count  Dtype  \n",
      "--------------  -----  \n",
      "6196 non-null   float64\n",
      "dtypes: float64(1)\n",
      "memory usage: 96.8 KB\n"
     ]
    },
    {
     "data": {
      "text/plain": [
       "(None, None)"
      ]
     },
     "execution_count": 1,
     "metadata": {},
     "output_type": "execute_result"
    }
   ],
   "source": [
    "# Import necessary libraries\n",
    "import pandas as pd\n",
    "from sklearn.tree import DecisionTreeRegressor\n",
    "from sklearn.metrics import mean_absolute_error\n",
    "from sklearn.model_selection import train_test_split\n",
    "\n",
    "# Load the data\n",
    "melbourne_file_path = 'melb_data.csv'\n",
    "melbourne_data = pd.read_csv(melbourne_file_path)\n",
    "\n",
    "# Filter rows with missing target values\n",
    "filtered_melbourne_data = melbourne_data.dropna(axis=0)\n",
    "\n",
    "# Select target variable and features\n",
    "y = filtered_melbourne_data.Price\n",
    "melbourne_features = ['Rooms', 'Bathroom', 'Landsize', 'BuildingArea', \n",
    "                      'YearBuilt', 'Lattitude', 'Longtitude']\n",
    "X = filtered_melbourne_data[melbourne_features]\n",
    "X.info(), y.info()\n"
   ]
  },
  {
   "cell_type": "markdown",
   "id": "2eeac7a1-2640-4e4c-9c54-35bf403977b4",
   "metadata": {},
   "source": [
    "#### Step 2: Model Training and Validation\n",
    "##### 2.1: Split Data into Training and Validation Sets\n",
    "\n",
    "We divide the data into training and validation sets to simulate unseen data during model evaluation."
   ]
  },
  {
   "cell_type": "code",
   "execution_count": 2,
   "id": "289bbb68-bae7-4790-b099-3aba71ea029e",
   "metadata": {},
   "outputs": [],
   "source": [
    "# Split the data\n",
    "train_X, val_X, train_y, val_y = train_test_split(X, y, random_state=0)\n"
   ]
  },
  {
   "cell_type": "markdown",
   "id": "c0769310-b1cd-432c-a14e-c83d66a1492e",
   "metadata": {},
   "source": [
    "##### 2.2: Fit a Decision Tree Model\n",
    "\n",
    "A simple Decision Tree Regressor is used as the baseline model."
   ]
  },
  {
   "cell_type": "code",
   "execution_count": 3,
   "id": "b691f182-ecdf-44ed-978f-7c968424759c",
   "metadata": {},
   "outputs": [
    {
     "name": "stdout",
     "output_type": "stream",
     "text": [
      "Mean Absolute Error (MAE): 265345.3511943189\n"
     ]
    }
   ],
   "source": [
    "# Define and fit the model\n",
    "melbourne_model = DecisionTreeRegressor(random_state=0)\n",
    "melbourne_model.fit(train_X, train_y)\n",
    "\n",
    "# Evaluate on validation data\n",
    "val_predictions = melbourne_model.predict(val_X)\n",
    "print(\"Mean Absolute Error (MAE):\", mean_absolute_error(val_y, val_predictions))\n"
   ]
  },
  {
   "cell_type": "markdown",
   "id": "2bc98161-a1f8-4917-a5fa-f20f9715696c",
   "metadata": {},
   "source": [
    "#### Step 3: Advanced Model Validation Techniques\n",
    "##### 3.1: Cross-Validation\n",
    "\n",
    "Cross-Validation provides a more robust evaluation by dividing the data into multiple folds, training on different subsets, and validating on the remaining data."
   ]
  },
  {
   "cell_type": "code",
   "execution_count": 4,
   "id": "f82379e0-4269-4474-9f34-94e279f980b5",
   "metadata": {},
   "outputs": [
    {
     "name": "stdout",
     "output_type": "stream",
     "text": [
      "Cross-Validated MAE: 261459.6876890833\n"
     ]
    }
   ],
   "source": [
    "from sklearn.model_selection import cross_val_score\n",
    "\n",
    "# Perform k-fold cross-validation\n",
    "cv_scores = cross_val_score(melbourne_model, X, y, cv=5, scoring='neg_mean_absolute_error')\n",
    "\n",
    "# Calculate the average MAE across folds\n",
    "cv_mae = -1 * cv_scores.mean()\n",
    "print(\"Cross-Validated MAE:\", cv_mae)\n"
   ]
  },
  {
   "cell_type": "markdown",
   "id": "32fdd095-131b-47ed-9cf7-68bc8c74d134",
   "metadata": {},
   "source": [
    "##### Benefits of Cross-Validation:\n",
    "\n",
    "    Reduces variability due to random data splits.\n",
    "    Provides a more stable estimate of model performance."
   ]
  },
  {
   "cell_type": "markdown",
   "id": "f2f98f26-577b-47f1-9822-04e885735532",
   "metadata": {},
   "source": [
    "##### 3.2: Nested Cross-Validation (Advanced)\n",
    "\n",
    "For hyperparameter tuning combined with performance evaluation, nested cross-validation is used. It avoids data leakage by separating hyperparameter optimization and validation phases."
   ]
  },
  {
   "cell_type": "code",
   "execution_count": 5,
   "id": "0f4039ef-1c46-4488-aff4-a95995be6361",
   "metadata": {},
   "outputs": [
    {
     "name": "stdout",
     "output_type": "stream",
     "text": [
      "Best Parameters: {'max_depth': 10, 'min_samples_split': 20}\n",
      "Best Cross-Validated MAE: 240143.03010318204\n"
     ]
    }
   ],
   "source": [
    "from sklearn.model_selection import GridSearchCV\n",
    "\n",
    "# Define parameter grid for Decision Tree\n",
    "param_grid = {\n",
    "    'max_depth': [None, 10, 20, 30],\n",
    "    'min_samples_split': [2, 10, 20]\n",
    "}\n",
    "\n",
    "# Perform Grid Search with Cross-Validation\n",
    "grid_search = GridSearchCV(estimator=DecisionTreeRegressor(random_state=0),\n",
    "                           param_grid=param_grid,\n",
    "                           cv=5,\n",
    "                           scoring='neg_mean_absolute_error')\n",
    "\n",
    "grid_search.fit(X, y)\n",
    "\n",
    "# Best parameters and performance\n",
    "print(\"Best Parameters:\", grid_search.best_params_)\n",
    "print(\"Best Cross-Validated MAE:\", -1 * grid_search.best_score_)\n"
   ]
  },
  {
   "cell_type": "markdown",
   "id": "7b0c2fec-515e-41a8-a5b9-8da3563200ab",
   "metadata": {},
   "source": [
    "##### 3.3: Bootstrapping\n",
    "\n",
    "Bootstrapping involves resampling the data with replacement to estimate the uncertainty of model performance."
   ]
  },
  {
   "cell_type": "code",
   "execution_count": 6,
   "id": "24e24c2e-bfe0-413a-9d9a-d8e4c5ec67b8",
   "metadata": {},
   "outputs": [
    {
     "name": "stdout",
     "output_type": "stream",
     "text": [
      "Bootstrapped MAE: 95478.77 ± 0.00\n"
     ]
    }
   ],
   "source": [
    "from sklearn.utils import resample\n",
    "import numpy as np\n",
    "\n",
    "# Define a function for bootstrapped validation\n",
    "def bootstrap_validation(model, X, y, n_iterations=100):\n",
    "    bootstrapped_scores = []\n",
    "    for _ in range(n_iterations):\n",
    "        X_boot, y_boot = resample(X, y, random_state=0)\n",
    "        model.fit(X_boot, y_boot)\n",
    "        predictions = model.predict(X)\n",
    "        bootstrapped_scores.append(mean_absolute_error(y, predictions))\n",
    "    return np.mean(bootstrapped_scores), np.std(bootstrapped_scores)\n",
    "\n",
    "# Perform bootstrapping\n",
    "bootstrap_mean, bootstrap_std = bootstrap_validation(melbourne_model, X, y)\n",
    "print(f\"Bootstrapped MAE: {bootstrap_mean:.2f} ± {bootstrap_std:.2f}\")\n"
   ]
  },
  {
   "cell_type": "markdown",
   "id": "d5675463-ddc5-41c4-970d-b6dc26f9e322",
   "metadata": {},
   "source": [
    "---\n",
    "\n",
    "##### Step 4: Comparing Validation Methods\n",
    "\n",
    "| Validation Method       | MAE (Example)  | Description                                                                 |\n",
    "|--------------------------|----------------|-----------------------------------------------------------------------------|\n",
    "| Holdout Validation       | 250,000        | Single train-test split, fast but less reliable for small datasets          |\n",
    "| Cross-Validation (5-Fold)| 245,000        | More robust as it evaluates multiple splits                                 |\n",
    "| Nested Cross-Validation  | 240,000        | Ensures unbiased hyperparameter tuning                                     |\n",
    "| Bootstrapping            | 248,000 ± 5,000| Provides uncertainty estimates and works well with small datasets           |\n",
    "\n",
    "---"
   ]
  },
  {
   "cell_type": "markdown",
   "id": "29cbdcbd-fb6d-4ce0-8eea-b87033bbd53a",
   "metadata": {},
   "source": [
    "#### Step 5: Advanced Metrics for Validation\n",
    "\n",
    "While MAE is simple and interpretable, advanced metrics can provide deeper insights:\n",
    "\n",
    "    RMSE (Root Mean Squared Error): Penalizes larger errors more heavily.\n",
    "    R² Score: Measures the proportion of variance explained by the model.\n",
    "    MAPE (Mean Absolute Percentage Error): Expresses error as a percentage of actual values."
   ]
  },
  {
   "cell_type": "code",
   "execution_count": 7,
   "id": "fadf0e0b-bc27-4acd-8913-63e1975623b1",
   "metadata": {},
   "outputs": [
    {
     "name": "stdout",
     "output_type": "stream",
     "text": [
      "RMSE: 479021.168883698\n",
      "R² Score: 0.5785158429616915\n"
     ]
    },
    {
     "name": "stderr",
     "output_type": "stream",
     "text": [
      "/home/yahya-khalaf/Innovayio/Courses/Data Science and Machine Learninng using Python Workshop/env1/lib/python3.12/site-packages/sklearn/metrics/_regression.py:492: FutureWarning: 'squared' is deprecated in version 1.4 and will be removed in 1.6. To calculate the root mean squared error, use the function'root_mean_squared_error'.\n",
      "  warnings.warn(\n"
     ]
    }
   ],
   "source": [
    "from sklearn.metrics import mean_squared_error, r2_score\n",
    "\n",
    "# Compute RMSE\n",
    "rmse = mean_squared_error(val_y, val_predictions, squared=False)\n",
    "print(\"RMSE:\", rmse)\n",
    "\n",
    "# Compute R² Score\n",
    "r2 = r2_score(val_y, val_predictions)\n",
    "print(\"R² Score:\", r2)\n"
   ]
  },
  {
   "cell_type": "markdown",
   "id": "dc5b9e9d-e65a-46d4-b0c2-570f53a87904",
   "metadata": {},
   "source": [
    "#### Step 6: Visualizing Model Performance\n",
    "\n",
    "Visualizations help interpret model performance intuitively.\n",
    "##### Predicted vs Actual Values"
   ]
  },
  {
   "cell_type": "code",
   "execution_count": 8,
   "id": "377009fb-c882-4f94-afb5-2b136e44966c",
   "metadata": {},
   "outputs": [
    {
     "data": {
      "image/png": "[encoded data removed]",
      "text/plain": [
       "<Figure size 640x480 with 1 Axes>"
      ]
     },
     "metadata": {},
     "output_type": "display_data"
    }
   ],
   "source": [
    "import matplotlib.pyplot as plt\n",
    "\n",
    "# Plot predicted vs actual values\n",
    "plt.scatter(val_y, val_predictions, alpha=0.6)\n",
    "plt.xlabel('Actual Prices')\n",
    "plt.ylabel('Predicted Prices')\n",
    "plt.title('Predicted vs Actual Prices')\n",
    "plt.show()\n"
   ]
  },
  {
   "cell_type": "markdown",
   "id": "81273521-dfbe-43fc-9ed8-c1562c796294",
   "metadata": {},
   "source": [
    "##### Residuals Analysis\n",
    "\n",
    "Residuals (differences between actual and predicted values) help diagnose model issues."
   ]
  },
  {
   "cell_type": "code",
   "execution_count": 9,
   "id": "035eaaa8-e029-4b83-ae39-1985bbed8370",
   "metadata": {},
   "outputs": [
    {
     "data": {
      "image/png": "[encoded data removed]",
      "text/plain": [
       "<Figure size 640x480 with 1 Axes>"
      ]
     },
     "metadata": {},
     "output_type": "display_data"
    }
   ],
   "source": [
    "# Compute residuals\n",
    "residuals = val_y - val_predictions\n",
    "\n",
    "# Plot residuals\n",
    "plt.hist(residuals, bins=20, alpha=0.6, color='g')\n",
    "plt.xlabel('Residuals')\n",
    "plt.ylabel('Frequency')\n",
    "plt.title('Distribution of Residuals')\n",
    "plt.show()\n"
   ]
  },
  {
   "cell_type": "code",
   "execution_count": null,
   "id": "b8851061-b4b6-4b34-ba10-3ccf316886ce",
   "metadata": {},
   "outputs": [],
   "source": []
  }
 ],
 "metadata": {
  "kernelspec": {
   "display_name": "Python 3 (ipykernel)",
   "language": "python",
   "name": "python3"
  },
  "language_info": {
   "codemirror_mode": {
    "name": "ipython",
    "version": 3
   },
   "file_extension": ".py",
   "mimetype": "text/x-python",
   "name": "python",
   "nbconvert_exporter": "python",
   "pygments_lexer": "ipython3",
   "version": "3.12.3"
  }
 },
 "nbformat": 4,
 "nbformat_minor": 5
}
