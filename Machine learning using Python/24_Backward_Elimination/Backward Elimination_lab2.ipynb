{
 "cells": [
  {
   "cell_type": "markdown",
   "id": "75e3e5aa",
   "metadata": {},
   "source": [
    "## Backward Elimination: Advanced Feature Selection Techniques\n",
    "\n",
    "Backward elimination is a feature selection technique used in statistical modeling, particularly in linear regression, to identify the most significant predictors for a given model. The goal of backward elimination is to improve model performance by removing features that do not significantly contribute to predicting the target variable."
   ]
  },
  {
   "cell_type": "markdown",
   "id": "45e79cb0-5873-4ac2-a800-1c580acc7e85",
   "metadata": {},
   "source": [
    "##### Step 1: Data Loading and Preprocessing\n",
    "\n",
    "We start by loading the dataset and checking its structure."
   ]
  },
  {
   "cell_type": "code",
   "execution_count": 1,
   "id": "78f874a9",
   "metadata": {},
   "outputs": [
    {
     "data": {
      "text/html": [
       "<div>\n",
       "<style scoped>\n",
       "    .dataframe tbody tr th:only-of-type {\n",
       "        vertical-align: middle;\n",
       "    }\n",
       "\n",
       "    .dataframe tbody tr th {\n",
       "        vertical-align: top;\n",
       "    }\n",
       "\n",
       "    .dataframe thead th {\n",
       "        text-align: right;\n",
       "    }\n",
       "</style>\n",
       "<table border=\"1\" class=\"dataframe\">\n",
       "  <thead>\n",
       "    <tr style=\"text-align: right;\">\n",
       "      <th></th>\n",
       "      <th>R&amp;D Spend</th>\n",
       "      <th>Administration</th>\n",
       "      <th>Marketing Spend</th>\n",
       "      <th>State</th>\n",
       "      <th>Profit</th>\n",
       "    </tr>\n",
       "  </thead>\n",
       "  <tbody>\n",
       "    <tr>\n",
       "      <th>0</th>\n",
       "      <td>165349.20</td>\n",
       "      <td>136897.80</td>\n",
       "      <td>471784.10</td>\n",
       "      <td>New York</td>\n",
       "      <td>192261.83</td>\n",
       "    </tr>\n",
       "    <tr>\n",
       "      <th>1</th>\n",
       "      <td>162597.70</td>\n",
       "      <td>151377.59</td>\n",
       "      <td>443898.53</td>\n",
       "      <td>California</td>\n",
       "      <td>191792.06</td>\n",
       "    </tr>\n",
       "    <tr>\n",
       "      <th>2</th>\n",
       "      <td>153441.51</td>\n",
       "      <td>101145.55</td>\n",
       "      <td>407934.54</td>\n",
       "      <td>Florida</td>\n",
       "      <td>191050.39</td>\n",
       "    </tr>\n",
       "    <tr>\n",
       "      <th>3</th>\n",
       "      <td>144372.41</td>\n",
       "      <td>118671.85</td>\n",
       "      <td>383199.62</td>\n",
       "      <td>New York</td>\n",
       "      <td>182901.99</td>\n",
       "    </tr>\n",
       "    <tr>\n",
       "      <th>4</th>\n",
       "      <td>123456.78</td>\n",
       "      <td>134567.89</td>\n",
       "      <td>378123.45</td>\n",
       "      <td>California</td>\n",
       "      <td>170123.45</td>\n",
       "    </tr>\n",
       "  </tbody>\n",
       "</table>\n",
       "</div>"
      ],
      "text/plain": [
       "   R&D Spend  Administration  Marketing Spend       State     Profit\n",
       "0  165349.20       136897.80        471784.10    New York  192261.83\n",
       "1  162597.70       151377.59        443898.53  California  191792.06\n",
       "2  153441.51       101145.55        407934.54     Florida  191050.39\n",
       "3  144372.41       118671.85        383199.62    New York  182901.99\n",
       "4  123456.78       134567.89        378123.45  California  170123.45"
      ]
     },
     "execution_count": 1,
     "metadata": {},
     "output_type": "execute_result"
    }
   ],
   "source": [
    "import numpy as np # linear algebra\n",
    "import pandas as pd # data processing\n",
    "\n",
    "# Load the dataset\n",
    "data = pd.read_csv('data.csv')\n",
    "data.head(5)"
   ]
  },
  {
   "cell_type": "markdown",
   "id": "cce998f2-2196-4d70-aaa3-f6ab50013c9d",
   "metadata": {},
   "source": [
    "We observe that State is the only categorical variable with more than two unique labels. As such, we use One-Hot Encoding for this feature, since Label Encoding is suitable for binary categories.\n",
    "\n",
    "#### Checking for Missing Values\n",
    "\n",
    "Before proceeding, it's essential to ensure that the dataset doesn't have any missing values."
   ]
  },
  {
   "cell_type": "code",
   "execution_count": 2,
   "id": "51c21506",
   "metadata": {},
   "outputs": [
    {
     "data": {
      "text/plain": [
       "R&D Spend          0\n",
       "Administration     0\n",
       "Marketing Spend    0\n",
       "State              0\n",
       "Profit             0\n",
       "dtype: int64"
      ]
     },
     "execution_count": 2,
     "metadata": {},
     "output_type": "execute_result"
    }
   ],
   "source": [
    "# Check for missing values\n",
    "data.isnull().sum()"
   ]
  },
  {
   "cell_type": "code",
   "execution_count": 3,
   "id": "fd97842d",
   "metadata": {},
   "outputs": [
    {
     "data": {
      "text/html": [
       "<div>\n",
       "<style scoped>\n",
       "    .dataframe tbody tr th:only-of-type {\n",
       "        vertical-align: middle;\n",
       "    }\n",
       "\n",
       "    .dataframe tbody tr th {\n",
       "        vertical-align: top;\n",
       "    }\n",
       "\n",
       "    .dataframe thead th {\n",
       "        text-align: right;\n",
       "    }\n",
       "</style>\n",
       "<table border=\"1\" class=\"dataframe\">\n",
       "  <thead>\n",
       "    <tr style=\"text-align: right;\">\n",
       "      <th></th>\n",
       "      <th>R&amp;D Spend</th>\n",
       "      <th>Administration</th>\n",
       "      <th>Marketing Spend</th>\n",
       "      <th>Profit</th>\n",
       "      <th>State_Florida</th>\n",
       "      <th>State_New York</th>\n",
       "    </tr>\n",
       "  </thead>\n",
       "  <tbody>\n",
       "    <tr>\n",
       "      <th>0</th>\n",
       "      <td>165349.20</td>\n",
       "      <td>136897.80</td>\n",
       "      <td>471784.10</td>\n",
       "      <td>192261.83</td>\n",
       "      <td>False</td>\n",
       "      <td>True</td>\n",
       "    </tr>\n",
       "    <tr>\n",
       "      <th>1</th>\n",
       "      <td>162597.70</td>\n",
       "      <td>151377.59</td>\n",
       "      <td>443898.53</td>\n",
       "      <td>191792.06</td>\n",
       "      <td>False</td>\n",
       "      <td>False</td>\n",
       "    </tr>\n",
       "    <tr>\n",
       "      <th>2</th>\n",
       "      <td>153441.51</td>\n",
       "      <td>101145.55</td>\n",
       "      <td>407934.54</td>\n",
       "      <td>191050.39</td>\n",
       "      <td>True</td>\n",
       "      <td>False</td>\n",
       "    </tr>\n",
       "    <tr>\n",
       "      <th>3</th>\n",
       "      <td>144372.41</td>\n",
       "      <td>118671.85</td>\n",
       "      <td>383199.62</td>\n",
       "      <td>182901.99</td>\n",
       "      <td>False</td>\n",
       "      <td>True</td>\n",
       "    </tr>\n",
       "    <tr>\n",
       "      <th>4</th>\n",
       "      <td>123456.78</td>\n",
       "      <td>134567.89</td>\n",
       "      <td>378123.45</td>\n",
       "      <td>170123.45</td>\n",
       "      <td>False</td>\n",
       "      <td>False</td>\n",
       "    </tr>\n",
       "  </tbody>\n",
       "</table>\n",
       "</div>"
      ],
      "text/plain": [
       "   R&D Spend  Administration  Marketing Spend     Profit  State_Florida  \\\n",
       "0  165349.20       136897.80        471784.10  192261.83          False   \n",
       "1  162597.70       151377.59        443898.53  191792.06          False   \n",
       "2  153441.51       101145.55        407934.54  191050.39           True   \n",
       "3  144372.41       118671.85        383199.62  182901.99          False   \n",
       "4  123456.78       134567.89        378123.45  170123.45          False   \n",
       "\n",
       "   State_New York  \n",
       "0            True  \n",
       "1           False  \n",
       "2           False  \n",
       "3            True  \n",
       "4           False  "
      ]
     },
     "execution_count": 3,
     "metadata": {},
     "output_type": "execute_result"
    }
   ],
   "source": [
    "# Apply One-Hot Encoding for the 'State' column\n",
    "data = pd.get_dummies(data, drop_first=True)  # Drop the first dummy to avoid multicollinearity\n",
    "data.head(5)"
   ]
  },
  {
   "cell_type": "markdown",
   "id": "c4f44a36",
   "metadata": {},
   "source": [
    "##### Step 2: Splitting the Dataset\n",
    "\n",
    "We split the dataset into independent variables X and the dependent variable Y (Profit), and then into training and test sets.\n",
    "\n"
   ]
  },
  {
   "cell_type": "code",
   "execution_count": 4,
   "id": "5d223265",
   "metadata": {},
   "outputs": [],
   "source": [
    "X = data.drop(['Profit'], axis=1)  # Remove the target and categorical columns\n",
    "Y = data['Profit']\n",
    "\n",
    "# Splitting the dataset into training and test sets\n",
    "from sklearn.model_selection import train_test_split\n",
    "X_train, X_test, Y_train, Y_test = train_test_split(X, Y, test_size=0.2, random_state=0)\n"
   ]
  },
  {
   "cell_type": "markdown",
   "id": "da57e3d5-1643-499c-ac89-e0442013488b",
   "metadata": {},
   "source": [
    "##### Step 3: Fitting the Initial Linear Regression Model\n",
    "\n",
    "We train the initial model using Linear Regression and evaluate the performance based on Mean Squared Error (MSE) and Root Mean Squared Error (RMSE)."
   ]
  },
  {
   "cell_type": "code",
   "execution_count": 5,
   "id": "e467abdf-e70d-47f2-8815-caceb18f3512",
   "metadata": {},
   "outputs": [
    {
     "data": {
      "text/plain": [
       "(349678.11, 5.91)"
      ]
     },
     "execution_count": 5,
     "metadata": {},
     "output_type": "execute_result"
    }
   ],
   "source": [
    "from sklearn.linear_model import LinearRegression\n",
    "from sklearn.metrics import mean_squared_error\n",
    "from math import sqrt\n",
    "\n",
    "# Fit the linear regression model\n",
    "regressor = LinearRegression()\n",
    "regressor.fit(X_train, Y_train)\n",
    "\n",
    "# Make predictions on the test set\n",
    "Y_pred = regressor.predict(X_test)\n",
    "\n",
    "# Calculate MSE and RMSE\n",
    "mse = round((mean_squared_error(Y_test, Y_pred)) / 100, 2)\n",
    "rmse = round((sqrt(mse)) / 100, 2)\n",
    "\n",
    "mse, rmse\n"
   ]
  },
  {
   "cell_type": "markdown",
   "id": "486fe41e-731e-4a39-8c6a-1b52572b91e4",
   "metadata": {},
   "source": [
    "##### Step 4: Backward Elimination Process\n",
    "\n",
    "In Backward Elimination, we begin with all features and iteratively remove the least significant feature based on its p-value. The goal is to retain only features that contribute meaningfully to the prediction.\n",
    "Step 4.1: Adding Constant to Features\n",
    "\n",
    "To implement backward elimination using OLS regression (Ordinary Least Squares), we need to add a constant column to our feature set X."
   ]
  },
  {
   "cell_type": "markdown",
   "id": "9ad0719e-3f3a-4676-aa73-2d59a27004ea",
   "metadata": {},
   "source": [
    "##### Step 4.1: Adding Constant to Features\n",
    "\n",
    "To implement backward elimination using OLS regression (Ordinary Least Squares), we need to add a constant column to our feature set X."
   ]
  },
  {
   "cell_type": "code",
   "execution_count": 6,
   "id": "7c742dcb-6323-473b-83bb-473f6132dd47",
   "metadata": {},
   "outputs": [],
   "source": [
    "import statsmodels.api as sm\n",
    "\n",
    "# Add constant column to the features\n",
    "X = sm.add_constant(X)\n"
   ]
  },
  {
   "cell_type": "markdown",
   "id": "b65224fd-db12-417c-8842-c8dc322fccb5",
   "metadata": {},
   "source": [
    "##### Step 4.2: Initial Model Fit\n",
    "\n",
    "We fit the initial model and obtain the summary, which provides p-values for each feature. These p-values will guide our feature elimination.\n",
    "\n"
   ]
  },
  {
   "cell_type": "code",
   "execution_count": 7,
   "id": "f692c851-f895-4b2d-b5dc-540d6f6c0702",
   "metadata": {},
   "outputs": [
    {
     "name": "stdout",
     "output_type": "stream",
     "text": [
      "                            OLS Regression Results                            \n",
      "==============================================================================\n",
      "Dep. Variable:                 Profit   R-squared:                       0.657\n",
      "Model:                            OLS   Adj. R-squared:                  0.571\n",
      "Method:                 Least Squares   F-statistic:                     7.647\n",
      "Date:                Thu, 05 Dec 2024   Prob (F-statistic):           0.000369\n",
      "Time:                        15:34:54   Log-Likelihood:                -253.49\n",
      "No. Observations:                  26   AIC:                             519.0\n",
      "Df Residuals:                      20   BIC:                             526.5\n",
      "Df Model:                           5                                         \n",
      "Covariance Type:            nonrobust                                         \n",
      "===================================================================================\n",
      "                      coef    std err          t      P>|t|      [0.025      0.975]\n",
      "-----------------------------------------------------------------------------------\n",
      "const            8.889e+04   1.85e+04      4.797      0.000    5.02e+04    1.28e+05\n",
      "R&D Spend           0.1228      0.084      1.454      0.161      -0.053       0.299\n",
      "Administration     -0.0884      0.112     -0.788      0.440      -0.322       0.146\n",
      "Marketing Spend     0.2146      0.041      5.267      0.000       0.130       0.300\n",
      "State_Florida    1109.0151   2386.315      0.465      0.647   -3868.751    6086.781\n",
      "State_New York   2181.3759   2268.191      0.962      0.348   -2549.988    6912.740\n",
      "==============================================================================\n",
      "Omnibus:                        1.818   Durbin-Watson:                   1.576\n",
      "Prob(Omnibus):                  0.403   Jarque-Bera (JB):                1.625\n",
      "Skew:                          -0.538   Prob(JB):                        0.444\n",
      "Kurtosis:                       2.413   Cond. No.                     9.35e+06\n",
      "==============================================================================\n",
      "\n",
      "Notes:\n",
      "[1] Standard Errors assume that the covariance matrix of the errors is correctly specified.\n",
      "[2] The condition number is large, 9.35e+06. This might indicate that there are\n",
      "strong multicollinearity or other numerical problems.\n"
     ]
    }
   ],
   "source": [
    "import statsmodels.api as sm\n",
    "\n",
    "# Add a constant column for the intercept\n",
    "X = sm.add_constant(X)\n",
    "\n",
    "# Ensure all data types are float64\n",
    "X = X.astype(float)\n",
    "Y = Y.astype(float)\n",
    "\n",
    "# Fit the OLS model\n",
    "model = sm.OLS(Y, X).fit()\n",
    "\n",
    "# Display the summary\n",
    "print(model.summary())\n"
   ]
  },
  {
   "cell_type": "markdown",
   "id": "b1547470-18ae-439e-8f68-f5ea0619d18b",
   "metadata": {},
   "source": [
    "##### Step 4.3: Removing Features with High p-Values\n",
    "\n",
    "We begin removing the feature with the highest p-value greater than the chosen significance level (commonly 0.05). We iterate this process until all remaining features have p-values below the threshold."
   ]
  },
  {
   "cell_type": "code",
   "execution_count": 8,
   "id": "382ba14a-c902-4917-8628-5d9276a96e67",
   "metadata": {},
   "outputs": [
    {
     "data": {
      "text/html": [
       "<table class=\"simpletable\">\n",
       "<caption>OLS Regression Results</caption>\n",
       "<tr>\n",
       "  <th>Dep. Variable:</th>         <td>Profit</td>      <th>  R-squared:         </th> <td>   0.180</td>\n",
       "</tr>\n",
       "<tr>\n",
       "  <th>Model:</th>                   <td>OLS</td>       <th>  Adj. R-squared:    </th> <td>   0.068</td>\n",
       "</tr>\n",
       "<tr>\n",
       "  <th>Method:</th>             <td>Least Squares</td>  <th>  F-statistic:       </th> <td>   1.612</td>\n",
       "</tr>\n",
       "<tr>\n",
       "  <th>Date:</th>             <td>Thu, 05 Dec 2024</td> <th>  Prob (F-statistic):</th>  <td> 0.215</td> \n",
       "</tr>\n",
       "<tr>\n",
       "  <th>Time:</th>                 <td>15:34:54</td>     <th>  Log-Likelihood:    </th> <td> -264.80</td>\n",
       "</tr>\n",
       "<tr>\n",
       "  <th>No. Observations:</th>      <td>    26</td>      <th>  AIC:               </th> <td>   537.6</td>\n",
       "</tr>\n",
       "<tr>\n",
       "  <th>Df Residuals:</th>          <td>    22</td>      <th>  BIC:               </th> <td>   542.6</td>\n",
       "</tr>\n",
       "<tr>\n",
       "  <th>Df Model:</th>              <td>     3</td>      <th>                     </th>     <td> </td>   \n",
       "</tr>\n",
       "<tr>\n",
       "  <th>Covariance Type:</th>      <td>nonrobust</td>    <th>                     </th>     <td> </td>   \n",
       "</tr>\n",
       "</table>\n",
       "<table class=\"simpletable\">\n",
       "<tr>\n",
       "         <td></td>           <th>coef</th>     <th>std err</th>      <th>t</th>      <th>P>|t|</th>  <th>[0.025</th>    <th>0.975]</th>  \n",
       "</tr>\n",
       "<tr>\n",
       "  <th>const</th>          <td> 1.568e+05</td> <td> 1.46e+04</td> <td>   10.725</td> <td> 0.000</td> <td> 1.26e+05</td> <td> 1.87e+05</td>\n",
       "</tr>\n",
       "<tr>\n",
       "  <th>R&D Spend</th>      <td>    0.2335</td> <td>    0.110</td> <td>    2.132</td> <td> 0.044</td> <td>    0.006</td> <td>    0.461</td>\n",
       "</tr>\n",
       "<tr>\n",
       "  <th>State_Florida</th>  <td> -124.1711</td> <td> 3388.024</td> <td>   -0.037</td> <td> 0.971</td> <td>-7150.503</td> <td> 6902.161</td>\n",
       "</tr>\n",
       "<tr>\n",
       "  <th>State_New York</th> <td>  657.7685</td> <td> 3314.027</td> <td>    0.198</td> <td> 0.844</td> <td>-6215.102</td> <td> 7530.639</td>\n",
       "</tr>\n",
       "</table>\n",
       "<table class=\"simpletable\">\n",
       "<tr>\n",
       "  <th>Omnibus:</th>       <td> 0.381</td> <th>  Durbin-Watson:     </th> <td>   0.907</td>\n",
       "</tr>\n",
       "<tr>\n",
       "  <th>Prob(Omnibus):</th> <td> 0.826</td> <th>  Jarque-Bera (JB):  </th> <td>   0.024</td>\n",
       "</tr>\n",
       "<tr>\n",
       "  <th>Skew:</th>          <td>-0.072</td> <th>  Prob(JB):          </th> <td>   0.988</td>\n",
       "</tr>\n",
       "<tr>\n",
       "  <th>Kurtosis:</th>      <td> 3.037</td> <th>  Cond. No.          </th> <td>1.43e+06</td>\n",
       "</tr>\n",
       "</table><br/><br/>Notes:<br/>[1] Standard Errors assume that the covariance matrix of the errors is correctly specified.<br/>[2] The condition number is large, 1.43e+06. This might indicate that there are<br/>strong multicollinearity or other numerical problems."
      ],
      "text/latex": [
       "\\begin{center}\n",
       "\\begin{tabular}{lclc}\n",
       "\\toprule\n",
       "\\textbf{Dep. Variable:}    &      Profit      & \\textbf{  R-squared:         } &     0.180   \\\\\n",
       "\\textbf{Model:}            &       OLS        & \\textbf{  Adj. R-squared:    } &     0.068   \\\\\n",
       "\\textbf{Method:}           &  Least Squares   & \\textbf{  F-statistic:       } &     1.612   \\\\\n",
       "\\textbf{Date:}             & Thu, 05 Dec 2024 & \\textbf{  Prob (F-statistic):} &    0.215    \\\\\n",
       "\\textbf{Time:}             &     15:34:54     & \\textbf{  Log-Likelihood:    } &   -264.80   \\\\\n",
       "\\textbf{No. Observations:} &          26      & \\textbf{  AIC:               } &     537.6   \\\\\n",
       "\\textbf{Df Residuals:}     &          22      & \\textbf{  BIC:               } &     542.6   \\\\\n",
       "\\textbf{Df Model:}         &           3      & \\textbf{                     } &             \\\\\n",
       "\\textbf{Covariance Type:}  &    nonrobust     & \\textbf{                     } &             \\\\\n",
       "\\bottomrule\n",
       "\\end{tabular}\n",
       "\\begin{tabular}{lcccccc}\n",
       "                         & \\textbf{coef} & \\textbf{std err} & \\textbf{t} & \\textbf{P$> |$t$|$} & \\textbf{[0.025} & \\textbf{0.975]}  \\\\\n",
       "\\midrule\n",
       "\\textbf{const}           &    1.568e+05  &     1.46e+04     &    10.725  &         0.000        &     1.26e+05    &     1.87e+05     \\\\\n",
       "\\textbf{R\\&D Spend}      &       0.2335  &        0.110     &     2.132  &         0.044        &        0.006    &        0.461     \\\\\n",
       "\\textbf{State\\_Florida}  &    -124.1711  &     3388.024     &    -0.037  &         0.971        &    -7150.503    &     6902.161     \\\\\n",
       "\\textbf{State\\_New York} &     657.7685  &     3314.027     &     0.198  &         0.844        &    -6215.102    &     7530.639     \\\\\n",
       "\\bottomrule\n",
       "\\end{tabular}\n",
       "\\begin{tabular}{lclc}\n",
       "\\textbf{Omnibus:}       &  0.381 & \\textbf{  Durbin-Watson:     } &    0.907  \\\\\n",
       "\\textbf{Prob(Omnibus):} &  0.826 & \\textbf{  Jarque-Bera (JB):  } &    0.024  \\\\\n",
       "\\textbf{Skew:}          & -0.072 & \\textbf{  Prob(JB):          } &    0.988  \\\\\n",
       "\\textbf{Kurtosis:}      &  3.037 & \\textbf{  Cond. No.          } & 1.43e+06  \\\\\n",
       "\\bottomrule\n",
       "\\end{tabular}\n",
       "%\\caption{OLS Regression Results}\n",
       "\\end{center}\n",
       "\n",
       "Notes: \\newline\n",
       " [1] Standard Errors assume that the covariance matrix of the errors is correctly specified. \\newline\n",
       " [2] The condition number is large, 1.43e+06. This might indicate that there are \\newline\n",
       " strong multicollinearity or other numerical problems."
      ],
      "text/plain": [
       "<class 'statsmodels.iolib.summary.Summary'>\n",
       "\"\"\"\n",
       "                            OLS Regression Results                            \n",
       "==============================================================================\n",
       "Dep. Variable:                 Profit   R-squared:                       0.180\n",
       "Model:                            OLS   Adj. R-squared:                  0.068\n",
       "Method:                 Least Squares   F-statistic:                     1.612\n",
       "Date:                Thu, 05 Dec 2024   Prob (F-statistic):              0.215\n",
       "Time:                        15:34:54   Log-Likelihood:                -264.80\n",
       "No. Observations:                  26   AIC:                             537.6\n",
       "Df Residuals:                      22   BIC:                             542.6\n",
       "Df Model:                           3                                         \n",
       "Covariance Type:            nonrobust                                         \n",
       "==================================================================================\n",
       "                     coef    std err          t      P>|t|      [0.025      0.975]\n",
       "----------------------------------------------------------------------------------\n",
       "const           1.568e+05   1.46e+04     10.725      0.000    1.26e+05    1.87e+05\n",
       "R&D Spend          0.2335      0.110      2.132      0.044       0.006       0.461\n",
       "State_Florida   -124.1711   3388.024     -0.037      0.971   -7150.503    6902.161\n",
       "State_New York   657.7685   3314.027      0.198      0.844   -6215.102    7530.639\n",
       "==============================================================================\n",
       "Omnibus:                        0.381   Durbin-Watson:                   0.907\n",
       "Prob(Omnibus):                  0.826   Jarque-Bera (JB):                0.024\n",
       "Skew:                          -0.072   Prob(JB):                        0.988\n",
       "Kurtosis:                       3.037   Cond. No.                     1.43e+06\n",
       "==============================================================================\n",
       "\n",
       "Notes:\n",
       "[1] Standard Errors assume that the covariance matrix of the errors is correctly specified.\n",
       "[2] The condition number is large, 1.43e+06. This might indicate that there are\n",
       "strong multicollinearity or other numerical problems.\n",
       "\"\"\""
      ]
     },
     "execution_count": 8,
     "metadata": {},
     "output_type": "execute_result"
    }
   ],
   "source": [
    "# Remove feature with highest p-value (e.g., 'Administration')\n",
    "X = X.drop(['Administration'], axis=1)\n",
    "model = sm.OLS(Y, X).fit()\n",
    "model.summary()\n",
    "\n",
    "# Remove feature with highest p-value (e.g., 'Marketing Spend')\n",
    "X = X.drop(['Marketing Spend'], axis=1)\n",
    "model = sm.OLS(Y, X).fit()\n",
    "model.summary()\n"
   ]
  },
  {
   "cell_type": "markdown",
   "id": "1a1f6d08-f433-4068-8758-ab5b440b0850",
   "metadata": {},
   "source": [
    "##### Step 5: Model Evaluation After Feature Selection\n",
    "\n",
    "After eliminating non-significant features, we re-fit the model and evaluate it again using MSE and RMSE."
   ]
  },
  {
   "cell_type": "code",
   "execution_count": 9,
   "id": "e001a529-6201-42a1-843f-0c3a86527046",
   "metadata": {},
   "outputs": [
    {
     "data": {
      "text/plain": [
       "(390856.61, 6.25)"
      ]
     },
     "execution_count": 9,
     "metadata": {},
     "output_type": "execute_result"
    }
   ],
   "source": [
    "# Train the regression model again with reduced features\n",
    "X_train, X_test, Y_train, Y_test = train_test_split(X, Y, test_size=0.2, random_state=0)\n",
    "regressor = LinearRegression()\n",
    "regressor.fit(X_train, Y_train)\n",
    "\n",
    "# Make predictions on the test set\n",
    "Y_pred = regressor.predict(X_test)\n",
    "\n",
    "# Calculate MSE and RMSE\n",
    "mse = round((mean_squared_error(Y_test, Y_pred)) / 100, 2)\n",
    "rmse = round((sqrt(mse)) / 100, 2)\n",
    "\n",
    "mse, rmse\n"
   ]
  },
  {
   "cell_type": "markdown",
   "id": "1acd4860-fe31-4b7f-8ef2-1b2036d6c7bb",
   "metadata": {},
   "source": [
    "### Advanced Techniques for Feature Selection\n",
    "\n",
    "While backward elimination is a powerful technique, there are more advanced methods for feature selection. Let's explore some of these techniques:\n",
    "1. Stepwise Regression\n",
    "\n",
    "Stepwise regression is an extension of backward elimination, where we consider both adding and removing variables based on their p-values. There are two types:\n",
    "\n",
    "    Forward Stepwise Selection: Starts with no predictors and adds the most significant predictors step by step.\n",
    "    Backward Stepwise Selection: Starts with all predictors and removes the least significant ones step by step.\n",
    "\n",
    "2. Using AIC/BIC for Feature Selection\n",
    "\n",
    "Akaike Information Criterion (AIC) and Bayesian Information Criterion (BIC) are statistical measures that help determine the best model by penalizing complexity. Lower values of AIC/BIC indicate better models. These can be used to select features by comparing the models' AIC/BIC values as you remove features."
   ]
  },
  {
   "cell_type": "code",
   "execution_count": 10,
   "id": "07741d8c-aafe-441f-ae0f-93ffb946fadd",
   "metadata": {},
   "outputs": [
    {
     "name": "stdout",
     "output_type": "stream",
     "text": [
      "AIC: 537.6054486199483\n",
      "BIC: 542.6378347720342\n"
     ]
    }
   ],
   "source": [
    "# Fit model and check AIC and BIC values\n",
    "print(\"AIC:\", model.aic)\n",
    "print(\"BIC:\", model.bic)\n"
   ]
  },
  {
   "cell_type": "markdown",
   "id": "975f8e9f-bee0-4736-9141-46242c2ee940",
   "metadata": {},
   "source": [
    "3. Recursive Feature Elimination (RFE)\n",
    "\n",
    "RFE is an advanced feature selection method where a model is recursively trained and the least important feature is eliminated until the optimal number of features is reached. It is available in scikit-learn."
   ]
  },
  {
   "cell_type": "code",
   "execution_count": 11,
   "id": "51aefc2a-c019-4a4a-8331-3981aa183750",
   "metadata": {},
   "outputs": [
    {
     "data": {
      "text/plain": [
       "Index(['R&D Spend', 'State_Florida', 'State_New York'], dtype='object')"
      ]
     },
     "execution_count": 11,
     "metadata": {},
     "output_type": "execute_result"
    }
   ],
   "source": [
    "from sklearn.feature_selection import RFE\n",
    "from sklearn.linear_model import LinearRegression\n",
    "\n",
    "# Use RFE for feature selection\n",
    "selector = RFE(estimator=LinearRegression(), n_features_to_select=3)\n",
    "selector = selector.fit(X_train, Y_train)\n",
    "\n",
    "# Get selected features\n",
    "selected_features = X.columns[selector.support_]\n",
    "selected_features\n"
   ]
  },
  {
   "cell_type": "code",
   "execution_count": null,
   "id": "fa57e000-9591-4f43-9eaf-0a27ba639f91",
   "metadata": {},
   "outputs": [],
   "source": []
  }
 ],
 "metadata": {
  "kernelspec": {
   "display_name": "Python 3 (ipykernel)",
   "language": "python",
   "name": "python3"
  },
  "language_info": {
   "codemirror_mode": {
    "name": "ipython",
    "version": 3
   },
   "file_extension": ".py",
   "mimetype": "text/x-python",
   "name": "python",
   "nbconvert_exporter": "python",
   "pygments_lexer": "ipython3",
   "version": "3.12.3"
  }
 },
 "nbformat": 4,
 "nbformat_minor": 5
}
