{
 "cells": [
  {
   "cell_type": "markdown",
   "metadata": {},
   "source": [
    "# Movie Recommendation System\n",
    "This notebook demonstrates how to build a movie recommendation system using different collaborative filtering techniques. We will explore:\n",
    "- **User-based Collaborative Filtering**\n",
    "- **Item-based Collaborative Filtering**\n",
    "- **Matrix Factorization (SVD-based)**\n",
    "\n",
    "Each method is explained in detail and implemented in Python, with the goal of recommending movies to users based on their past ratings.\n"
   ]
  },
  {
   "cell_type": "code",
   "execution_count": 1,
   "metadata": {},
   "outputs": [
    {
     "data": {
      "text/html": [
       "<div>\n",
       "<style scoped>\n",
       "    .dataframe tbody tr th:only-of-type {\n",
       "        vertical-align: middle;\n",
       "    }\n",
       "\n",
       "    .dataframe tbody tr th {\n",
       "        vertical-align: top;\n",
       "    }\n",
       "\n",
       "    .dataframe thead th {\n",
       "        text-align: right;\n",
       "    }\n",
       "</style>\n",
       "<table border=\"1\" class=\"dataframe\">\n",
       "  <thead>\n",
       "    <tr style=\"text-align: right;\">\n",
       "      <th></th>\n",
       "      <th>User_ID</th>\n",
       "      <th>Rating</th>\n",
       "      <th>Movie_ID</th>\n",
       "      <th>Year</th>\n",
       "      <th>Name</th>\n",
       "    </tr>\n",
       "  </thead>\n",
       "  <tbody>\n",
       "    <tr>\n",
       "      <th>0</th>\n",
       "      <td>712664</td>\n",
       "      <td>5</td>\n",
       "      <td>3</td>\n",
       "      <td>1997</td>\n",
       "      <td>Character</td>\n",
       "    </tr>\n",
       "    <tr>\n",
       "      <th>1</th>\n",
       "      <td>1331154</td>\n",
       "      <td>4</td>\n",
       "      <td>3</td>\n",
       "      <td>1997</td>\n",
       "      <td>Character</td>\n",
       "    </tr>\n",
       "    <tr>\n",
       "      <th>2</th>\n",
       "      <td>2632461</td>\n",
       "      <td>3</td>\n",
       "      <td>3</td>\n",
       "      <td>1997</td>\n",
       "      <td>Character</td>\n",
       "    </tr>\n",
       "    <tr>\n",
       "      <th>3</th>\n",
       "      <td>44937</td>\n",
       "      <td>5</td>\n",
       "      <td>3</td>\n",
       "      <td>1997</td>\n",
       "      <td>Character</td>\n",
       "    </tr>\n",
       "    <tr>\n",
       "      <th>4</th>\n",
       "      <td>656399</td>\n",
       "      <td>4</td>\n",
       "      <td>3</td>\n",
       "      <td>1997</td>\n",
       "      <td>Character</td>\n",
       "    </tr>\n",
       "  </tbody>\n",
       "</table>\n",
       "</div>"
      ],
      "text/plain": [
       "   User_ID  Rating  Movie_ID  Year       Name\n",
       "0   712664       5         3  1997  Character\n",
       "1  1331154       4         3  1997  Character\n",
       "2  2632461       3         3  1997  Character\n",
       "3    44937       5         3  1997  Character\n",
       "4   656399       4         3  1997  Character"
      ]
     },
     "execution_count": 1,
     "metadata": {},
     "output_type": "execute_result"
    }
   ],
   "source": [
    "# Import necessary libraries\n",
    "import pandas as pd\n",
    "import numpy as np\n",
    "from sklearn.metrics.pairwise import cosine_similarity\n",
    "from scipy.sparse import csr_matrix\n",
    "from sklearn.neighbors import NearestNeighbors\n",
    "from sklearn.decomposition import TruncatedSVD\n",
    "\n",
    "# Load the datasets\n",
    "ratings_df = pd.read_csv('Dataset_Rating.csv')\n",
    "movies_df = pd.read_csv('Dataset_Movie.csv')\n",
    "\n",
    "# Merge the ratings with movie information to get full details\n",
    "merged_df = pd.merge(ratings_df, movies_df, on=\"Movie_ID\")\n",
    "merged_df.head()\n"
   ]
  },
  {
   "cell_type": "markdown",
   "metadata": {},
   "source": [
    "### User-based Collaborative Filtering with Sparse Matrices and Approximate Nearest Neighbors\n",
    "\n",
    "User-based collaborative filtering recommends movies by identifying users who have similar rating patterns. This approach uses a sparse matrix for efficient computation and Nearest Neighbors to find similar users.\n",
    "Steps:\n",
    "\n",
    "    Create a sparse pivot table where each row represents a user, and each column represents a movie. Missing ratings are filled with zero.\n",
    "    Use the NearestNeighbors algorithm to find the k-nearest neighbors for each movie.\n",
    "    For each rated movie, recommend movies that similar users have rated highly.\n",
    "\n"
   ]
  },
  {
   "cell_type": "code",
   "execution_count": 2,
   "metadata": {},
   "outputs": [],
   "source": [
    "# 1. User-based Collaborative Filtering with Sparse Matrices and Approximate Nearest Neighbors\n",
    "def user_based_collaborative_filtering(user_id, n_recommendations=5):\n",
    "    # Create a sparse pivot table for ratings\n",
    "    pivot_table = ratings_df.pivot(index='User_ID', columns='Movie_ID', values='Rating').fillna(0)\n",
    "    pivot_sparse = csr_matrix(pivot_table.values)\n",
    "    \n",
    "    # Compute the similarity using Nearest Neighbors (k-nearest neighbors) for efficiency\n",
    "    nn = NearestNeighbors(metric='cosine', algorithm='auto', n_neighbors=10, n_jobs=-1)\n",
    "    nn.fit(pivot_sparse.T)  # Use the transpose to compute item similarity\n",
    "    distances, indices = nn.kneighbors(pivot_sparse.T)  # Get k-nearest neighbors for each movie\n",
    "\n",
    "    # Get the index of the given user\n",
    "    user_idx = ratings_df[ratings_df['User_ID'] == user_id].drop_duplicates('User_ID').index[0]\n",
    "    \n",
    "    # Find the movies rated by the given user\n",
    "    rated_movie_ids = ratings_df[ratings_df['User_ID'] == user_id]['Movie_ID'].tolist()\n",
    "    \n",
    "    # Initialize a list to store recommended movie IDs\n",
    "    recommended_movies = []\n",
    "    \n",
    "    # For each movie rated by the user, recommend similar movies based on nearest neighbors\n",
    "    for movie_id in rated_movie_ids:\n",
    "        movie_idx = pivot_table.columns.get_loc(movie_id)\n",
    "        # Get the top 5 similar movies for this movie\n",
    "        similar_movies = indices[movie_idx][:n_recommendations]\n",
    "        recommended_movies.extend(similar_movies)\n",
    "    \n",
    "    # Get unique movie IDs from the recommended list (remove duplicates)\n",
    "    recommended_movie_ids = list(set([pivot_table.columns[i] for i in recommended_movies]))\n",
    "    \n",
    "    # Merge with movie details to get movie names and years\n",
    "    recommended_movie_details = movies_df[movies_df['Movie_ID'].isin(recommended_movie_ids)]\n",
    "    \n",
    "    return recommended_movie_details[['Name', 'Year']]\n"
   ]
  },
  {
   "cell_type": "code",
   "execution_count": 3,
   "metadata": {},
   "outputs": [
    {
     "name": "stdout",
     "output_type": "stream",
     "text": [
      "\n",
      "Movies recommended for user 712664 (User-based Collaborative Filtering):\n",
      "                              Name  Year\n",
      "2                        Character  1997\n",
      "15                       Screamers  1996\n",
      "16                       7 Seconds  2005\n",
      "17                Immortal Beloved  1994\n",
      "25                 Never Die Alone  2004\n",
      "27                 Lilo and Stitch  2002\n",
      "29          Something's Gotta Give  2003\n",
      "43                  Spitfire Grill  1996\n",
      "45  Rudolph the Red-Nosed Reindeer  1964\n",
      "46       The Bad and the Beautiful  1952\n",
      "51         The Weather Underground  2002\n",
      "55                       Carandiru  2004\n",
      "56                     Richard III  1995\n",
      "57                     Dragonheart  1996\n",
      "76                           Congo  1995\n",
      "77              Jingle All the Way  1996\n",
      "78                     The Killing  1956\n",
      "82                        Silkwood  1983\n",
      "96                   Mostly Martha  2002\n"
     ]
    }
   ],
   "source": [
    "\n",
    "# Example: Recommend movies for user 712664 based on User-based Collaborative Filtering\n",
    "user_recommendations = user_based_collaborative_filtering(712664)\n",
    "print(\"\\nMovies recommended for user 712664 (User-based Collaborative Filtering):\")\n",
    "print(user_recommendations)\n"
   ]
  },
  {
   "cell_type": "markdown",
   "metadata": {},
   "source": [
    "### Item-based Collaborative Filtering with Sparse Matrices\n",
    "\n",
    "Item-based collaborative filtering recommends movies based on the similarity of items (movies). Similar to user-based filtering, it uses a sparse matrix but focuses on finding similar movies rather than users.\n",
    "Steps:\n",
    "\n",
    "    Create a sparse pivot table of ratings.\n",
    "    Use NearestNeighbors to compute the similarity between movies.\n",
    "    For each movie rated by the user, recommend movies similar to it.\n",
    "\n"
   ]
  },
  {
   "cell_type": "code",
   "execution_count": 4,
   "metadata": {},
   "outputs": [],
   "source": [
    "def item_based_collaborative_filtering(user_id, n_recommendations=5):\n",
    "    # Create a sparse pivot table for ratings\n",
    "    pivot_table = ratings_df.pivot(index='User_ID', columns='Movie_ID', values='Rating').fillna(0)\n",
    "    pivot_sparse = csr_matrix(pivot_table.values)\n",
    "    \n",
    "    # Compute the similarity between items (movies) using Nearest Neighbors\n",
    "    nn = NearestNeighbors(metric='cosine', algorithm='auto', n_neighbors=10, n_jobs=-1)\n",
    "    nn.fit(pivot_sparse)  # Use the regular matrix to compute movie similarity\n",
    "    distances, indices = nn.kneighbors(pivot_sparse, n_neighbors=n_recommendations)\n",
    "    \n",
    "    # Get the movie IDs rated by the user\n",
    "    rated_movie_ids = ratings_df[ratings_df['User_ID'] == user_id]['Movie_ID'].tolist()\n",
    "    \n",
    "    # Initialize a list to store recommended movie IDs\n",
    "    recommended_movies = []\n",
    "    \n",
    "    # For each movie rated by the user, recommend similar movies based on item similarity\n",
    "    for movie_id in rated_movie_ids:\n",
    "        movie_idx = pivot_table.columns.get_loc(movie_id)  # Get column index for the movie\n",
    "        # Get the top similar movies for this movie\n",
    "        similar_movies = indices[movie_idx]\n",
    "        recommended_movies.extend(similar_movies)\n",
    "    \n",
    "    # Get unique movie IDs from the recommended list (remove duplicates)\n",
    "    recommended_movie_ids = list(set([pivot_table.columns[i] for i in recommended_movies if i < len(pivot_table.columns)]))\n",
    "    \n",
    "    # Merge with movie details to get movie names and years\n",
    "    recommended_movie_details = movies_df[movies_df['Movie_ID'].isin(recommended_movie_ids)]\n",
    "    \n",
    "    return recommended_movie_details[['Name', 'Year']]\n"
   ]
  },
  {
   "cell_type": "code",
   "execution_count": 5,
   "metadata": {},
   "outputs": [
    {
     "name": "stdout",
     "output_type": "stream",
     "text": [
      "\n",
      "Movies recommended for user 712664 (Item-based Collaborative Filtering):\n",
      "                Name  Year\n",
      "17  Immortal Beloved  1994\n",
      "76             Congo  1995\n"
     ]
    }
   ],
   "source": [
    "\n",
    "# Example: Recommend movies for user 712664 based on Item-based Collaborative Filtering\n",
    "item_recommendations = item_based_collaborative_filtering(712664)\n",
    "print(\"\\nMovies recommended for user 712664 (Item-based Collaborative Filtering):\")\n",
    "print(item_recommendations)\n"
   ]
  },
  {
   "cell_type": "markdown",
   "metadata": {},
   "source": [
    "### Matrix Factorization (SVD-based Collaborative Filtering)\n",
    "\n",
    "Singular Value Decomposition (SVD) is a matrix factorization technique that reduces the dimensionality of the data. This approach attempts to predict ratings by breaking down the user-item matrix into components and then recombining them.\n",
    "Steps:\n",
    "\n",
    "    Create a sparse pivot table for ratings.\n",
    "    Apply SVD to reduce dimensionality and factorize the matrix.\n",
    "    Compute the predicted ratings by multiplying the user vector with the item vector."
   ]
  },
  {
   "cell_type": "code",
   "execution_count": 6,
   "metadata": {},
   "outputs": [],
   "source": [
    "\n",
    "# 3. Matrix Factorization (SVD-based Collaborative Filtering)\n",
    "def svd_collaborative_filtering(user_id, n_recommendations=5):\n",
    "    # Create a sparse pivot table for ratings\n",
    "    pivot_table = ratings_df.pivot(index='User_ID', columns='Movie_ID', values='Rating').fillna(0)\n",
    "    pivot_sparse = csr_matrix(pivot_table.values)\n",
    "    \n",
    "    # Apply Singular Value Decomposition (SVD) to reduce dimensionality\n",
    "    svd = TruncatedSVD(n_components=5)\n",
    "    matrix_factorization = svd.fit_transform(pivot_sparse)\n",
    "    \n",
    "    # Compute the predicted ratings for all movies for the given user\n",
    "    user_idx = ratings_df[ratings_df['User_ID'] == user_id].drop_duplicates('User_ID').index[0]\n",
    "    predicted_ratings = matrix_factorization[user_idx].dot(svd.components_)\n",
    "    \n",
    "    # Get the movie IDs and their corresponding predicted ratings\n",
    "    predicted_movie_ratings = pd.Series(predicted_ratings, index=pivot_table.columns)\n",
    "    \n",
    "    # Get the top n recommended movies\n",
    "    top_n_recommended_movies = predicted_movie_ratings.sort_values(ascending=False).head(n_recommendations)\n",
    "    \n",
    "    # Merge with movie details to get movie names\n",
    "    recommended_movie_details = movies_df[movies_df['Movie_ID'].isin(top_n_recommended_movies.index)]\n",
    "    \n",
    "    return recommended_movie_details[['Name', 'Year']]\n"
   ]
  },
  {
   "cell_type": "code",
   "execution_count": 7,
   "metadata": {},
   "outputs": [
    {
     "name": "stdout",
     "output_type": "stream",
     "text": [
      "\n",
      "Movies recommended for user 712664 (SVD-based Collaborative Filtering):\n",
      "                          Name  Year\n",
      "7   What the #$*! Do We Know!?  2004\n",
      "16                   7 Seconds  2005\n",
      "25             Never Die Alone  2004\n",
      "29      Something's Gotta Give  2003\n",
      "96               Mostly Martha  2002\n"
     ]
    }
   ],
   "source": [
    "\n",
    "# Example: Recommend movies for user 712664 based on Matrix Factorization (SVD)\n",
    "svd_recommendations = svd_collaborative_filtering(712664)\n",
    "print(\"\\nMovies recommended for user 712664 (SVD-based Collaborative Filtering):\")\n",
    "print(svd_recommendations)\n"
   ]
  },
  {
   "cell_type": "code",
   "execution_count": 8,
   "metadata": {},
   "outputs": [
    {
     "name": "stdout",
     "output_type": "stream",
     "text": [
      "\n",
      "Movies recommended for user 712664 (User-based Collaborative Filtering):\n",
      "                              Name  Year\n",
      "2                        Character  1997\n",
      "15                       Screamers  1996\n",
      "16                       7 Seconds  2005\n",
      "17                Immortal Beloved  1994\n",
      "25                 Never Die Alone  2004\n",
      "27                 Lilo and Stitch  2002\n",
      "29          Something's Gotta Give  2003\n",
      "43                  Spitfire Grill  1996\n",
      "45  Rudolph the Red-Nosed Reindeer  1964\n",
      "46       The Bad and the Beautiful  1952\n",
      "51         The Weather Underground  2002\n",
      "55                       Carandiru  2004\n",
      "56                     Richard III  1995\n",
      "57                     Dragonheart  1996\n",
      "76                           Congo  1995\n",
      "77              Jingle All the Way  1996\n",
      "78                     The Killing  1956\n",
      "82                        Silkwood  1983\n",
      "96                   Mostly Martha  2002\n"
     ]
    }
   ],
   "source": [
    "# Example: Recommend movies for user 712664 based on User-based Collaborative Filtering\n",
    "user_recommendations = user_based_collaborative_filtering(712664)\n",
    "print(\"\\nMovies recommended for user 712664 (User-based Collaborative Filtering):\")\n",
    "print(user_recommendations)\n"
   ]
  },
  {
   "cell_type": "code",
   "execution_count": 9,
   "metadata": {},
   "outputs": [],
   "source": [
    "def item_based_collaborative_filtering(user_id, n_recommendations=5):\n",
    "    # Create a sparse pivot table for ratings\n",
    "    pivot_table = ratings_df.pivot(index='User_ID', columns='Movie_ID', values='Rating').fillna(0)\n",
    "    pivot_sparse = csr_matrix(pivot_table.values)\n",
    "    \n",
    "    # Compute the similarity between items (movies) using Nearest Neighbors\n",
    "    nn = NearestNeighbors(metric='cosine', algorithm='auto', n_neighbors=10, n_jobs=-1)\n",
    "    nn.fit(pivot_sparse)  # Use the regular matrix to compute movie similarity\n",
    "    distances, indices = nn.kneighbors(pivot_sparse, n_neighbors=n_recommendations)\n",
    "    \n",
    "    # Get the movie IDs rated by the user\n",
    "    rated_movie_ids = ratings_df[ratings_df['User_ID'] == user_id]['Movie_ID'].tolist()\n",
    "    \n",
    "    # Initialize a list to store recommended movie IDs\n",
    "    recommended_movies = []\n",
    "    \n",
    "    # For each movie rated by the user, recommend similar movies based on item similarity\n",
    "    for movie_id in rated_movie_ids:\n",
    "        movie_idx = pivot_table.columns.get_loc(movie_id)  # Get column index for the movie\n",
    "        # Get the top similar movies for this movie\n",
    "        similar_movies = indices[movie_idx]\n",
    "        recommended_movies.extend(similar_movies)\n",
    "    \n",
    "    # Get unique movie IDs from the recommended list (remove duplicates)\n",
    "    recommended_movie_ids = list(set([pivot_table.columns[i] for i in recommended_movies if i < len(pivot_table.columns)]))\n",
    "    \n",
    "    # Merge with movie details to get movie names and years\n",
    "    recommended_movie_details = movies_df[movies_df['Movie_ID'].isin(recommended_movie_ids)]\n",
    "    \n",
    "    return recommended_movie_details[['Name', 'Year']]\n"
   ]
  },
  {
   "cell_type": "code",
   "execution_count": 10,
   "metadata": {},
   "outputs": [
    {
     "name": "stdout",
     "output_type": "stream",
     "text": [
      "\n",
      "Movies recommended for user 712664 (Item-based Collaborative Filtering):\n",
      "                Name  Year\n",
      "17  Immortal Beloved  1994\n",
      "76             Congo  1995\n"
     ]
    }
   ],
   "source": [
    "\n",
    "# Example: Recommend movies for user 712664 based on Item-based Collaborative Filtering\n",
    "item_recommendations = item_based_collaborative_filtering(712664)\n",
    "print(\"\\nMovies recommended for user 712664 (Item-based Collaborative Filtering):\")\n",
    "print(item_recommendations)\n"
   ]
  },
  {
   "cell_type": "code",
   "execution_count": 11,
   "metadata": {},
   "outputs": [],
   "source": [
    "\n",
    "# 3. Matrix Factorization (SVD-based Collaborative Filtering)\n",
    "def svd_collaborative_filtering(user_id, n_recommendations=5):\n",
    "    # Create a sparse pivot table for ratings\n",
    "    pivot_table = ratings_df.pivot(index='User_ID', columns='Movie_ID', values='Rating').fillna(0)\n",
    "    pivot_sparse = csr_matrix(pivot_table.values)\n",
    "    \n",
    "    # Apply Singular Value Decomposition (SVD) to reduce dimensionality\n",
    "    svd = TruncatedSVD(n_components=5)\n",
    "    matrix_factorization = svd.fit_transform(pivot_sparse)\n",
    "    \n",
    "    # Compute the predicted ratings for all movies for the given user\n",
    "    user_idx = ratings_df[ratings_df['User_ID'] == user_id].drop_duplicates('User_ID').index[0]\n",
    "    predicted_ratings = matrix_factorization[user_idx].dot(svd.components_)\n",
    "    \n",
    "    # Get the movie IDs and their corresponding predicted ratings\n",
    "    predicted_movie_ratings = pd.Series(predicted_ratings, index=pivot_table.columns)\n",
    "    \n",
    "    # Get the top n recommended movies\n",
    "    top_n_recommended_movies = predicted_movie_ratings.sort_values(ascending=False).head(n_recommendations)\n",
    "    \n",
    "    # Merge with movie details to get movie names\n",
    "    recommended_movie_details = movies_df[movies_df['Movie_ID'].isin(top_n_recommended_movies.index)]\n",
    "    \n",
    "    return recommended_movie_details[['Name', 'Year']]\n"
   ]
  },
  {
   "cell_type": "code",
   "execution_count": 12,
   "metadata": {},
   "outputs": [
    {
     "name": "stdout",
     "output_type": "stream",
     "text": [
      "\n",
      "Movies recommended for user 712664 (SVD-based Collaborative Filtering):\n",
      "                          Name  Year\n",
      "7   What the #$*! Do We Know!?  2004\n",
      "16                   7 Seconds  2005\n",
      "25             Never Die Alone  2004\n",
      "29      Something's Gotta Give  2003\n",
      "96               Mostly Martha  2002\n"
     ]
    }
   ],
   "source": [
    "\n",
    "# Example: Recommend movies for user 712664 based on Matrix Factorization (SVD)\n",
    "svd_recommendations = svd_collaborative_filtering(712664)\n",
    "print(\"\\nMovies recommended for user 712664 (SVD-based Collaborative Filtering):\")\n",
    "print(svd_recommendations)\n"
   ]
  }
 ],
 "metadata": {
  "kernelspec": {
   "display_name": "Python 3 (ipykernel)",
   "language": "python",
   "name": "python3"
  },
  "language_info": {
   "codemirror_mode": {
    "name": "ipython",
    "version": 3
   },
   "file_extension": ".py",
   "mimetype": "text/x-python",
   "name": "python",
   "nbconvert_exporter": "python",
   "pygments_lexer": "ipython3",
   "version": "3.12.3"
  }
 },
 "nbformat": 4,
 "nbformat_minor": 4
}
